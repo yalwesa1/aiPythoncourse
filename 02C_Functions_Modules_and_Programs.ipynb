{
 "cells": [
  {
   "cell_type": "markdown",
   "metadata": {
    "collapsed": true,
    "jupyter": {
     "outputs_hidden": true
    }
   },
   "source": [
    "# Functions, Modules, and Programs"
   ]
  },
  {
   "cell_type": "markdown",
   "metadata": {},
   "source": [
    "### Functions"
   ]
  },
  {
   "cell_type": "markdown",
   "metadata": {},
   "source": [
    "- Function definition syntax\n",
    "```python\n",
    "def func_name(p1, p2, ...):  # Parameters (or formal parameters)\n",
    "    statement block\n",
    "```\n",
    "- Function call syntax\n",
    "```python\n",
    "func_name(a1, a2, ...)  # Arguments (or actual parameters)```\n"
   ]
  },
  {
   "cell_type": "markdown",
   "metadata": {},
   "source": [
    "### 'Built-in functions:' [Link](https://docs.python.org/3/library/functions.html)"
   ]
  },
  {
   "cell_type": "markdown",
   "metadata": {},
   "source": [
    "- The first line is a new function called `hello`. It takes no parameters (nothing inside the parentheses). This line ends with a colon (:).\n",
    "- The next line is indented with four spaces to show that they are within the `hello` function."
   ]
  },
  {
   "cell_type": "code",
   "execution_count": null,
   "metadata": {},
   "outputs": [],
   "source": [
    "def hello(): # function name\n",
    "    print(\"Hello World!\")"
   ]
  },
  {
   "cell_type": "code",
   "execution_count": null,
   "metadata": {},
   "outputs": [],
   "source": [
    "hello()"
   ]
  },
  {
   "cell_type": "markdown",
   "metadata": {},
   "source": [
    "- After the function is defined, we can run these lines of code by referring to the function name:"
   ]
  },
  {
   "cell_type": "code",
   "execution_count": null,
   "metadata": {},
   "outputs": [],
   "source": [
    "hello() # Call a function"
   ]
  },
  {
   "cell_type": "markdown",
   "metadata": {},
   "source": [
    "- Function definition can have changeable parts called parameters.\n",
    "- They are placed inside () in the first line and used in the body of the function."
   ]
  },
  {
   "cell_type": "code",
   "execution_count": null,
   "metadata": {},
   "outputs": [],
   "source": [
    "def Name(firstname, lastname): # firstname and lastname are parameters\n",
    "    print(\"Hello\",firstname, lastname)"
   ]
  },
  {
   "cell_type": "code",
   "execution_count": null,
   "metadata": {},
   "outputs": [],
   "source": [
    "Name(\"Yaseen\",\"Alwesabi\")"
   ]
  },
  {
   "cell_type": "code",
   "execution_count": null,
   "metadata": {},
   "outputs": [],
   "source": [
    "def hello_nam(first,last):\n",
    "    print(f\"Hello, {first} {last}\")"
   ]
  },
  {
   "cell_type": "code",
   "execution_count": null,
   "metadata": {},
   "outputs": [],
   "source": [
    "hello_nam(\"Yaseen\",\"Alwesabi\")"
   ]
  },
  {
   "cell_type": "code",
   "execution_count": null,
   "metadata": {},
   "outputs": [],
   "source": [
    "Name('Jane', 'Smith')  # 'Jane' and 'Smith' are arguments"
   ]
  },
  {
   "cell_type": "code",
   "execution_count": null,
   "metadata": {},
   "outputs": [],
   "source": [
    "Name('Madison', 'John')"
   ]
  },
  {
   "cell_type": "markdown",
   "metadata": {},
   "source": [
    "- Example: John works 20 hours a week, based on his working hours, define a function to caculate his weekly salary, \"$20\" per hour."
   ]
  },
  {
   "cell_type": "code",
   "execution_count": null,
   "metadata": {},
   "outputs": [],
   "source": [
    "def salary(hours, pay):\n",
    "    print(\"John's salary this week is: $\", hours*pay)\n",
    "\n",
    "salary(20,20)"
   ]
  },
  {
   "cell_type": "code",
   "execution_count": null,
   "metadata": {},
   "outputs": [],
   "source": [
    "salary(20,25)"
   ]
  },
  {
   "cell_type": "code",
   "execution_count": null,
   "metadata": {},
   "outputs": [],
   "source": [
    "def salary(hours,pay):\n",
    "    print(f\" The total payment per week is $ {hours*pay} \")\n",
    "salary(20,25)\n",
    "    \n",
    "   "
   ]
  },
  {
   "cell_type": "code",
   "execution_count": null,
   "metadata": {},
   "outputs": [],
   "source": []
  },
  {
   "cell_type": "markdown",
   "metadata": {},
   "source": [
    "### Programs and Modules"
   ]
  },
  {
   "cell_type": "markdown",
   "metadata": {},
   "source": [
    "- Python programs are usually composed of functions, variables, and data. \n",
    "- We can save reusable functions in a module on the hard drive so that they can be used again later.\n",
    "- Basically, a module is a program consisting of Python code."
   ]
  },
  {
   "cell_type": "markdown",
   "metadata": {},
   "source": [
    "- Let's use `temp-converter.py` as an example.\n",
    "- We use '.py' to indicate it's a Python program.\n",
    "- This program contains three functions: `c2f` converts the temperature from Celsius to Fahrenheit; `f2c` converts the temperature from Fahrenheit to Celsius; These two functions are revoked in a function called `main`.\n",
    "- This program is fairly short and could have been written without the `main` function. The use of `main` is customary, not mandatory.\n",
    "- The if-elif-else statement controls the flow of the program. The body of each branch is identified through further indentation.\n",
    "- This last line is not a part of any function definition. It is the starting point of the program."
   ]
  },
  {
   "cell_type": "code",
   "execution_count": 1,
   "metadata": {},
   "outputs": [
    {
     "name": "stdout",
     "output_type": "stream",
     "text": [
      "If you want to convert from °C to °F, press 1.\n",
      "If you want to convert from °F to °C, press 2.\n"
     ]
    },
    {
     "name": "stdin",
     "output_type": "stream",
     "text": [
      "Enter your choice:  2\n",
      "Enter the temperature in °F:  65\n"
     ]
    },
    {
     "name": "stdout",
     "output_type": "stream",
     "text": [
      "The temperature is 18.333333333333336 °C.\n"
     ]
    }
   ],
   "source": [
    "%run Temperature_converter.py\n"
   ]
  },
  {
   "cell_type": "code",
   "execution_count": 3,
   "metadata": {},
   "outputs": [
    {
     "name": "stdout",
     "output_type": "stream",
     "text": [
      "If you want to convert from °C to °F, press 1.\n",
      "If you want to convert from °F to °C, press 2.\n"
     ]
    },
    {
     "name": "stdin",
     "output_type": "stream",
     "text": [
      "Enter your choice:  1\n",
      "Enter the temperature in °C:  37\n"
     ]
    },
    {
     "name": "stdout",
     "output_type": "stream",
     "text": [
      "The temperature is 98.60000000000001 °F.\n"
     ]
    }
   ],
   "source": [
    "%run Temperature_converter.py\n"
   ]
  },
  {
   "cell_type": "code",
   "execution_count": null,
   "metadata": {},
   "outputs": [],
   "source": []
  }
 ],
 "metadata": {
  "kernelspec": {
   "display_name": "Python 3 (ipykernel)",
   "language": "python",
   "name": "python3"
  },
  "language_info": {
   "codemirror_mode": {
    "name": "ipython",
    "version": 3
   },
   "file_extension": ".py",
   "mimetype": "text/x-python",
   "name": "python",
   "nbconvert_exporter": "python",
   "pygments_lexer": "ipython3",
   "version": "3.12.4"
  }
 },
 "nbformat": 4,
 "nbformat_minor": 4
}
