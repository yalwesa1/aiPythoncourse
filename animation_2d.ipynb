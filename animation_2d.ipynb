
# String Basics, Indexing, and Slicing Exercises

# Exercise 1: String Indexing
# ---------------------------
# Given the string "PythonProgramming", write a program to:
# a) Print the first character of the string
# b) Print the last character of the string
# c) Print the character at index 5

string1 = "PythonProgramming"

# Solutions
print("Exercise 1 Solutions:")
print("a) The first character is:", string1[0])
print("b) The last character is:", string1[-1])
print("c) The character at index 5 is:", string1[5])

# Exercise 2: String Slicing
# --------------------------
# Given the string "DataScience", write a program to:
# a) Extract and print the substring "Data"
# b) Extract and print the substring "Science"
# c) Extract and print the substring "Sci" using slicing with a step

string2 = "DataScience"

# Solutions
print("\nExercise 2 Solutions:")
print("a) The substring 'Data' is:", string2[:4])
print("b) The substring 'Science' is:", string2[4:])
print("c) The substring 'Sci' is:", string2[4:7:1])

# Exercise 3: Advanced Slicing
# ----------------------------
# Given the string "abcdefghij", write a program to:
# a) Extract and print the string in reverse order.
# b) Extract and print every second character from the string.
# c) Extract and print the substring 'def' using slicing.

string3 = "abcdefghij"

# Solutions
print("\nExercise 3 Solutions:")
print("a) The string in reverse is:", string3[::-1])
print("b) Every second character is:", string3[::2])
print("c) The substring 'def' is:", string3[3:6])
