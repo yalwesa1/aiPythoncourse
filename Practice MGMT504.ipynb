{
 "cells": [
  {
   "cell_type": "code",
   "execution_count": null,
   "id": "3561add1-e85d-4e61-ad4f-fd358ae6bcb9",
   "metadata": {},
   "outputs": [],
   "source": [
    "print(\"Hello, Python\")"
   ]
  },
  {
   "cell_type": "code",
   "execution_count": null,
   "id": "1082ffa6-c0f7-4db5-8436-e538726f6adf",
   "metadata": {},
   "outputs": [],
   "source": [
    "print(\"Hi\")"
   ]
  },
  {
   "cell_type": "code",
   "execution_count": null,
   "id": "10f4c70c-63c3-4a1a-b27b-ed3ec03a1241",
   "metadata": {},
   "outputs": [],
   "source": []
  },
  {
   "cell_type": "code",
   "execution_count": null,
   "id": "ecdb9470-3b74-45fa-accf-2286c02c987d",
   "metadata": {},
   "outputs": [],
   "source": [
    "print('I like class MGMT504-S1')"
   ]
  },
  {
   "cell_type": "code",
   "execution_count": null,
   "id": "a1754c37-a1c3-42ba-81da-bd68d3e8943c",
   "metadata": {},
   "outputs": [],
   "source": []
  },
  {
   "cell_type": "code",
   "execution_count": null,
   "id": "b2570716-38e2-4d0e-8719-dfd2af3ef01f",
   "metadata": {},
   "outputs": [],
   "source": []
  },
  {
   "cell_type": "code",
   "execution_count": null,
   "id": "3b7318ab-3181-43e7-9641-64a582ae6143",
   "metadata": {},
   "outputs": [],
   "source": []
  },
  {
   "cell_type": "code",
   "execution_count": null,
   "id": "76c725cf-3779-4080-a77c-57dd51a36025",
   "metadata": {},
   "outputs": [],
   "source": []
  },
  {
   "cell_type": "code",
   "execution_count": null,
   "id": "b0725dcb-8a90-419f-87cf-5d46e70bba2e",
   "metadata": {},
   "outputs": [],
   "source": []
  },
  {
   "cell_type": "code",
   "execution_count": null,
   "id": "e644186a-4f03-46ac-9afe-5449bfd40c3b",
   "metadata": {},
   "outputs": [],
   "source": []
  },
  {
   "cell_type": "code",
   "execution_count": null,
   "id": "78c324cf-5a2f-4e80-8455-6586ba2e6320",
   "metadata": {},
   "outputs": [],
   "source": [
    "print('I like class MGMT504-S1')"
   ]
  },
  {
   "cell_type": "code",
   "execution_count": null,
   "id": "0af56ed0-47b1-4448-a412-c7a2b2e7f4b0",
   "metadata": {},
   "outputs": [],
   "source": [
    "print(1+2)\n",
    "print(\"Hi\")\n",
    "\n"
   ]
  },
  {
   "cell_type": "markdown",
   "id": "1fec0642-9b01-4a37-928a-c166b96bd7a9",
   "metadata": {},
   "source": [
    "# 1. Introduction\n",
    "## 1. Introduction\n",
    "###### 1. Introduction"
   ]
  },
  {
   "cell_type": "markdown",
   "id": "f133dd86-223f-468c-a134-757f283bd86b",
   "metadata": {},
   "source": [
    "* item 1\n",
    "    * subitem"
   ]
  },
  {
   "cell_type": "markdown",
   "id": "0c465888-a315-4694-9eda-7412b5769181",
   "metadata": {},
   "source": [
    "### Paragraph 1\n",
    "\n",
    "Hello to MGMT504-S1. \n",
    "\n",
    "You are welcome to ai & Python class"
   ]
  },
  {
   "cell_type": "code",
   "execution_count": null,
   "id": "269ce00b-f29c-4a84-bd3b-2295a666823e",
   "metadata": {},
   "outputs": [],
   "source": []
  }
 ],
 "metadata": {
  "kernelspec": {
   "display_name": "Python 3 (ipykernel)",
   "language": "python",
   "name": "python3"
  },
  "language_info": {
   "codemirror_mode": {
    "name": "ipython",
    "version": 3
   },
   "file_extension": ".py",
   "mimetype": "text/x-python",
   "name": "python",
   "nbconvert_exporter": "python",
   "pygments_lexer": "ipython3",
   "version": "3.12.4"
  }
 },
 "nbformat": 4,
 "nbformat_minor": 5
}
