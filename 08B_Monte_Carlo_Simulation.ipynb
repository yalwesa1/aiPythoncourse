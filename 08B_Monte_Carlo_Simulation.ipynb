{
 "cells": [
  {
   "cell_type": "markdown",
   "metadata": {},
   "source": [
    "# Monte Carlo Simulation"
   ]
  },
  {
   "cell_type": "markdown",
   "metadata": {},
   "source": [
    "### The Basics"
   ]
  },
  {
   "cell_type": "markdown",
   "metadata": {},
   "source": [
    "- Monte Carlo Simulation is a technique that approximates the solution to a problem through statistical sampling.\n",
    "- In Monte Carlo Simulation, a model is simulated a large number of times. \n",
    "- Each simulation is referred to as a realization, and it represents a possible \"future\" of the system.\n",
    "- It was named after the Monte Carlo Casino in Monaco.\n",
    "<img src=\"images/monte_carlo_casino.jpg\" alt=\"Monte Carlo Casino\" style=\"width: 300px;\"/>"
   ]
  },
  {
   "cell_type": "markdown",
   "metadata": {},
   "source": [
    "### Example: Monty Hall Problem"
   ]
  },
  {
   "cell_type": "markdown",
   "metadata": {},
   "source": [
    "- A detailed description of the Monty Hall problem:\n",
    "    - [Monty Hall Problem - Numberphile](https://youtu.be/4Lb-6rxZxx0)\n",
    "    - [Monty Hall Problem Express Explanation](https://youtu.be/C4vRTzsv4os)\n",
    "- A contestant is given the chance of three doors. Behind one door is a sports car; behind the other two are goats.\n",
    "- The contestant picks a door and then the host, who knows everything, opens a losing door, which has a goat.\n",
    "- The host then asks whether the contestant would like to stick to the original choice or switch to the remaining unopened door."
   ]
  },
  {
   "cell_type": "markdown",
   "metadata": {
    "collapsed": true,
    "jupyter": {
     "outputs_hidden": true
    }
   },
   "source": [
    "<img src=\"images/monte_hall_problem_1.png\" alt=\"Monte Hall Problem (Three Doors)\" style=\"width: 200px;\"/>"
   ]
  },
  {
   "cell_type": "markdown",
   "metadata": {
    "collapsed": true,
    "jupyter": {
     "outputs_hidden": true
    }
   },
   "source": [
    "- It turns out it is always better to switch.\n",
    "<img src=\"images/monte_hall_problem_1_analysis.png\" alt=\"Monte Hall Problem Analysis (Three Doors)\" style=\"width: 215px;\"/>"
   ]
  },
  {
   "cell_type": "code",
   "execution_count": 1,
   "metadata": {},
   "outputs": [
    {
     "name": "stdout",
     "output_type": "stream",
     "text": [
      "Winning probability if you always switch: 0.66763\n",
      "Winning probability if you always stick to your original choice: 0.33237\n"
     ]
    }
   ],
   "source": [
    "import random\n",
    "\n",
    "doors = ['goat']*2 + ['car']\n",
    "simulation = 100000\n",
    "switch_wins = 0\n",
    "stick_wins = 0\n",
    "\n",
    "for i in range(simulation):\n",
    "    random.shuffle(doors)  # Place the car randomly behind one of three doors\n",
    "    k = random.randrange(3)  # The contestant picks door k\n",
    "    \n",
    "    if doors[k] != 'car': # If your original choice is not 'car', you win if you switch\n",
    "        switch_wins += 1\n",
    "    else:  # If your orginal choice is 'car', you win if and you stick\n",
    "        stick_wins += 1\n",
    "\n",
    "print('Winning probability if you always switch:', switch_wins/simulation)\n",
    "print('Winning probability if you always stick to your original choice:', stick_wins/simulation)"
   ]
  },
  {
   "cell_type": "markdown",
   "metadata": {},
   "source": [
    "- What if there are 10 doors instead of 3? How should we change the program?\n",
    "<img src=\"images/monte_hall_problem_2.png\" alt=\"Monte Hall Problem Analysis (Ten Doors)\" style=\"width: 500px;\"/>\n",
    "<img src=\"images/monte_hall_problem_2_analysis.png\" alt=\"Monte Hall Problem Analysis (Ten Doors)\" style=\"width: 500px;\"/>"
   ]
  },
  {
   "cell_type": "code",
   "execution_count": null,
   "metadata": {},
   "outputs": [],
   "source": []
  },
  {
   "cell_type": "code",
   "execution_count": null,
   "metadata": {},
   "outputs": [],
   "source": []
  },
  {
   "cell_type": "code",
   "execution_count": null,
   "metadata": {},
   "outputs": [],
   "source": []
  },
  {
   "cell_type": "code",
   "execution_count": null,
   "metadata": {},
   "outputs": [],
   "source": []
  },
  {
   "cell_type": "code",
   "execution_count": 14,
   "metadata": {},
   "outputs": [
    {
     "name": "stdout",
     "output_type": "stream",
     "text": [
      "Winning probability if you always switch: 0.1123725\n",
      "Winning probability if you always stick to your original choice: 0.10102\n"
     ]
    }
   ],
   "source": [
    "# Correct Answer. \n",
    "\n",
    "import random\n",
    "\n",
    "doors = ['goat']*9+ ['car']\n",
    "simulation = 100000\n",
    "switch_wins = 0\n",
    "stick_wins = 0\n",
    "\n",
    "for i in range(simulation):\n",
    "    random.shuffle(doors)  # Place the car randomly behind one of three doors\n",
    "    k = random.randrange(len(doors))  # The contestant picks door k\n",
    "    \n",
    "    if doors[k] != 'car': # If your original choice is not 'car', you win if you switch\n",
    "        switch_wins += (1/8)\n",
    "    else:  # If your orginal choice is 'car', you win if and you stick\n",
    "        stick_wins += 1\n",
    "\n",
    "print('Winning probability if you always switch:', switch_wins/simulation)\n",
    "print('Winning probability if you always stick to your original choice:', stick_wins/simulation)"
   ]
  },
  {
   "cell_type": "markdown",
   "metadata": {},
   "source": [
    "### AI generated code for Monty Hall problem (interactive with a user)"
   ]
  },
  {
   "cell_type": "code",
   "execution_count": 1,
   "metadata": {},
   "outputs": [
    {
     "name": "stdout",
     "output_type": "stream",
     "text": [
      "Welcome to the Monty Hall Game!\n",
      "\n",
      "There are 3 doors: Behind one door is a car, behind the other two are goats.\n",
      "You have to choose one door.\n"
     ]
    },
    {
     "name": "stdin",
     "output_type": "stream",
     "text": [
      "Pick a door (1, 2, or 3):  3\n"
     ]
    },
    {
     "ename": "NameError",
     "evalue": "name 'random' is not defined",
     "output_type": "error",
     "traceback": [
      "\u001b[1;31m---------------------------------------------------------------------------\u001b[0m",
      "\u001b[1;31mNameError\u001b[0m                                 Traceback (most recent call last)",
      "Cell \u001b[1;32mIn[1], line 66\u001b[0m\n\u001b[0;32m     63\u001b[0m             \u001b[38;5;28;01mbreak\u001b[39;00m\n\u001b[0;32m     65\u001b[0m \u001b[38;5;66;03m#if __name__ == \"__main__\":\u001b[39;00m\n\u001b[1;32m---> 66\u001b[0m \u001b[43mplay_game\u001b[49m\u001b[43m(\u001b[49m\u001b[43m)\u001b[49m\n",
      "Cell \u001b[1;32mIn[1], line 40\u001b[0m, in \u001b[0;36mplay_game\u001b[1;34m()\u001b[0m\n\u001b[0;32m     37\u001b[0m         \u001b[38;5;28mprint\u001b[39m(\u001b[38;5;124m\"\u001b[39m\u001b[38;5;124mPlease enter a valid number.\u001b[39m\u001b[38;5;124m\"\u001b[39m)\n\u001b[0;32m     39\u001b[0m doors \u001b[38;5;241m=\u001b[39m [\u001b[38;5;124m'\u001b[39m\u001b[38;5;124mgoat\u001b[39m\u001b[38;5;124m'\u001b[39m, \u001b[38;5;124m'\u001b[39m\u001b[38;5;124mgoat\u001b[39m\u001b[38;5;124m'\u001b[39m, \u001b[38;5;124m'\u001b[39m\u001b[38;5;124mcar\u001b[39m\u001b[38;5;124m'\u001b[39m]\n\u001b[1;32m---> 40\u001b[0m \u001b[43mrandom\u001b[49m\u001b[38;5;241m.\u001b[39mshuffle(doors)\n\u001b[0;32m     42\u001b[0m \u001b[38;5;66;03m# Monty opens a door with a goat (not the player's choice and not the car)\u001b[39;00m\n\u001b[0;32m     43\u001b[0m remaining_doors \u001b[38;5;241m=\u001b[39m [i \u001b[38;5;28;01mfor\u001b[39;00m i \u001b[38;5;129;01min\u001b[39;00m \u001b[38;5;28mrange\u001b[39m(\u001b[38;5;241m3\u001b[39m) \u001b[38;5;28;01mif\u001b[39;00m i \u001b[38;5;241m!=\u001b[39m player_choice \u001b[38;5;129;01mand\u001b[39;00m doors[i] \u001b[38;5;241m==\u001b[39m \u001b[38;5;124m'\u001b[39m\u001b[38;5;124mgoat\u001b[39m\u001b[38;5;124m'\u001b[39m]\n",
      "\u001b[1;31mNameError\u001b[0m: name 'random' is not defined"
     ]
    }
   ],
   "source": [
    "### import random\n",
    "\n",
    "def simulate_game(switch):\n",
    "    doors = ['goat', 'goat', 'car']\n",
    "    random.shuffle(doors)\n",
    "\n",
    "    # The player makes an initial choice (randomly)\n",
    "    player_choice = random.randint(0, 2)\n",
    "\n",
    "    # Monty opens a door with a goat (not the player's choice and not the car)\n",
    "    remaining_doors = [i for i in range(3) if i != player_choice and doors[i] == 'goat']\n",
    "    monty_opens = random.choice(remaining_doors)\n",
    "\n",
    "    # Determine if the player switches\n",
    "    if switch:\n",
    "        # Player switches to the other unopened door\n",
    "        player_choice = [i for i in range(3) if i != player_choice and i != monty_opens][0]\n",
    "\n",
    "    return doors[player_choice] == 'car'\n",
    "\n",
    "def play_game():\n",
    "    print(\"Welcome to the Monty Hall Game!\")\n",
    "    \n",
    "    while True:\n",
    "        # Ask player for input\n",
    "        print(\"\\nThere are 3 doors: Behind one door is a car, behind the other two are goats.\")\n",
    "        print(\"You have to choose one door.\")\n",
    "        \n",
    "        while True:\n",
    "            try:\n",
    "                player_choice = int(input(\"Pick a door (1, 2, or 3): \")) - 1\n",
    "                if player_choice in [0, 1, 2]:\n",
    "                    break\n",
    "                else:\n",
    "                    print(\"Please choose a valid door number (1, 2, or 3).\")\n",
    "            except ValueError:\n",
    "                print(\"Please enter a valid number.\")\n",
    "        \n",
    "        doors = ['goat', 'goat', 'car']\n",
    "        random.shuffle(doors)\n",
    "\n",
    "        # Monty opens a door with a goat (not the player's choice and not the car)\n",
    "        remaining_doors = [i for i in range(3) if i != player_choice and doors[i] == 'goat']\n",
    "        monty_opens = random.choice(remaining_doors)\n",
    "        print(f\"Monty opens door {monty_opens + 1}, and there is a goat behind it!\")\n",
    "\n",
    "        # Ask if the player wants to switch\n",
    "        switch_choice = input(\"Do you want to switch to the remaining unopened door? (y/n): \").lower()\n",
    "        switch = switch_choice == 'y'\n",
    "\n",
    "        # Determine if the player won\n",
    "        final_choice = [i for i in range(3) if i != player_choice and i != monty_opens][0] if switch else player_choice\n",
    "        print(f\"You chose door {final_choice + 1}.\")\n",
    "        \n",
    "        if doors[final_choice] == 'car':\n",
    "            print(\"Congratulations! You won the car!\")\n",
    "        else:\n",
    "            print(\"Sorry, it's a goat. You lost.\")\n",
    "\n",
    "        # Ask if the player wants to play again\n",
    "        play_again = input(\"\\nDo you want to play again? (y/n): \").lower()\n",
    "        if play_again != 'y':\n",
    "            break\n",
    "\n",
    "#if __name__ == \"__main__\":\n",
    "play_game()\n"
   ]
  },
  {
   "cell_type": "code",
   "execution_count": null,
   "metadata": {},
   "outputs": [],
   "source": []
  },
  {
   "cell_type": "code",
   "execution_count": 3,
   "metadata": {},
   "outputs": [],
   "source": [
    "import tkinter as tk\n",
    "from tkinter import messagebox\n",
    "import random\n",
    "\n",
    "class MontyHallGame:\n",
    "    def __init__(self, root):\n",
    "        self.root = root\n",
    "        self.root.title(\"Monty Hall Game by Dr. Alwesabi\")\n",
    "        self.root.geometry(\"400x300\")\n",
    "        \n",
    "        # Setup game variables\n",
    "        self.doors = ['goat', 'goat', 'car']\n",
    "        self.player_choice = None\n",
    "        self.monty_opens = None\n",
    "        self.switch = False\n",
    "\n",
    "        # Create UI components\n",
    "        self.label = tk.Label(root, text=\"Welcome to the Monty Hall Game for MGMT504 Class!\", font=(\"Arial\", 14))\n",
    "        self.label.pack(pady=10)\n",
    "\n",
    "        self.choose_label = tk.Label(root, text=\"Choose a door (1, 2, or 3):\", font=(\"Arial\", 12))\n",
    "        self.choose_label.pack(pady=5)\n",
    "\n",
    "        self.buttons = []\n",
    "        for i in range(3):\n",
    "            btn = tk.Button(root, text=f\"Door {i + 1}\", width=10, height=2, command=lambda i=i: self.choose_door(i))\n",
    "            btn.pack(side=tk.LEFT, padx=10, pady=20)\n",
    "            self.buttons.append(btn)\n",
    "\n",
    "        self.switch_button = tk.Button(root, text=\"Switch Door\", command=self.switch_door, state=tk.DISABLED)\n",
    "        self.switch_button.pack(pady=10)\n",
    "\n",
    "        self.stay_button = tk.Button(root, text=\"Stay with Door\", command=self.stay_with_door, state=tk.DISABLED)\n",
    "        self.stay_button.pack(pady=10)\n",
    "\n",
    "    def choose_door(self, choice):\n",
    "        self.player_choice = choice\n",
    "        self.start_game()\n",
    "\n",
    "    def start_game(self):\n",
    "        random.shuffle(self.doors)\n",
    "        self.choose_label.config(text=f\"You chose Door {self.player_choice + 1}. Let's see what's behind the other doors...\")\n",
    "\n",
    "        # Monty reveals a goat behind another door\n",
    "        remaining_doors = [i for i in range(3) if i != self.player_choice and self.doors[i] == 'goat']\n",
    "        self.monty_opens = random.choice(remaining_doors)\n",
    "\n",
    "        messagebox.showinfo(\"Monty Opens a Door\", f\"Monty opens Door {self.monty_opens + 1}, revealing a goat!\")\n",
    "\n",
    "        # Enable switch and stay buttons\n",
    "        self.switch_button.config(state=tk.NORMAL)\n",
    "        self.stay_button.config(state=tk.NORMAL)\n",
    "\n",
    "    def switch_door(self):\n",
    "        self.switch = True\n",
    "        self.final_choice()\n",
    "\n",
    "    def stay_with_door(self):\n",
    "        self.switch = False\n",
    "        self.final_choice()\n",
    "\n",
    "    def final_choice(self):\n",
    "        if self.switch:\n",
    "            self.player_choice = [i for i in range(3) if i != self.player_choice and i != self.monty_opens][0]\n",
    "        \n",
    "        # Show final result\n",
    "        self.reveal_result()\n",
    "\n",
    "    def reveal_result(self):\n",
    "        result = \"Congratulations! You won the car!\" if self.doors[self.player_choice] == 'car' else \"Sorry, it's a goat. You lost.\"\n",
    "        messagebox.showinfo(\"Final Result\", result)\n",
    "\n",
    "        # Reset game for replay\n",
    "        self.reset_game()\n",
    "\n",
    "    def reset_game(self):\n",
    "        self.doors = ['goat', 'goat', 'car']\n",
    "        self.player_choice = None\n",
    "        self.monty_opens = None\n",
    "        self.switch = False\n",
    "        self.choose_label.config(text=\"Choose a door (1, 2, or 3):\")\n",
    "        self.switch_button.config(state=tk.DISABLED)\n",
    "        self.stay_button.config(state=tk.DISABLED)\n",
    "\n",
    "if __name__ == \"__main__\":\n",
    "    root = tk.Tk()\n",
    "    game = MontyHallGame(root)\n",
    "    root.mainloop()\n"
   ]
  },
  {
   "cell_type": "code",
   "execution_count": null,
   "metadata": {},
   "outputs": [],
   "source": []
  }
 ],
 "metadata": {
  "kernelspec": {
   "display_name": "Python 3 (ipykernel)",
   "language": "python",
   "name": "python3"
  },
  "language_info": {
   "codemirror_mode": {
    "name": "ipython",
    "version": 3
   },
   "file_extension": ".py",
   "mimetype": "text/x-python",
   "name": "python",
   "nbconvert_exporter": "python",
   "pygments_lexer": "ipython3",
   "version": "3.12.4"
  }
 },
 "nbformat": 4,
 "nbformat_minor": 4
}
