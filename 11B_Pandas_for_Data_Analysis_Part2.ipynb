{
 "cells": [
  {
   "cell_type": "markdown",
   "metadata": {
    "collapsed": true,
    "jupyter": {
     "outputs_hidden": true
    }
   },
   "source": [
    "# Pandas for Data Analysis (Part 2 of 2)"
   ]
  },
  {
   "cell_type": "code",
   "execution_count": 1,
   "metadata": {},
   "outputs": [],
   "source": [
    "import numpy as np\n",
    "import pandas as pd"
   ]
  },
  {
   "cell_type": "markdown",
   "metadata": {},
   "source": [
    "### Creating a DataFrame"
   ]
  },
  {
   "cell_type": "code",
   "execution_count": 3,
   "metadata": {},
   "outputs": [
    {
     "data": {
      "text/plain": [
       "DatetimeIndex(['2022-01-01', '2022-01-02', '2022-01-03', '2022-01-04'], dtype='datetime64[ns]', name='DateTime', freq='D')"
      ]
     },
     "execution_count": 3,
     "metadata": {},
     "output_type": "execute_result"
    }
   ],
   "source": [
    "index = pd.DatetimeIndex(['2022-01-01', '2022-01-02', '2022-01-03', '2022-01-04'], name='DateTime', freq='D')\n",
    "index"
   ]
  },
  {
   "cell_type": "code",
   "execution_count": 5,
   "metadata": {},
   "outputs": [
    {
     "data": {
      "text/plain": [
       "['A', 'B', 'C']"
      ]
     },
     "execution_count": 5,
     "metadata": {},
     "output_type": "execute_result"
    }
   ],
   "source": [
    "columns = ['A', 'B', 'C']\n",
    "columns"
   ]
  },
  {
   "cell_type": "code",
   "execution_count": 7,
   "metadata": {},
   "outputs": [
    {
     "data": {
      "text/plain": [
       "array([[  0.1,   nan, 100. ],\n",
       "       [  1.3,   1. ,   0.4],\n",
       "       [  0.8,   1. ,   0.9],\n",
       "       [  0.6,   nan,   1.5]])"
      ]
     },
     "execution_count": 7,
     "metadata": {},
     "output_type": "execute_result"
    }
   ],
   "source": [
    "values = np.array([[0.1, np.NaN, 100],\n",
    "                   [1.3, 1.0,      0.4],\n",
    "                   [0.8, 1.0,      0.9],\n",
    "                   [0.6, np.NaN, 1.5]])\n",
    "values"
   ]
  },
  {
   "cell_type": "code",
   "execution_count": 9,
   "metadata": {
    "scrolled": true
   },
   "outputs": [
    {
     "data": {
      "text/html": [
       "<div>\n",
       "<style scoped>\n",
       "    .dataframe tbody tr th:only-of-type {\n",
       "        vertical-align: middle;\n",
       "    }\n",
       "\n",
       "    .dataframe tbody tr th {\n",
       "        vertical-align: top;\n",
       "    }\n",
       "\n",
       "    .dataframe thead th {\n",
       "        text-align: right;\n",
       "    }\n",
       "</style>\n",
       "<table border=\"1\" class=\"dataframe\">\n",
       "  <thead>\n",
       "    <tr style=\"text-align: right;\">\n",
       "      <th></th>\n",
       "      <th>A</th>\n",
       "      <th>B</th>\n",
       "      <th>C</th>\n",
       "    </tr>\n",
       "    <tr>\n",
       "      <th>DateTime</th>\n",
       "      <th></th>\n",
       "      <th></th>\n",
       "      <th></th>\n",
       "    </tr>\n",
       "  </thead>\n",
       "  <tbody>\n",
       "    <tr>\n",
       "      <th>2022-01-01</th>\n",
       "      <td>0.1</td>\n",
       "      <td>NaN</td>\n",
       "      <td>100.0</td>\n",
       "    </tr>\n",
       "    <tr>\n",
       "      <th>2022-01-02</th>\n",
       "      <td>1.3</td>\n",
       "      <td>1.0</td>\n",
       "      <td>0.4</td>\n",
       "    </tr>\n",
       "    <tr>\n",
       "      <th>2022-01-03</th>\n",
       "      <td>0.8</td>\n",
       "      <td>1.0</td>\n",
       "      <td>0.9</td>\n",
       "    </tr>\n",
       "    <tr>\n",
       "      <th>2022-01-04</th>\n",
       "      <td>0.6</td>\n",
       "      <td>NaN</td>\n",
       "      <td>1.5</td>\n",
       "    </tr>\n",
       "  </tbody>\n",
       "</table>\n",
       "</div>"
      ],
      "text/plain": [
       "              A    B      C\n",
       "DateTime                   \n",
       "2022-01-01  0.1  NaN  100.0\n",
       "2022-01-02  1.3  1.0    0.4\n",
       "2022-01-03  0.8  1.0    0.9\n",
       "2022-01-04  0.6  NaN    1.5"
      ]
     },
     "execution_count": 9,
     "metadata": {},
     "output_type": "execute_result"
    }
   ],
   "source": [
    "df = pd.DataFrame(values, index=index, columns=columns)\n",
    "df"
   ]
  },
  {
   "cell_type": "markdown",
   "metadata": {},
   "source": [
    "### Mean and Cumsum"
   ]
  },
  {
   "cell_type": "code",
   "execution_count": 11,
   "metadata": {},
   "outputs": [
    {
     "data": {
      "text/plain": [
       "A     0.7\n",
       "B     1.0\n",
       "C    25.7\n",
       "dtype: float64"
      ]
     },
     "execution_count": 11,
     "metadata": {},
     "output_type": "execute_result"
    }
   ],
   "source": [
    "df.mean()  # Mean of each column"
   ]
  },
  {
   "cell_type": "code",
   "execution_count": 13,
   "metadata": {},
   "outputs": [
    {
     "data": {
      "text/plain": [
       "0.7000000000000001"
      ]
     },
     "execution_count": 13,
     "metadata": {},
     "output_type": "execute_result"
    }
   ],
   "source": [
    "df.A.mean() "
   ]
  },
  {
   "cell_type": "code",
   "execution_count": 15,
   "metadata": {
    "scrolled": true
   },
   "outputs": [
    {
     "data": {
      "text/plain": [
       "DateTime\n",
       "2022-01-01    50.05\n",
       "2022-01-02     0.90\n",
       "2022-01-03     0.90\n",
       "2022-01-04     1.05\n",
       "Freq: D, dtype: float64"
      ]
     },
     "execution_count": 15,
     "metadata": {},
     "output_type": "execute_result"
    }
   ],
   "source": [
    "df.mean(axis=1)  # Mean of each row"
   ]
  },
  {
   "cell_type": "code",
   "execution_count": 17,
   "metadata": {},
   "outputs": [
    {
     "data": {
      "text/html": [
       "<div>\n",
       "<style scoped>\n",
       "    .dataframe tbody tr th:only-of-type {\n",
       "        vertical-align: middle;\n",
       "    }\n",
       "\n",
       "    .dataframe tbody tr th {\n",
       "        vertical-align: top;\n",
       "    }\n",
       "\n",
       "    .dataframe thead th {\n",
       "        text-align: right;\n",
       "    }\n",
       "</style>\n",
       "<table border=\"1\" class=\"dataframe\">\n",
       "  <thead>\n",
       "    <tr style=\"text-align: right;\">\n",
       "      <th></th>\n",
       "      <th>A</th>\n",
       "      <th>B</th>\n",
       "      <th>C</th>\n",
       "    </tr>\n",
       "    <tr>\n",
       "      <th>DateTime</th>\n",
       "      <th></th>\n",
       "      <th></th>\n",
       "      <th></th>\n",
       "    </tr>\n",
       "  </thead>\n",
       "  <tbody>\n",
       "    <tr>\n",
       "      <th>2022-01-01</th>\n",
       "      <td>0.1</td>\n",
       "      <td>NaN</td>\n",
       "      <td>100.0</td>\n",
       "    </tr>\n",
       "    <tr>\n",
       "      <th>2022-01-02</th>\n",
       "      <td>1.3</td>\n",
       "      <td>1.0</td>\n",
       "      <td>0.4</td>\n",
       "    </tr>\n",
       "    <tr>\n",
       "      <th>2022-01-03</th>\n",
       "      <td>0.8</td>\n",
       "      <td>1.0</td>\n",
       "      <td>0.9</td>\n",
       "    </tr>\n",
       "    <tr>\n",
       "      <th>2022-01-04</th>\n",
       "      <td>0.6</td>\n",
       "      <td>NaN</td>\n",
       "      <td>1.5</td>\n",
       "    </tr>\n",
       "  </tbody>\n",
       "</table>\n",
       "</div>"
      ],
      "text/plain": [
       "              A    B      C\n",
       "DateTime                   \n",
       "2022-01-01  0.1  NaN  100.0\n",
       "2022-01-02  1.3  1.0    0.4\n",
       "2022-01-03  0.8  1.0    0.9\n",
       "2022-01-04  0.6  NaN    1.5"
      ]
     },
     "execution_count": 17,
     "metadata": {},
     "output_type": "execute_result"
    }
   ],
   "source": [
    "df"
   ]
  },
  {
   "cell_type": "code",
   "execution_count": 19,
   "metadata": {},
   "outputs": [
    {
     "data": {
      "text/html": [
       "<div>\n",
       "<style scoped>\n",
       "    .dataframe tbody tr th:only-of-type {\n",
       "        vertical-align: middle;\n",
       "    }\n",
       "\n",
       "    .dataframe tbody tr th {\n",
       "        vertical-align: top;\n",
       "    }\n",
       "\n",
       "    .dataframe thead th {\n",
       "        text-align: right;\n",
       "    }\n",
       "</style>\n",
       "<table border=\"1\" class=\"dataframe\">\n",
       "  <thead>\n",
       "    <tr style=\"text-align: right;\">\n",
       "      <th></th>\n",
       "      <th>A</th>\n",
       "      <th>B</th>\n",
       "      <th>C</th>\n",
       "    </tr>\n",
       "    <tr>\n",
       "      <th>DateTime</th>\n",
       "      <th></th>\n",
       "      <th></th>\n",
       "      <th></th>\n",
       "    </tr>\n",
       "  </thead>\n",
       "  <tbody>\n",
       "    <tr>\n",
       "      <th>2022-01-01</th>\n",
       "      <td>0.1</td>\n",
       "      <td>NaN</td>\n",
       "      <td>100.0</td>\n",
       "    </tr>\n",
       "    <tr>\n",
       "      <th>2022-01-02</th>\n",
       "      <td>1.4</td>\n",
       "      <td>1.0</td>\n",
       "      <td>100.4</td>\n",
       "    </tr>\n",
       "    <tr>\n",
       "      <th>2022-01-03</th>\n",
       "      <td>2.2</td>\n",
       "      <td>2.0</td>\n",
       "      <td>101.3</td>\n",
       "    </tr>\n",
       "    <tr>\n",
       "      <th>2022-01-04</th>\n",
       "      <td>2.8</td>\n",
       "      <td>NaN</td>\n",
       "      <td>102.8</td>\n",
       "    </tr>\n",
       "  </tbody>\n",
       "</table>\n",
       "</div>"
      ],
      "text/plain": [
       "              A    B      C\n",
       "DateTime                   \n",
       "2022-01-01  0.1  NaN  100.0\n",
       "2022-01-02  1.4  1.0  100.4\n",
       "2022-01-03  2.2  2.0  101.3\n",
       "2022-01-04  2.8  NaN  102.8"
      ]
     },
     "execution_count": 19,
     "metadata": {},
     "output_type": "execute_result"
    }
   ],
   "source": [
    "df.apply(np.cumsum, axis=0)  # Cumulative sum along each column"
   ]
  },
  {
   "cell_type": "code",
   "execution_count": 21,
   "metadata": {},
   "outputs": [
    {
     "data": {
      "text/html": [
       "<div>\n",
       "<style scoped>\n",
       "    .dataframe tbody tr th:only-of-type {\n",
       "        vertical-align: middle;\n",
       "    }\n",
       "\n",
       "    .dataframe tbody tr th {\n",
       "        vertical-align: top;\n",
       "    }\n",
       "\n",
       "    .dataframe thead th {\n",
       "        text-align: right;\n",
       "    }\n",
       "</style>\n",
       "<table border=\"1\" class=\"dataframe\">\n",
       "  <thead>\n",
       "    <tr style=\"text-align: right;\">\n",
       "      <th></th>\n",
       "      <th>A</th>\n",
       "      <th>B</th>\n",
       "      <th>C</th>\n",
       "    </tr>\n",
       "    <tr>\n",
       "      <th>DateTime</th>\n",
       "      <th></th>\n",
       "      <th></th>\n",
       "      <th></th>\n",
       "    </tr>\n",
       "  </thead>\n",
       "  <tbody>\n",
       "    <tr>\n",
       "      <th>2022-01-01</th>\n",
       "      <td>0.1</td>\n",
       "      <td>NaN</td>\n",
       "      <td>100.0</td>\n",
       "    </tr>\n",
       "    <tr>\n",
       "      <th>2022-01-02</th>\n",
       "      <td>1.3</td>\n",
       "      <td>1.0</td>\n",
       "      <td>0.4</td>\n",
       "    </tr>\n",
       "    <tr>\n",
       "      <th>2022-01-03</th>\n",
       "      <td>0.8</td>\n",
       "      <td>1.0</td>\n",
       "      <td>0.9</td>\n",
       "    </tr>\n",
       "    <tr>\n",
       "      <th>2022-01-04</th>\n",
       "      <td>0.6</td>\n",
       "      <td>NaN</td>\n",
       "      <td>1.5</td>\n",
       "    </tr>\n",
       "  </tbody>\n",
       "</table>\n",
       "</div>"
      ],
      "text/plain": [
       "              A    B      C\n",
       "DateTime                   \n",
       "2022-01-01  0.1  NaN  100.0\n",
       "2022-01-02  1.3  1.0    0.4\n",
       "2022-01-03  0.8  1.0    0.9\n",
       "2022-01-04  0.6  NaN    1.5"
      ]
     },
     "execution_count": 21,
     "metadata": {},
     "output_type": "execute_result"
    }
   ],
   "source": [
    "df"
   ]
  },
  {
   "cell_type": "code",
   "execution_count": 23,
   "metadata": {},
   "outputs": [
    {
     "data": {
      "text/plain": [
       "A      2.8\n",
       "B      2.0\n",
       "C    102.8\n",
       "dtype: float64"
      ]
     },
     "execution_count": 23,
     "metadata": {},
     "output_type": "execute_result"
    }
   ],
   "source": [
    "df.sum()"
   ]
  },
  {
   "cell_type": "code",
   "execution_count": 25,
   "metadata": {},
   "outputs": [
    {
     "data": {
      "text/plain": [
       "2.0"
      ]
     },
     "execution_count": 25,
     "metadata": {},
     "output_type": "execute_result"
    }
   ],
   "source": [
    "df.B.sum()"
   ]
  },
  {
   "cell_type": "code",
   "execution_count": 27,
   "metadata": {},
   "outputs": [
    {
     "data": {
      "text/plain": [
       "DateTime\n",
       "2022-01-01    100.1\n",
       "2022-01-02      2.7\n",
       "2022-01-03      2.7\n",
       "2022-01-04      2.1\n",
       "Freq: D, dtype: float64"
      ]
     },
     "execution_count": 27,
     "metadata": {},
     "output_type": "execute_result"
    }
   ],
   "source": [
    "df.sum(axis=1)"
   ]
  },
  {
   "cell_type": "code",
   "execution_count": 29,
   "metadata": {},
   "outputs": [
    {
     "data": {
      "text/html": [
       "<div>\n",
       "<style scoped>\n",
       "    .dataframe tbody tr th:only-of-type {\n",
       "        vertical-align: middle;\n",
       "    }\n",
       "\n",
       "    .dataframe tbody tr th {\n",
       "        vertical-align: top;\n",
       "    }\n",
       "\n",
       "    .dataframe thead th {\n",
       "        text-align: right;\n",
       "    }\n",
       "</style>\n",
       "<table border=\"1\" class=\"dataframe\">\n",
       "  <thead>\n",
       "    <tr style=\"text-align: right;\">\n",
       "      <th></th>\n",
       "      <th>A</th>\n",
       "      <th>B</th>\n",
       "      <th>C</th>\n",
       "    </tr>\n",
       "    <tr>\n",
       "      <th>DateTime</th>\n",
       "      <th></th>\n",
       "      <th></th>\n",
       "      <th></th>\n",
       "    </tr>\n",
       "  </thead>\n",
       "  <tbody>\n",
       "    <tr>\n",
       "      <th>2022-01-01</th>\n",
       "      <td>0.1</td>\n",
       "      <td>NaN</td>\n",
       "      <td>100.1</td>\n",
       "    </tr>\n",
       "    <tr>\n",
       "      <th>2022-01-02</th>\n",
       "      <td>1.3</td>\n",
       "      <td>2.3</td>\n",
       "      <td>2.7</td>\n",
       "    </tr>\n",
       "    <tr>\n",
       "      <th>2022-01-03</th>\n",
       "      <td>0.8</td>\n",
       "      <td>1.8</td>\n",
       "      <td>2.7</td>\n",
       "    </tr>\n",
       "    <tr>\n",
       "      <th>2022-01-04</th>\n",
       "      <td>0.6</td>\n",
       "      <td>NaN</td>\n",
       "      <td>2.1</td>\n",
       "    </tr>\n",
       "  </tbody>\n",
       "</table>\n",
       "</div>"
      ],
      "text/plain": [
       "              A    B      C\n",
       "DateTime                   \n",
       "2022-01-01  0.1  NaN  100.1\n",
       "2022-01-02  1.3  2.3    2.7\n",
       "2022-01-03  0.8  1.8    2.7\n",
       "2022-01-04  0.6  NaN    2.1"
      ]
     },
     "execution_count": 29,
     "metadata": {},
     "output_type": "execute_result"
    }
   ],
   "source": [
    "df.apply(np.cumsum, axis=1)  # Cumulative sum along each row"
   ]
  },
  {
   "cell_type": "markdown",
   "metadata": {},
   "source": [
    "### Breaking and Joining DataFrames"
   ]
  },
  {
   "cell_type": "code",
   "execution_count": 31,
   "metadata": {},
   "outputs": [
    {
     "data": {
      "text/html": [
       "<div>\n",
       "<style scoped>\n",
       "    .dataframe tbody tr th:only-of-type {\n",
       "        vertical-align: middle;\n",
       "    }\n",
       "\n",
       "    .dataframe tbody tr th {\n",
       "        vertical-align: top;\n",
       "    }\n",
       "\n",
       "    .dataframe thead th {\n",
       "        text-align: right;\n",
       "    }\n",
       "</style>\n",
       "<table border=\"1\" class=\"dataframe\">\n",
       "  <thead>\n",
       "    <tr style=\"text-align: right;\">\n",
       "      <th></th>\n",
       "      <th>A</th>\n",
       "      <th>B</th>\n",
       "      <th>C</th>\n",
       "    </tr>\n",
       "    <tr>\n",
       "      <th>DateTime</th>\n",
       "      <th></th>\n",
       "      <th></th>\n",
       "      <th></th>\n",
       "    </tr>\n",
       "  </thead>\n",
       "  <tbody>\n",
       "    <tr>\n",
       "      <th>2022-01-01</th>\n",
       "      <td>0.1</td>\n",
       "      <td>NaN</td>\n",
       "      <td>100.0</td>\n",
       "    </tr>\n",
       "    <tr>\n",
       "      <th>2022-01-02</th>\n",
       "      <td>1.3</td>\n",
       "      <td>1.0</td>\n",
       "      <td>0.4</td>\n",
       "    </tr>\n",
       "    <tr>\n",
       "      <th>2022-01-03</th>\n",
       "      <td>0.8</td>\n",
       "      <td>1.0</td>\n",
       "      <td>0.9</td>\n",
       "    </tr>\n",
       "    <tr>\n",
       "      <th>2022-01-04</th>\n",
       "      <td>0.6</td>\n",
       "      <td>NaN</td>\n",
       "      <td>1.5</td>\n",
       "    </tr>\n",
       "  </tbody>\n",
       "</table>\n",
       "</div>"
      ],
      "text/plain": [
       "              A    B      C\n",
       "DateTime                   \n",
       "2022-01-01  0.1  NaN  100.0\n",
       "2022-01-02  1.3  1.0    0.4\n",
       "2022-01-03  0.8  1.0    0.9\n",
       "2022-01-04  0.6  NaN    1.5"
      ]
     },
     "execution_count": 31,
     "metadata": {},
     "output_type": "execute_result"
    }
   ],
   "source": [
    "df"
   ]
  },
  {
   "cell_type": "code",
   "execution_count": 33,
   "metadata": {},
   "outputs": [
    {
     "data": {
      "text/html": [
       "<div>\n",
       "<style scoped>\n",
       "    .dataframe tbody tr th:only-of-type {\n",
       "        vertical-align: middle;\n",
       "    }\n",
       "\n",
       "    .dataframe tbody tr th {\n",
       "        vertical-align: top;\n",
       "    }\n",
       "\n",
       "    .dataframe thead th {\n",
       "        text-align: right;\n",
       "    }\n",
       "</style>\n",
       "<table border=\"1\" class=\"dataframe\">\n",
       "  <thead>\n",
       "    <tr style=\"text-align: right;\">\n",
       "      <th></th>\n",
       "      <th>A</th>\n",
       "      <th>B</th>\n",
       "      <th>C</th>\n",
       "    </tr>\n",
       "    <tr>\n",
       "      <th>DateTime</th>\n",
       "      <th></th>\n",
       "      <th></th>\n",
       "      <th></th>\n",
       "    </tr>\n",
       "  </thead>\n",
       "  <tbody>\n",
       "    <tr>\n",
       "      <th>2022-01-01</th>\n",
       "      <td>0.1</td>\n",
       "      <td>NaN</td>\n",
       "      <td>100.0</td>\n",
       "    </tr>\n",
       "  </tbody>\n",
       "</table>\n",
       "</div>"
      ],
      "text/plain": [
       "              A   B      C\n",
       "DateTime                  \n",
       "2022-01-01  0.1 NaN  100.0"
      ]
     },
     "execution_count": 33,
     "metadata": {},
     "output_type": "execute_result"
    }
   ],
   "source": [
    "df.iloc[:1]  # Zeroth row"
   ]
  },
  {
   "cell_type": "code",
   "execution_count": 35,
   "metadata": {},
   "outputs": [
    {
     "data": {
      "text/html": [
       "<div>\n",
       "<style scoped>\n",
       "    .dataframe tbody tr th:only-of-type {\n",
       "        vertical-align: middle;\n",
       "    }\n",
       "\n",
       "    .dataframe tbody tr th {\n",
       "        vertical-align: top;\n",
       "    }\n",
       "\n",
       "    .dataframe thead th {\n",
       "        text-align: right;\n",
       "    }\n",
       "</style>\n",
       "<table border=\"1\" class=\"dataframe\">\n",
       "  <thead>\n",
       "    <tr style=\"text-align: right;\">\n",
       "      <th></th>\n",
       "      <th>A</th>\n",
       "      <th>B</th>\n",
       "      <th>C</th>\n",
       "    </tr>\n",
       "    <tr>\n",
       "      <th>DateTime</th>\n",
       "      <th></th>\n",
       "      <th></th>\n",
       "      <th></th>\n",
       "    </tr>\n",
       "  </thead>\n",
       "  <tbody>\n",
       "    <tr>\n",
       "      <th>2022-01-02</th>\n",
       "      <td>1.3</td>\n",
       "      <td>1.0</td>\n",
       "      <td>0.4</td>\n",
       "    </tr>\n",
       "    <tr>\n",
       "      <th>2022-01-03</th>\n",
       "      <td>0.8</td>\n",
       "      <td>1.0</td>\n",
       "      <td>0.9</td>\n",
       "    </tr>\n",
       "  </tbody>\n",
       "</table>\n",
       "</div>"
      ],
      "text/plain": [
       "              A    B    C\n",
       "DateTime                 \n",
       "2022-01-02  1.3  1.0  0.4\n",
       "2022-01-03  0.8  1.0  0.9"
      ]
     },
     "execution_count": 35,
     "metadata": {},
     "output_type": "execute_result"
    }
   ],
   "source": [
    "df.iloc[1:3]  # Second and third rows"
   ]
  },
  {
   "cell_type": "code",
   "execution_count": null,
   "metadata": {},
   "outputs": [],
   "source": [
    "\n"
   ]
  },
  {
   "cell_type": "code",
   "execution_count": 37,
   "metadata": {},
   "outputs": [
    {
     "data": {
      "text/html": [
       "<div>\n",
       "<style scoped>\n",
       "    .dataframe tbody tr th:only-of-type {\n",
       "        vertical-align: middle;\n",
       "    }\n",
       "\n",
       "    .dataframe tbody tr th {\n",
       "        vertical-align: top;\n",
       "    }\n",
       "\n",
       "    .dataframe thead th {\n",
       "        text-align: right;\n",
       "    }\n",
       "</style>\n",
       "<table border=\"1\" class=\"dataframe\">\n",
       "  <thead>\n",
       "    <tr style=\"text-align: right;\">\n",
       "      <th></th>\n",
       "      <th>A</th>\n",
       "      <th>B</th>\n",
       "      <th>C</th>\n",
       "    </tr>\n",
       "    <tr>\n",
       "      <th>DateTime</th>\n",
       "      <th></th>\n",
       "      <th></th>\n",
       "      <th></th>\n",
       "    </tr>\n",
       "  </thead>\n",
       "  <tbody>\n",
       "    <tr>\n",
       "      <th>2022-01-04</th>\n",
       "      <td>0.6</td>\n",
       "      <td>NaN</td>\n",
       "      <td>1.5</td>\n",
       "    </tr>\n",
       "  </tbody>\n",
       "</table>\n",
       "</div>"
      ],
      "text/plain": [
       "              A   B    C\n",
       "DateTime                \n",
       "2022-01-04  0.6 NaN  1.5"
      ]
     },
     "execution_count": 37,
     "metadata": {},
     "output_type": "execute_result"
    }
   ],
   "source": [
    "df.iloc[-1:]  # Last row"
   ]
  },
  {
   "cell_type": "code",
   "execution_count": null,
   "metadata": {},
   "outputs": [],
   "source": [
    "df.iloc[-1:]  # Last row"
   ]
  },
  {
   "cell_type": "code",
   "execution_count": 39,
   "metadata": {},
   "outputs": [
    {
     "data": {
      "text/html": [
       "<div>\n",
       "<style scoped>\n",
       "    .dataframe tbody tr th:only-of-type {\n",
       "        vertical-align: middle;\n",
       "    }\n",
       "\n",
       "    .dataframe tbody tr th {\n",
       "        vertical-align: top;\n",
       "    }\n",
       "\n",
       "    .dataframe thead th {\n",
       "        text-align: right;\n",
       "    }\n",
       "</style>\n",
       "<table border=\"1\" class=\"dataframe\">\n",
       "  <thead>\n",
       "    <tr style=\"text-align: right;\">\n",
       "      <th></th>\n",
       "      <th>A</th>\n",
       "      <th>B</th>\n",
       "      <th>C</th>\n",
       "    </tr>\n",
       "    <tr>\n",
       "      <th>DateTime</th>\n",
       "      <th></th>\n",
       "      <th></th>\n",
       "      <th></th>\n",
       "    </tr>\n",
       "  </thead>\n",
       "  <tbody>\n",
       "    <tr>\n",
       "      <th>2022-01-01</th>\n",
       "      <td>0.1</td>\n",
       "      <td>NaN</td>\n",
       "      <td>100.0</td>\n",
       "    </tr>\n",
       "    <tr>\n",
       "      <th>2022-01-02</th>\n",
       "      <td>1.3</td>\n",
       "      <td>1.0</td>\n",
       "      <td>0.4</td>\n",
       "    </tr>\n",
       "    <tr>\n",
       "      <th>2022-01-03</th>\n",
       "      <td>0.8</td>\n",
       "      <td>1.0</td>\n",
       "      <td>0.9</td>\n",
       "    </tr>\n",
       "    <tr>\n",
       "      <th>2022-01-04</th>\n",
       "      <td>0.6</td>\n",
       "      <td>NaN</td>\n",
       "      <td>1.5</td>\n",
       "    </tr>\n",
       "  </tbody>\n",
       "</table>\n",
       "</div>"
      ],
      "text/plain": [
       "              A    B      C\n",
       "DateTime                   \n",
       "2022-01-01  0.1  NaN  100.0\n",
       "2022-01-02  1.3  1.0    0.4\n",
       "2022-01-03  0.8  1.0    0.9\n",
       "2022-01-04  0.6  NaN    1.5"
      ]
     },
     "execution_count": 39,
     "metadata": {},
     "output_type": "execute_result"
    }
   ],
   "source": [
    "pd.concat([df.iloc[:1], df.iloc[1:3], df.iloc[3:]])  # Concatenation"
   ]
  },
  {
   "cell_type": "code",
   "execution_count": 41,
   "metadata": {},
   "outputs": [
    {
     "data": {
      "text/plain": [
       "DateTime\n",
       "2022-01-01    0.1\n",
       "2022-01-02    1.3\n",
       "2022-01-03    0.8\n",
       "2022-01-04    0.6\n",
       "Freq: D, Name: A, dtype: float64"
      ]
     },
     "execution_count": 41,
     "metadata": {},
     "output_type": "execute_result"
    }
   ],
   "source": [
    "df.iloc[:, 0]  # Zeroth column"
   ]
  },
  {
   "cell_type": "code",
   "execution_count": 43,
   "metadata": {},
   "outputs": [
    {
     "data": {
      "text/html": [
       "<div>\n",
       "<style scoped>\n",
       "    .dataframe tbody tr th:only-of-type {\n",
       "        vertical-align: middle;\n",
       "    }\n",
       "\n",
       "    .dataframe tbody tr th {\n",
       "        vertical-align: top;\n",
       "    }\n",
       "\n",
       "    .dataframe thead th {\n",
       "        text-align: right;\n",
       "    }\n",
       "</style>\n",
       "<table border=\"1\" class=\"dataframe\">\n",
       "  <thead>\n",
       "    <tr style=\"text-align: right;\">\n",
       "      <th></th>\n",
       "      <th>B</th>\n",
       "      <th>C</th>\n",
       "    </tr>\n",
       "    <tr>\n",
       "      <th>DateTime</th>\n",
       "      <th></th>\n",
       "      <th></th>\n",
       "    </tr>\n",
       "  </thead>\n",
       "  <tbody>\n",
       "    <tr>\n",
       "      <th>2022-01-01</th>\n",
       "      <td>NaN</td>\n",
       "      <td>100.0</td>\n",
       "    </tr>\n",
       "    <tr>\n",
       "      <th>2022-01-02</th>\n",
       "      <td>1.0</td>\n",
       "      <td>0.4</td>\n",
       "    </tr>\n",
       "    <tr>\n",
       "      <th>2022-01-03</th>\n",
       "      <td>1.0</td>\n",
       "      <td>0.9</td>\n",
       "    </tr>\n",
       "    <tr>\n",
       "      <th>2022-01-04</th>\n",
       "      <td>NaN</td>\n",
       "      <td>1.5</td>\n",
       "    </tr>\n",
       "  </tbody>\n",
       "</table>\n",
       "</div>"
      ],
      "text/plain": [
       "              B      C\n",
       "DateTime              \n",
       "2022-01-01  NaN  100.0\n",
       "2022-01-02  1.0    0.4\n",
       "2022-01-03  1.0    0.9\n",
       "2022-01-04  NaN    1.5"
      ]
     },
     "execution_count": 43,
     "metadata": {},
     "output_type": "execute_result"
    }
   ],
   "source": [
    "df.iloc[:, 1:]  # The rest of the columns"
   ]
  },
  {
   "cell_type": "code",
   "execution_count": 45,
   "metadata": {},
   "outputs": [
    {
     "data": {
      "text/html": [
       "<div>\n",
       "<style scoped>\n",
       "    .dataframe tbody tr th:only-of-type {\n",
       "        vertical-align: middle;\n",
       "    }\n",
       "\n",
       "    .dataframe tbody tr th {\n",
       "        vertical-align: top;\n",
       "    }\n",
       "\n",
       "    .dataframe thead th {\n",
       "        text-align: right;\n",
       "    }\n",
       "</style>\n",
       "<table border=\"1\" class=\"dataframe\">\n",
       "  <thead>\n",
       "    <tr style=\"text-align: right;\">\n",
       "      <th></th>\n",
       "      <th>A</th>\n",
       "      <th>B</th>\n",
       "      <th>C</th>\n",
       "    </tr>\n",
       "    <tr>\n",
       "      <th>DateTime</th>\n",
       "      <th></th>\n",
       "      <th></th>\n",
       "      <th></th>\n",
       "    </tr>\n",
       "  </thead>\n",
       "  <tbody>\n",
       "    <tr>\n",
       "      <th>2022-01-01</th>\n",
       "      <td>0.1</td>\n",
       "      <td>NaN</td>\n",
       "      <td>100.0</td>\n",
       "    </tr>\n",
       "    <tr>\n",
       "      <th>2022-01-02</th>\n",
       "      <td>1.3</td>\n",
       "      <td>1.0</td>\n",
       "      <td>0.4</td>\n",
       "    </tr>\n",
       "    <tr>\n",
       "      <th>2022-01-03</th>\n",
       "      <td>0.8</td>\n",
       "      <td>1.0</td>\n",
       "      <td>0.9</td>\n",
       "    </tr>\n",
       "    <tr>\n",
       "      <th>2022-01-04</th>\n",
       "      <td>0.6</td>\n",
       "      <td>NaN</td>\n",
       "      <td>1.5</td>\n",
       "    </tr>\n",
       "  </tbody>\n",
       "</table>\n",
       "</div>"
      ],
      "text/plain": [
       "              A    B      C\n",
       "DateTime                   \n",
       "2022-01-01  0.1  NaN  100.0\n",
       "2022-01-02  1.3  1.0    0.4\n",
       "2022-01-03  0.8  1.0    0.9\n",
       "2022-01-04  0.6  NaN    1.5"
      ]
     },
     "execution_count": 45,
     "metadata": {},
     "output_type": "execute_result"
    }
   ],
   "source": [
    "pd.concat([df.iloc[:, 0], df.iloc[:, 1:]], axis=1)  # Concatenation"
   ]
  },
  {
   "cell_type": "markdown",
   "metadata": {},
   "source": [
    "### Grouping"
   ]
  },
  {
   "cell_type": "code",
   "execution_count": 47,
   "metadata": {
    "scrolled": true
   },
   "outputs": [
    {
     "data": {
      "text/html": [
       "<div>\n",
       "<style scoped>\n",
       "    .dataframe tbody tr th:only-of-type {\n",
       "        vertical-align: middle;\n",
       "    }\n",
       "\n",
       "    .dataframe tbody tr th {\n",
       "        vertical-align: top;\n",
       "    }\n",
       "\n",
       "    .dataframe thead th {\n",
       "        text-align: right;\n",
       "    }\n",
       "</style>\n",
       "<table border=\"1\" class=\"dataframe\">\n",
       "  <thead>\n",
       "    <tr style=\"text-align: right;\">\n",
       "      <th></th>\n",
       "      <th>Day</th>\n",
       "      <th>Fruit</th>\n",
       "      <th>Pound</th>\n",
       "      <th>Profit</th>\n",
       "    </tr>\n",
       "  </thead>\n",
       "  <tbody>\n",
       "    <tr>\n",
       "      <th>0</th>\n",
       "      <td>Mon</td>\n",
       "      <td>Apple</td>\n",
       "      <td>10</td>\n",
       "      <td>20</td>\n",
       "    </tr>\n",
       "    <tr>\n",
       "      <th>1</th>\n",
       "      <td>Tue</td>\n",
       "      <td>Apple</td>\n",
       "      <td>15</td>\n",
       "      <td>30</td>\n",
       "    </tr>\n",
       "    <tr>\n",
       "      <th>2</th>\n",
       "      <td>Mon</td>\n",
       "      <td>Banana</td>\n",
       "      <td>50</td>\n",
       "      <td>25</td>\n",
       "    </tr>\n",
       "    <tr>\n",
       "      <th>3</th>\n",
       "      <td>Tue</td>\n",
       "      <td>Banana</td>\n",
       "      <td>40</td>\n",
       "      <td>20</td>\n",
       "    </tr>\n",
       "    <tr>\n",
       "      <th>4</th>\n",
       "      <td>Mon</td>\n",
       "      <td>Apple</td>\n",
       "      <td>5</td>\n",
       "      <td>10</td>\n",
       "    </tr>\n",
       "  </tbody>\n",
       "</table>\n",
       "</div>"
      ],
      "text/plain": [
       "   Day   Fruit  Pound  Profit\n",
       "0  Mon   Apple     10      20\n",
       "1  Tue   Apple     15      30\n",
       "2  Mon  Banana     50      25\n",
       "3  Tue  Banana     40      20\n",
       "4  Mon   Apple      5      10"
      ]
     },
     "execution_count": 47,
     "metadata": {},
     "output_type": "execute_result"
    }
   ],
   "source": [
    "dict3 = {'Day':   ['Mon',   'Tue',   'Mon',    'Tue',    'Mon'],\n",
    "         'Fruit': ['Apple', 'Apple', 'Banana', 'Banana', 'Apple'],\n",
    "         'Pound': [10,      15,      50,       40,       5],\n",
    "         'Profit':[20,      30,      25,       20,       10]}\n",
    "df3 = pd.DataFrame(dict3)\n",
    "df3"
   ]
  },
  {
   "cell_type": "code",
   "execution_count": 49,
   "metadata": {
    "scrolled": true
   },
   "outputs": [
    {
     "data": {
      "text/html": [
       "<div>\n",
       "<style scoped>\n",
       "    .dataframe tbody tr th:only-of-type {\n",
       "        vertical-align: middle;\n",
       "    }\n",
       "\n",
       "    .dataframe tbody tr th {\n",
       "        vertical-align: top;\n",
       "    }\n",
       "\n",
       "    .dataframe thead th {\n",
       "        text-align: right;\n",
       "    }\n",
       "</style>\n",
       "<table border=\"1\" class=\"dataframe\">\n",
       "  <thead>\n",
       "    <tr style=\"text-align: right;\">\n",
       "      <th></th>\n",
       "      <th>Fruit</th>\n",
       "      <th>Pound</th>\n",
       "      <th>Profit</th>\n",
       "    </tr>\n",
       "    <tr>\n",
       "      <th>Day</th>\n",
       "      <th></th>\n",
       "      <th></th>\n",
       "      <th></th>\n",
       "    </tr>\n",
       "  </thead>\n",
       "  <tbody>\n",
       "    <tr>\n",
       "      <th>Mon</th>\n",
       "      <td>AppleBananaApple</td>\n",
       "      <td>65</td>\n",
       "      <td>55</td>\n",
       "    </tr>\n",
       "    <tr>\n",
       "      <th>Tue</th>\n",
       "      <td>AppleBanana</td>\n",
       "      <td>55</td>\n",
       "      <td>50</td>\n",
       "    </tr>\n",
       "  </tbody>\n",
       "</table>\n",
       "</div>"
      ],
      "text/plain": [
       "                Fruit  Pound  Profit\n",
       "Day                                 \n",
       "Mon  AppleBananaApple     65      55\n",
       "Tue       AppleBanana     55      50"
      ]
     },
     "execution_count": 49,
     "metadata": {},
     "output_type": "execute_result"
    }
   ],
   "source": [
    "df3.groupby('Day').sum()  # Group and apply sum() to the resulting groups\n"
   ]
  },
  {
   "cell_type": "code",
   "execution_count": 51,
   "metadata": {},
   "outputs": [
    {
     "data": {
      "text/html": [
       "<div>\n",
       "<style scoped>\n",
       "    .dataframe tbody tr th:only-of-type {\n",
       "        vertical-align: middle;\n",
       "    }\n",
       "\n",
       "    .dataframe tbody tr th {\n",
       "        vertical-align: top;\n",
       "    }\n",
       "\n",
       "    .dataframe thead th {\n",
       "        text-align: right;\n",
       "    }\n",
       "</style>\n",
       "<table border=\"1\" class=\"dataframe\">\n",
       "  <thead>\n",
       "    <tr style=\"text-align: right;\">\n",
       "      <th></th>\n",
       "      <th>Day</th>\n",
       "      <th>Pound</th>\n",
       "      <th>Profit</th>\n",
       "    </tr>\n",
       "    <tr>\n",
       "      <th>Fruit</th>\n",
       "      <th></th>\n",
       "      <th></th>\n",
       "      <th></th>\n",
       "    </tr>\n",
       "  </thead>\n",
       "  <tbody>\n",
       "    <tr>\n",
       "      <th>Apple</th>\n",
       "      <td>MonTueMon</td>\n",
       "      <td>30</td>\n",
       "      <td>60</td>\n",
       "    </tr>\n",
       "    <tr>\n",
       "      <th>Banana</th>\n",
       "      <td>MonTue</td>\n",
       "      <td>90</td>\n",
       "      <td>45</td>\n",
       "    </tr>\n",
       "  </tbody>\n",
       "</table>\n",
       "</div>"
      ],
      "text/plain": [
       "              Day  Pound  Profit\n",
       "Fruit                           \n",
       "Apple   MonTueMon     30      60\n",
       "Banana     MonTue     90      45"
      ]
     },
     "execution_count": 51,
     "metadata": {},
     "output_type": "execute_result"
    }
   ],
   "source": [
    "df3.groupby('Fruit').sum()"
   ]
  },
  {
   "cell_type": "code",
   "execution_count": null,
   "metadata": {},
   "outputs": [],
   "source": [
    "df3"
   ]
  },
  {
   "cell_type": "code",
   "execution_count": 53,
   "metadata": {},
   "outputs": [
    {
     "data": {
      "text/html": [
       "<div>\n",
       "<style scoped>\n",
       "    .dataframe tbody tr th:only-of-type {\n",
       "        vertical-align: middle;\n",
       "    }\n",
       "\n",
       "    .dataframe tbody tr th {\n",
       "        vertical-align: top;\n",
       "    }\n",
       "\n",
       "    .dataframe thead th {\n",
       "        text-align: right;\n",
       "    }\n",
       "</style>\n",
       "<table border=\"1\" class=\"dataframe\">\n",
       "  <thead>\n",
       "    <tr style=\"text-align: right;\">\n",
       "      <th></th>\n",
       "      <th></th>\n",
       "      <th>Pound</th>\n",
       "      <th>Profit</th>\n",
       "    </tr>\n",
       "    <tr>\n",
       "      <th>Day</th>\n",
       "      <th>Fruit</th>\n",
       "      <th></th>\n",
       "      <th></th>\n",
       "    </tr>\n",
       "  </thead>\n",
       "  <tbody>\n",
       "    <tr>\n",
       "      <th rowspan=\"2\" valign=\"top\">Mon</th>\n",
       "      <th>Apple</th>\n",
       "      <td>15</td>\n",
       "      <td>30</td>\n",
       "    </tr>\n",
       "    <tr>\n",
       "      <th>Banana</th>\n",
       "      <td>50</td>\n",
       "      <td>25</td>\n",
       "    </tr>\n",
       "    <tr>\n",
       "      <th rowspan=\"2\" valign=\"top\">Tue</th>\n",
       "      <th>Apple</th>\n",
       "      <td>15</td>\n",
       "      <td>30</td>\n",
       "    </tr>\n",
       "    <tr>\n",
       "      <th>Banana</th>\n",
       "      <td>40</td>\n",
       "      <td>20</td>\n",
       "    </tr>\n",
       "  </tbody>\n",
       "</table>\n",
       "</div>"
      ],
      "text/plain": [
       "            Pound  Profit\n",
       "Day Fruit                \n",
       "Mon Apple      15      30\n",
       "    Banana     50      25\n",
       "Tue Apple      15      30\n",
       "    Banana     40      20"
      ]
     },
     "execution_count": 53,
     "metadata": {},
     "output_type": "execute_result"
    }
   ],
   "source": [
    "df3.groupby(['Day', 'Fruit']).sum()  # Grouping by multiple columns"
   ]
  },
  {
   "cell_type": "code",
   "execution_count": 55,
   "metadata": {},
   "outputs": [
    {
     "data": {
      "text/plain": [
       "0  Day          Mon\n",
       "   Fruit      Apple\n",
       "   Pound         10\n",
       "   Profit        20\n",
       "1  Day          Tue\n",
       "   Fruit      Apple\n",
       "   Pound         15\n",
       "   Profit        30\n",
       "2  Day          Mon\n",
       "   Fruit     Banana\n",
       "   Pound         50\n",
       "   Profit        25\n",
       "3  Day          Tue\n",
       "   Fruit     Banana\n",
       "   Pound         40\n",
       "   Profit        20\n",
       "4  Day          Mon\n",
       "   Fruit      Apple\n",
       "   Pound          5\n",
       "   Profit        10\n",
       "dtype: object"
      ]
     },
     "execution_count": 55,
     "metadata": {},
     "output_type": "execute_result"
    }
   ],
   "source": [
    "stacked = df3.stack()  # Stacking\n",
    "stacked"
   ]
  },
  {
   "cell_type": "code",
   "execution_count": 57,
   "metadata": {},
   "outputs": [
    {
     "data": {
      "text/html": [
       "<div>\n",
       "<style scoped>\n",
       "    .dataframe tbody tr th:only-of-type {\n",
       "        vertical-align: middle;\n",
       "    }\n",
       "\n",
       "    .dataframe tbody tr th {\n",
       "        vertical-align: top;\n",
       "    }\n",
       "\n",
       "    .dataframe thead th {\n",
       "        text-align: right;\n",
       "    }\n",
       "</style>\n",
       "<table border=\"1\" class=\"dataframe\">\n",
       "  <thead>\n",
       "    <tr style=\"text-align: right;\">\n",
       "      <th></th>\n",
       "      <th>Day</th>\n",
       "      <th>Fruit</th>\n",
       "      <th>Pound</th>\n",
       "      <th>Profit</th>\n",
       "    </tr>\n",
       "  </thead>\n",
       "  <tbody>\n",
       "    <tr>\n",
       "      <th>0</th>\n",
       "      <td>Mon</td>\n",
       "      <td>Apple</td>\n",
       "      <td>10</td>\n",
       "      <td>20</td>\n",
       "    </tr>\n",
       "    <tr>\n",
       "      <th>1</th>\n",
       "      <td>Tue</td>\n",
       "      <td>Apple</td>\n",
       "      <td>15</td>\n",
       "      <td>30</td>\n",
       "    </tr>\n",
       "    <tr>\n",
       "      <th>2</th>\n",
       "      <td>Mon</td>\n",
       "      <td>Banana</td>\n",
       "      <td>50</td>\n",
       "      <td>25</td>\n",
       "    </tr>\n",
       "    <tr>\n",
       "      <th>3</th>\n",
       "      <td>Tue</td>\n",
       "      <td>Banana</td>\n",
       "      <td>40</td>\n",
       "      <td>20</td>\n",
       "    </tr>\n",
       "    <tr>\n",
       "      <th>4</th>\n",
       "      <td>Mon</td>\n",
       "      <td>Apple</td>\n",
       "      <td>5</td>\n",
       "      <td>10</td>\n",
       "    </tr>\n",
       "  </tbody>\n",
       "</table>\n",
       "</div>"
      ],
      "text/plain": [
       "   Day   Fruit Pound Profit\n",
       "0  Mon   Apple    10     20\n",
       "1  Tue   Apple    15     30\n",
       "2  Mon  Banana    50     25\n",
       "3  Tue  Banana    40     20\n",
       "4  Mon   Apple     5     10"
      ]
     },
     "execution_count": 57,
     "metadata": {},
     "output_type": "execute_result"
    }
   ],
   "source": [
    "stacked.unstack(1) # original"
   ]
  },
  {
   "cell_type": "code",
   "execution_count": 59,
   "metadata": {
    "scrolled": true
   },
   "outputs": [
    {
     "data": {
      "text/html": [
       "<div>\n",
       "<style scoped>\n",
       "    .dataframe tbody tr th:only-of-type {\n",
       "        vertical-align: middle;\n",
       "    }\n",
       "\n",
       "    .dataframe tbody tr th {\n",
       "        vertical-align: top;\n",
       "    }\n",
       "\n",
       "    .dataframe thead th {\n",
       "        text-align: right;\n",
       "    }\n",
       "</style>\n",
       "<table border=\"1\" class=\"dataframe\">\n",
       "  <thead>\n",
       "    <tr style=\"text-align: right;\">\n",
       "      <th></th>\n",
       "      <th>0</th>\n",
       "      <th>1</th>\n",
       "      <th>2</th>\n",
       "      <th>3</th>\n",
       "      <th>4</th>\n",
       "    </tr>\n",
       "  </thead>\n",
       "  <tbody>\n",
       "    <tr>\n",
       "      <th>Day</th>\n",
       "      <td>Mon</td>\n",
       "      <td>Tue</td>\n",
       "      <td>Mon</td>\n",
       "      <td>Tue</td>\n",
       "      <td>Mon</td>\n",
       "    </tr>\n",
       "    <tr>\n",
       "      <th>Fruit</th>\n",
       "      <td>Apple</td>\n",
       "      <td>Apple</td>\n",
       "      <td>Banana</td>\n",
       "      <td>Banana</td>\n",
       "      <td>Apple</td>\n",
       "    </tr>\n",
       "    <tr>\n",
       "      <th>Pound</th>\n",
       "      <td>10</td>\n",
       "      <td>15</td>\n",
       "      <td>50</td>\n",
       "      <td>40</td>\n",
       "      <td>5</td>\n",
       "    </tr>\n",
       "    <tr>\n",
       "      <th>Profit</th>\n",
       "      <td>20</td>\n",
       "      <td>30</td>\n",
       "      <td>25</td>\n",
       "      <td>20</td>\n",
       "      <td>10</td>\n",
       "    </tr>\n",
       "  </tbody>\n",
       "</table>\n",
       "</div>"
      ],
      "text/plain": [
       "            0      1       2       3      4\n",
       "Day       Mon    Tue     Mon     Tue    Mon\n",
       "Fruit   Apple  Apple  Banana  Banana  Apple\n",
       "Pound      10     15      50      40      5\n",
       "Profit     20     30      25      20     10"
      ]
     },
     "execution_count": 59,
     "metadata": {},
     "output_type": "execute_result"
    }
   ],
   "source": [
    "stacked.unstack(0) # the transpose"
   ]
  },
  {
   "cell_type": "markdown",
   "metadata": {},
   "source": [
    "### Math Operations"
   ]
  },
  {
   "cell_type": "code",
   "execution_count": 61,
   "metadata": {
    "scrolled": true
   },
   "outputs": [
    {
     "data": {
      "text/html": [
       "<div>\n",
       "<style scoped>\n",
       "    .dataframe tbody tr th:only-of-type {\n",
       "        vertical-align: middle;\n",
       "    }\n",
       "\n",
       "    .dataframe tbody tr th {\n",
       "        vertical-align: top;\n",
       "    }\n",
       "\n",
       "    .dataframe thead th {\n",
       "        text-align: right;\n",
       "    }\n",
       "</style>\n",
       "<table border=\"1\" class=\"dataframe\">\n",
       "  <thead>\n",
       "    <tr style=\"text-align: right;\">\n",
       "      <th></th>\n",
       "      <th>A</th>\n",
       "      <th>B</th>\n",
       "    </tr>\n",
       "  </thead>\n",
       "  <tbody>\n",
       "    <tr>\n",
       "      <th>0</th>\n",
       "      <td>0</td>\n",
       "      <td>10</td>\n",
       "    </tr>\n",
       "    <tr>\n",
       "      <th>1</th>\n",
       "      <td>1</td>\n",
       "      <td>11</td>\n",
       "    </tr>\n",
       "    <tr>\n",
       "      <th>2</th>\n",
       "      <td>2</td>\n",
       "      <td>12</td>\n",
       "    </tr>\n",
       "  </tbody>\n",
       "</table>\n",
       "</div>"
      ],
      "text/plain": [
       "   A   B\n",
       "0  0  10\n",
       "1  1  11\n",
       "2  2  12"
      ]
     },
     "execution_count": 61,
     "metadata": {},
     "output_type": "execute_result"
    }
   ],
   "source": [
    "df1 = pd.DataFrame({'A': [0, 1, 2], 'B': [10, 11, 12]})\n",
    "df1"
   ]
  },
  {
   "cell_type": "code",
   "execution_count": 65,
   "metadata": {},
   "outputs": [
    {
     "data": {
      "text/html": [
       "<div>\n",
       "<style scoped>\n",
       "    .dataframe tbody tr th:only-of-type {\n",
       "        vertical-align: middle;\n",
       "    }\n",
       "\n",
       "    .dataframe tbody tr th {\n",
       "        vertical-align: top;\n",
       "    }\n",
       "\n",
       "    .dataframe thead th {\n",
       "        text-align: right;\n",
       "    }\n",
       "</style>\n",
       "<table border=\"1\" class=\"dataframe\">\n",
       "  <thead>\n",
       "    <tr style=\"text-align: right;\">\n",
       "      <th></th>\n",
       "      <th>A</th>\n",
       "      <th>B</th>\n",
       "    </tr>\n",
       "  </thead>\n",
       "  <tbody>\n",
       "    <tr>\n",
       "      <th>0</th>\n",
       "      <td>0</td>\n",
       "      <td>-10</td>\n",
       "    </tr>\n",
       "    <tr>\n",
       "      <th>1</th>\n",
       "      <td>-1</td>\n",
       "      <td>-11</td>\n",
       "    </tr>\n",
       "    <tr>\n",
       "      <th>2</th>\n",
       "      <td>-2</td>\n",
       "      <td>-12</td>\n",
       "    </tr>\n",
       "  </tbody>\n",
       "</table>\n",
       "</div>"
      ],
      "text/plain": [
       "   A   B\n",
       "0  0 -10\n",
       "1 -1 -11\n",
       "2 -2 -12"
      ]
     },
     "execution_count": 65,
     "metadata": {},
     "output_type": "execute_result"
    }
   ],
   "source": [
    "df2 = -df1\n",
    "df2"
   ]
  },
  {
   "cell_type": "code",
   "execution_count": 67,
   "metadata": {},
   "outputs": [
    {
     "data": {
      "text/html": [
       "<div>\n",
       "<style scoped>\n",
       "    .dataframe tbody tr th:only-of-type {\n",
       "        vertical-align: middle;\n",
       "    }\n",
       "\n",
       "    .dataframe tbody tr th {\n",
       "        vertical-align: top;\n",
       "    }\n",
       "\n",
       "    .dataframe thead th {\n",
       "        text-align: right;\n",
       "    }\n",
       "</style>\n",
       "<table border=\"1\" class=\"dataframe\">\n",
       "  <thead>\n",
       "    <tr style=\"text-align: right;\">\n",
       "      <th></th>\n",
       "      <th>A</th>\n",
       "      <th>C</th>\n",
       "    </tr>\n",
       "  </thead>\n",
       "  <tbody>\n",
       "    <tr>\n",
       "      <th>0</th>\n",
       "      <td>0</td>\n",
       "      <td>-10</td>\n",
       "    </tr>\n",
       "    <tr>\n",
       "      <th>1</th>\n",
       "      <td>-1</td>\n",
       "      <td>-11</td>\n",
       "    </tr>\n",
       "    <tr>\n",
       "      <th>2</th>\n",
       "      <td>-2</td>\n",
       "      <td>-12</td>\n",
       "    </tr>\n",
       "  </tbody>\n",
       "</table>\n",
       "</div>"
      ],
      "text/plain": [
       "   A   C\n",
       "0  0 -10\n",
       "1 -1 -11\n",
       "2 -2 -12"
      ]
     },
     "execution_count": 67,
     "metadata": {},
     "output_type": "execute_result"
    }
   ],
   "source": [
    "df2.columns = ['A', 'C']\n",
    "df2"
   ]
  },
  {
   "cell_type": "code",
   "execution_count": 69,
   "metadata": {},
   "outputs": [
    {
     "data": {
      "text/html": [
       "<div>\n",
       "<style scoped>\n",
       "    .dataframe tbody tr th:only-of-type {\n",
       "        vertical-align: middle;\n",
       "    }\n",
       "\n",
       "    .dataframe tbody tr th {\n",
       "        vertical-align: top;\n",
       "    }\n",
       "\n",
       "    .dataframe thead th {\n",
       "        text-align: right;\n",
       "    }\n",
       "</style>\n",
       "<table border=\"1\" class=\"dataframe\">\n",
       "  <thead>\n",
       "    <tr style=\"text-align: right;\">\n",
       "      <th></th>\n",
       "      <th>A</th>\n",
       "      <th>B</th>\n",
       "      <th>C</th>\n",
       "    </tr>\n",
       "  </thead>\n",
       "  <tbody>\n",
       "    <tr>\n",
       "      <th>0</th>\n",
       "      <td>0</td>\n",
       "      <td>NaN</td>\n",
       "      <td>NaN</td>\n",
       "    </tr>\n",
       "    <tr>\n",
       "      <th>1</th>\n",
       "      <td>0</td>\n",
       "      <td>NaN</td>\n",
       "      <td>NaN</td>\n",
       "    </tr>\n",
       "    <tr>\n",
       "      <th>2</th>\n",
       "      <td>0</td>\n",
       "      <td>NaN</td>\n",
       "      <td>NaN</td>\n",
       "    </tr>\n",
       "  </tbody>\n",
       "</table>\n",
       "</div>"
      ],
      "text/plain": [
       "   A   B   C\n",
       "0  0 NaN NaN\n",
       "1  0 NaN NaN\n",
       "2  0 NaN NaN"
      ]
     },
     "execution_count": 69,
     "metadata": {},
     "output_type": "execute_result"
    }
   ],
   "source": [
    "df1 + df2"
   ]
  },
  {
   "cell_type": "code",
   "execution_count": 71,
   "metadata": {
    "scrolled": true
   },
   "outputs": [
    {
     "data": {
      "text/html": [
       "<div>\n",
       "<style scoped>\n",
       "    .dataframe tbody tr th:only-of-type {\n",
       "        vertical-align: middle;\n",
       "    }\n",
       "\n",
       "    .dataframe tbody tr th {\n",
       "        vertical-align: top;\n",
       "    }\n",
       "\n",
       "    .dataframe thead th {\n",
       "        text-align: right;\n",
       "    }\n",
       "</style>\n",
       "<table border=\"1\" class=\"dataframe\">\n",
       "  <thead>\n",
       "    <tr style=\"text-align: right;\">\n",
       "      <th></th>\n",
       "      <th>A</th>\n",
       "      <th>B</th>\n",
       "      <th>C</th>\n",
       "    </tr>\n",
       "  </thead>\n",
       "  <tbody>\n",
       "    <tr>\n",
       "      <th>0</th>\n",
       "      <td>0</td>\n",
       "      <td>NaN</td>\n",
       "      <td>NaN</td>\n",
       "    </tr>\n",
       "    <tr>\n",
       "      <th>1</th>\n",
       "      <td>2</td>\n",
       "      <td>NaN</td>\n",
       "      <td>NaN</td>\n",
       "    </tr>\n",
       "    <tr>\n",
       "      <th>2</th>\n",
       "      <td>4</td>\n",
       "      <td>NaN</td>\n",
       "      <td>NaN</td>\n",
       "    </tr>\n",
       "  </tbody>\n",
       "</table>\n",
       "</div>"
      ],
      "text/plain": [
       "   A   B   C\n",
       "0  0 NaN NaN\n",
       "1  2 NaN NaN\n",
       "2  4 NaN NaN"
      ]
     },
     "execution_count": 71,
     "metadata": {},
     "output_type": "execute_result"
    }
   ],
   "source": [
    "df1 - df2"
   ]
  },
  {
   "cell_type": "code",
   "execution_count": 73,
   "metadata": {},
   "outputs": [
    {
     "data": {
      "text/html": [
       "<div>\n",
       "<style scoped>\n",
       "    .dataframe tbody tr th:only-of-type {\n",
       "        vertical-align: middle;\n",
       "    }\n",
       "\n",
       "    .dataframe tbody tr th {\n",
       "        vertical-align: top;\n",
       "    }\n",
       "\n",
       "    .dataframe thead th {\n",
       "        text-align: right;\n",
       "    }\n",
       "</style>\n",
       "<table border=\"1\" class=\"dataframe\">\n",
       "  <thead>\n",
       "    <tr style=\"text-align: right;\">\n",
       "      <th></th>\n",
       "      <th>A</th>\n",
       "      <th>B</th>\n",
       "      <th>C</th>\n",
       "    </tr>\n",
       "  </thead>\n",
       "  <tbody>\n",
       "    <tr>\n",
       "      <th>0</th>\n",
       "      <td>0</td>\n",
       "      <td>NaN</td>\n",
       "      <td>NaN</td>\n",
       "    </tr>\n",
       "    <tr>\n",
       "      <th>1</th>\n",
       "      <td>-1</td>\n",
       "      <td>NaN</td>\n",
       "      <td>NaN</td>\n",
       "    </tr>\n",
       "    <tr>\n",
       "      <th>2</th>\n",
       "      <td>-4</td>\n",
       "      <td>NaN</td>\n",
       "      <td>NaN</td>\n",
       "    </tr>\n",
       "  </tbody>\n",
       "</table>\n",
       "</div>"
      ],
      "text/plain": [
       "   A   B   C\n",
       "0  0 NaN NaN\n",
       "1 -1 NaN NaN\n",
       "2 -4 NaN NaN"
      ]
     },
     "execution_count": 73,
     "metadata": {},
     "output_type": "execute_result"
    }
   ],
   "source": [
    "df1 * df2"
   ]
  },
  {
   "cell_type": "code",
   "execution_count": 75,
   "metadata": {},
   "outputs": [
    {
     "data": {
      "text/html": [
       "<div>\n",
       "<style scoped>\n",
       "    .dataframe tbody tr th:only-of-type {\n",
       "        vertical-align: middle;\n",
       "    }\n",
       "\n",
       "    .dataframe tbody tr th {\n",
       "        vertical-align: top;\n",
       "    }\n",
       "\n",
       "    .dataframe thead th {\n",
       "        text-align: right;\n",
       "    }\n",
       "</style>\n",
       "<table border=\"1\" class=\"dataframe\">\n",
       "  <thead>\n",
       "    <tr style=\"text-align: right;\">\n",
       "      <th></th>\n",
       "      <th>A</th>\n",
       "      <th>B</th>\n",
       "      <th>C</th>\n",
       "    </tr>\n",
       "  </thead>\n",
       "  <tbody>\n",
       "    <tr>\n",
       "      <th>0</th>\n",
       "      <td>NaN</td>\n",
       "      <td>NaN</td>\n",
       "      <td>NaN</td>\n",
       "    </tr>\n",
       "    <tr>\n",
       "      <th>1</th>\n",
       "      <td>-1.0</td>\n",
       "      <td>NaN</td>\n",
       "      <td>NaN</td>\n",
       "    </tr>\n",
       "    <tr>\n",
       "      <th>2</th>\n",
       "      <td>-1.0</td>\n",
       "      <td>NaN</td>\n",
       "      <td>NaN</td>\n",
       "    </tr>\n",
       "  </tbody>\n",
       "</table>\n",
       "</div>"
      ],
      "text/plain": [
       "     A   B   C\n",
       "0  NaN NaN NaN\n",
       "1 -1.0 NaN NaN\n",
       "2 -1.0 NaN NaN"
      ]
     },
     "execution_count": 75,
     "metadata": {},
     "output_type": "execute_result"
    }
   ],
   "source": [
    "df1 / df2"
   ]
  },
  {
   "cell_type": "code",
   "execution_count": 77,
   "metadata": {
    "scrolled": true
   },
   "outputs": [
    {
     "data": {
      "text/html": [
       "<div>\n",
       "<style scoped>\n",
       "    .dataframe tbody tr th:only-of-type {\n",
       "        vertical-align: middle;\n",
       "    }\n",
       "\n",
       "    .dataframe tbody tr th {\n",
       "        vertical-align: top;\n",
       "    }\n",
       "\n",
       "    .dataframe thead th {\n",
       "        text-align: right;\n",
       "    }\n",
       "</style>\n",
       "<table border=\"1\" class=\"dataframe\">\n",
       "  <thead>\n",
       "    <tr style=\"text-align: right;\">\n",
       "      <th></th>\n",
       "      <th>A</th>\n",
       "      <th>B</th>\n",
       "    </tr>\n",
       "  </thead>\n",
       "  <tbody>\n",
       "    <tr>\n",
       "      <th>0</th>\n",
       "      <td>0.000000</td>\n",
       "      <td>-0.544021</td>\n",
       "    </tr>\n",
       "    <tr>\n",
       "      <th>1</th>\n",
       "      <td>0.841471</td>\n",
       "      <td>-0.999990</td>\n",
       "    </tr>\n",
       "    <tr>\n",
       "      <th>2</th>\n",
       "      <td>0.909297</td>\n",
       "      <td>-0.536573</td>\n",
       "    </tr>\n",
       "  </tbody>\n",
       "</table>\n",
       "</div>"
      ],
      "text/plain": [
       "          A         B\n",
       "0  0.000000 -0.544021\n",
       "1  0.841471 -0.999990\n",
       "2  0.909297 -0.536573"
      ]
     },
     "execution_count": 77,
     "metadata": {},
     "output_type": "execute_result"
    }
   ],
   "source": [
    "np.sin(df1)"
   ]
  },
  {
   "cell_type": "code",
   "execution_count": 79,
   "metadata": {},
   "outputs": [
    {
     "data": {
      "text/html": [
       "<div>\n",
       "<style scoped>\n",
       "    .dataframe tbody tr th:only-of-type {\n",
       "        vertical-align: middle;\n",
       "    }\n",
       "\n",
       "    .dataframe tbody tr th {\n",
       "        vertical-align: top;\n",
       "    }\n",
       "\n",
       "    .dataframe thead th {\n",
       "        text-align: right;\n",
       "    }\n",
       "</style>\n",
       "<table border=\"1\" class=\"dataframe\">\n",
       "  <thead>\n",
       "    <tr style=\"text-align: right;\">\n",
       "      <th></th>\n",
       "      <th>A</th>\n",
       "      <th>C</th>\n",
       "    </tr>\n",
       "  </thead>\n",
       "  <tbody>\n",
       "    <tr>\n",
       "      <th>0</th>\n",
       "      <td>0</td>\n",
       "      <td>-10</td>\n",
       "    </tr>\n",
       "    <tr>\n",
       "      <th>1</th>\n",
       "      <td>-1</td>\n",
       "      <td>-11</td>\n",
       "    </tr>\n",
       "    <tr>\n",
       "      <th>2</th>\n",
       "      <td>-2</td>\n",
       "      <td>-12</td>\n",
       "    </tr>\n",
       "  </tbody>\n",
       "</table>\n",
       "</div>"
      ],
      "text/plain": [
       "   A   C\n",
       "0  0 -10\n",
       "1 -1 -11\n",
       "2 -2 -12"
      ]
     },
     "execution_count": 79,
     "metadata": {},
     "output_type": "execute_result"
    }
   ],
   "source": [
    "df2"
   ]
  },
  {
   "cell_type": "code",
   "execution_count": 81,
   "metadata": {
    "scrolled": true
   },
   "outputs": [
    {
     "name": "stderr",
     "output_type": "stream",
     "text": [
      "C:\\Users\\yasee\\anaconda3\\Lib\\site-packages\\pandas\\core\\internals\\blocks.py:393: RuntimeWarning: invalid value encountered in sqrt\n",
      "  result = func(self.values, **kwargs)\n"
     ]
    },
    {
     "data": {
      "text/html": [
       "<div>\n",
       "<style scoped>\n",
       "    .dataframe tbody tr th:only-of-type {\n",
       "        vertical-align: middle;\n",
       "    }\n",
       "\n",
       "    .dataframe tbody tr th {\n",
       "        vertical-align: top;\n",
       "    }\n",
       "\n",
       "    .dataframe thead th {\n",
       "        text-align: right;\n",
       "    }\n",
       "</style>\n",
       "<table border=\"1\" class=\"dataframe\">\n",
       "  <thead>\n",
       "    <tr style=\"text-align: right;\">\n",
       "      <th></th>\n",
       "      <th>A</th>\n",
       "      <th>C</th>\n",
       "    </tr>\n",
       "  </thead>\n",
       "  <tbody>\n",
       "    <tr>\n",
       "      <th>0</th>\n",
       "      <td>0.0</td>\n",
       "      <td>NaN</td>\n",
       "    </tr>\n",
       "    <tr>\n",
       "      <th>1</th>\n",
       "      <td>NaN</td>\n",
       "      <td>NaN</td>\n",
       "    </tr>\n",
       "    <tr>\n",
       "      <th>2</th>\n",
       "      <td>NaN</td>\n",
       "      <td>NaN</td>\n",
       "    </tr>\n",
       "  </tbody>\n",
       "</table>\n",
       "</div>"
      ],
      "text/plain": [
       "     A   C\n",
       "0  0.0 NaN\n",
       "1  NaN NaN\n",
       "2  NaN NaN"
      ]
     },
     "execution_count": 81,
     "metadata": {},
     "output_type": "execute_result"
    }
   ],
   "source": [
    "np.sqrt(df2) # mathematicallyy, no square root of negative values"
   ]
  },
  {
   "cell_type": "markdown",
   "metadata": {},
   "source": [
    "### Read and Write CSV/Excel Files"
   ]
  },
  {
   "cell_type": "markdown",
   "metadata": {},
   "source": [
    "- CSV (comma separated values) files."
   ]
  },
  {
   "cell_type": "code",
   "execution_count": 83,
   "metadata": {},
   "outputs": [
    {
     "data": {
      "text/html": [
       "<div>\n",
       "<style scoped>\n",
       "    .dataframe tbody tr th:only-of-type {\n",
       "        vertical-align: middle;\n",
       "    }\n",
       "\n",
       "    .dataframe tbody tr th {\n",
       "        vertical-align: top;\n",
       "    }\n",
       "\n",
       "    .dataframe thead th {\n",
       "        text-align: right;\n",
       "    }\n",
       "</style>\n",
       "<table border=\"1\" class=\"dataframe\">\n",
       "  <thead>\n",
       "    <tr style=\"text-align: right;\">\n",
       "      <th></th>\n",
       "      <th>A</th>\n",
       "      <th>B</th>\n",
       "      <th>C</th>\n",
       "    </tr>\n",
       "    <tr>\n",
       "      <th>DateTime</th>\n",
       "      <th></th>\n",
       "      <th></th>\n",
       "      <th></th>\n",
       "    </tr>\n",
       "  </thead>\n",
       "  <tbody>\n",
       "    <tr>\n",
       "      <th>2022-01-01</th>\n",
       "      <td>0.1</td>\n",
       "      <td>NaN</td>\n",
       "      <td>100.0</td>\n",
       "    </tr>\n",
       "    <tr>\n",
       "      <th>2022-01-02</th>\n",
       "      <td>1.3</td>\n",
       "      <td>1.0</td>\n",
       "      <td>0.4</td>\n",
       "    </tr>\n",
       "    <tr>\n",
       "      <th>2022-01-03</th>\n",
       "      <td>0.8</td>\n",
       "      <td>1.0</td>\n",
       "      <td>0.9</td>\n",
       "    </tr>\n",
       "    <tr>\n",
       "      <th>2022-01-04</th>\n",
       "      <td>0.6</td>\n",
       "      <td>NaN</td>\n",
       "      <td>1.5</td>\n",
       "    </tr>\n",
       "  </tbody>\n",
       "</table>\n",
       "</div>"
      ],
      "text/plain": [
       "              A    B      C\n",
       "DateTime                   \n",
       "2022-01-01  0.1  NaN  100.0\n",
       "2022-01-02  1.3  1.0    0.4\n",
       "2022-01-03  0.8  1.0    0.9\n",
       "2022-01-04  0.6  NaN    1.5"
      ]
     },
     "execution_count": 83,
     "metadata": {},
     "output_type": "execute_result"
    }
   ],
   "source": [
    "df"
   ]
  },
  {
   "cell_type": "code",
   "execution_count": 85,
   "metadata": {},
   "outputs": [],
   "source": [
    "df.to_csv('mgmt50410292024.csv') # Export to CSV file"
   ]
  },
  {
   "cell_type": "markdown",
   "metadata": {},
   "source": [
    "<img src=\"images/csv.png\" alt=\"CSV File\" style=\"width: 300px;\"/>"
   ]
  },
  {
   "cell_type": "code",
   "execution_count": 87,
   "metadata": {},
   "outputs": [
    {
     "data": {
      "text/html": [
       "<div>\n",
       "<style scoped>\n",
       "    .dataframe tbody tr th:only-of-type {\n",
       "        vertical-align: middle;\n",
       "    }\n",
       "\n",
       "    .dataframe tbody tr th {\n",
       "        vertical-align: top;\n",
       "    }\n",
       "\n",
       "    .dataframe thead th {\n",
       "        text-align: right;\n",
       "    }\n",
       "</style>\n",
       "<table border=\"1\" class=\"dataframe\">\n",
       "  <thead>\n",
       "    <tr style=\"text-align: right;\">\n",
       "      <th></th>\n",
       "      <th>A</th>\n",
       "      <th>B</th>\n",
       "      <th>C</th>\n",
       "    </tr>\n",
       "    <tr>\n",
       "      <th>DateTime</th>\n",
       "      <th></th>\n",
       "      <th></th>\n",
       "      <th></th>\n",
       "    </tr>\n",
       "  </thead>\n",
       "  <tbody>\n",
       "    <tr>\n",
       "      <th>2022-01-01</th>\n",
       "      <td>0.1</td>\n",
       "      <td>NaN</td>\n",
       "      <td>100.0</td>\n",
       "    </tr>\n",
       "    <tr>\n",
       "      <th>2022-01-02</th>\n",
       "      <td>1.3</td>\n",
       "      <td>1.0</td>\n",
       "      <td>0.4</td>\n",
       "    </tr>\n",
       "    <tr>\n",
       "      <th>2022-01-03</th>\n",
       "      <td>0.8</td>\n",
       "      <td>1.0</td>\n",
       "      <td>0.9</td>\n",
       "    </tr>\n",
       "    <tr>\n",
       "      <th>2022-01-04</th>\n",
       "      <td>0.6</td>\n",
       "      <td>NaN</td>\n",
       "      <td>1.5</td>\n",
       "    </tr>\n",
       "  </tbody>\n",
       "</table>\n",
       "</div>"
      ],
      "text/plain": [
       "              A    B      C\n",
       "DateTime                   \n",
       "2022-01-01  0.1  NaN  100.0\n",
       "2022-01-02  1.3  1.0    0.4\n",
       "2022-01-03  0.8  1.0    0.9\n",
       "2022-01-04  0.6  NaN    1.5"
      ]
     },
     "execution_count": 87,
     "metadata": {},
     "output_type": "execute_result"
    }
   ],
   "source": [
    "df2 = pd.read_csv('mydf.csv', index_col = 'DateTime', na_values='NaN')\n",
    "df2"
   ]
  },
  {
   "cell_type": "code",
   "execution_count": 89,
   "metadata": {},
   "outputs": [],
   "source": [
    "df.to_excel('mydf.xlsx', sheet_name='Sheet1') # Export to Excel"
   ]
  },
  {
   "cell_type": "markdown",
   "metadata": {},
   "source": [
    "<img src=\"images/excel.png\" alt=\"Excel File\" style=\"width: 350px;\"/>"
   ]
  },
  {
   "cell_type": "code",
   "execution_count": 91,
   "metadata": {},
   "outputs": [
    {
     "data": {
      "text/html": [
       "<div>\n",
       "<style scoped>\n",
       "    .dataframe tbody tr th:only-of-type {\n",
       "        vertical-align: middle;\n",
       "    }\n",
       "\n",
       "    .dataframe tbody tr th {\n",
       "        vertical-align: top;\n",
       "    }\n",
       "\n",
       "    .dataframe thead th {\n",
       "        text-align: right;\n",
       "    }\n",
       "</style>\n",
       "<table border=\"1\" class=\"dataframe\">\n",
       "  <thead>\n",
       "    <tr style=\"text-align: right;\">\n",
       "      <th></th>\n",
       "      <th>A</th>\n",
       "      <th>B</th>\n",
       "      <th>C</th>\n",
       "    </tr>\n",
       "    <tr>\n",
       "      <th>DateTime</th>\n",
       "      <th></th>\n",
       "      <th></th>\n",
       "      <th></th>\n",
       "    </tr>\n",
       "  </thead>\n",
       "  <tbody>\n",
       "    <tr>\n",
       "      <th>2022-01-01</th>\n",
       "      <td>0.1</td>\n",
       "      <td>NaN</td>\n",
       "      <td>100.0</td>\n",
       "    </tr>\n",
       "    <tr>\n",
       "      <th>2022-01-02</th>\n",
       "      <td>1.3</td>\n",
       "      <td>1.0</td>\n",
       "      <td>0.4</td>\n",
       "    </tr>\n",
       "    <tr>\n",
       "      <th>2022-01-03</th>\n",
       "      <td>0.8</td>\n",
       "      <td>1.0</td>\n",
       "      <td>0.9</td>\n",
       "    </tr>\n",
       "    <tr>\n",
       "      <th>2022-01-04</th>\n",
       "      <td>0.6</td>\n",
       "      <td>NaN</td>\n",
       "      <td>1.5</td>\n",
       "    </tr>\n",
       "  </tbody>\n",
       "</table>\n",
       "</div>"
      ],
      "text/plain": [
       "              A    B      C\n",
       "DateTime                   \n",
       "2022-01-01  0.1  NaN  100.0\n",
       "2022-01-02  1.3  1.0    0.4\n",
       "2022-01-03  0.8  1.0    0.9\n",
       "2022-01-04  0.6  NaN    1.5"
      ]
     },
     "execution_count": 91,
     "metadata": {},
     "output_type": "execute_result"
    }
   ],
   "source": [
    "df2 = pd.read_excel('mydf.xlsx', 'Sheet1', index_col='DateTime', na_values='NaN')\n",
    "df2"
   ]
  },
  {
   "cell_type": "markdown",
   "metadata": {},
   "source": [
    "### Simple Plotting"
   ]
  },
  {
   "cell_type": "code",
   "execution_count": 93,
   "metadata": {},
   "outputs": [],
   "source": [
    "%matplotlib inline\n",
    "import matplotlib.pyplot as plt"
   ]
  },
  {
   "cell_type": "code",
   "execution_count": 94,
   "metadata": {},
   "outputs": [
    {
     "data": {
      "text/plain": [
       "DatetimeIndex(['2022-01-01 00:00:00', '2022-01-01 00:30:00',\n",
       "               '2022-01-01 01:00:00', '2022-01-01 01:30:00',\n",
       "               '2022-01-01 02:00:00', '2022-01-01 02:30:00',\n",
       "               '2022-01-01 03:00:00', '2022-01-01 03:30:00',\n",
       "               '2022-01-01 04:00:00', '2022-01-01 04:30:00',\n",
       "               '2022-01-01 05:00:00', '2022-01-01 05:30:00',\n",
       "               '2022-01-01 06:00:00', '2022-01-01 06:30:00',\n",
       "               '2022-01-01 07:00:00', '2022-01-01 07:30:00',\n",
       "               '2022-01-01 08:00:00', '2022-01-01 08:30:00',\n",
       "               '2022-01-01 09:00:00', '2022-01-01 09:30:00',\n",
       "               '2022-01-01 10:00:00', '2022-01-01 10:30:00',\n",
       "               '2022-01-01 11:00:00', '2022-01-01 11:30:00',\n",
       "               '2022-01-01 12:00:00', '2022-01-01 12:30:00',\n",
       "               '2022-01-01 13:00:00', '2022-01-01 13:30:00',\n",
       "               '2022-01-01 14:00:00', '2022-01-01 14:30:00',\n",
       "               '2022-01-01 15:00:00', '2022-01-01 15:30:00',\n",
       "               '2022-01-01 16:00:00', '2022-01-01 16:30:00',\n",
       "               '2022-01-01 17:00:00', '2022-01-01 17:30:00',\n",
       "               '2022-01-01 18:00:00', '2022-01-01 18:30:00',\n",
       "               '2022-01-01 19:00:00', '2022-01-01 19:30:00',\n",
       "               '2022-01-01 20:00:00', '2022-01-01 20:30:00',\n",
       "               '2022-01-01 21:00:00', '2022-01-01 21:30:00',\n",
       "               '2022-01-01 22:00:00', '2022-01-01 22:30:00',\n",
       "               '2022-01-01 23:00:00', '2022-01-01 23:30:00'],\n",
       "              dtype='datetime64[ns]', freq='30min')"
      ]
     },
     "execution_count": 94,
     "metadata": {},
     "output_type": "execute_result"
    }
   ],
   "source": [
    "index = pd.date_range(start='2022-01-01 00:00:00', end='2022-01-01 23:59:00', freq='30min')\n",
    "index"
   ]
  },
  {
   "cell_type": "code",
   "execution_count": 97,
   "metadata": {},
   "outputs": [
    {
     "data": {
      "text/plain": [
       "48"
      ]
     },
     "execution_count": 97,
     "metadata": {},
     "output_type": "execute_result"
    }
   ],
   "source": [
    "N = len(index)\n",
    "N"
   ]
  },
  {
   "cell_type": "code",
   "execution_count": 99,
   "metadata": {},
   "outputs": [
    {
     "data": {
      "text/plain": [
       "array([[-1.36816440e+00,  1.24003129e+00, -2.29507047e+00],\n",
       "       [ 2.21686200e-01,  6.32223126e-01, -3.93121611e-01],\n",
       "       [-1.33111671e+00, -2.73367277e-01, -7.86147278e-01],\n",
       "       [-8.37618461e-01,  1.18736940e+00,  2.05038403e+00],\n",
       "       [-2.73446963e+00,  6.50953169e-01,  5.00298495e-01],\n",
       "       [ 7.11884102e-01, -4.57341610e-02, -7.13612388e-01],\n",
       "       [ 3.78755805e-01, -3.43028750e-01,  1.43480730e+00],\n",
       "       [ 1.63009404e-01,  2.59439804e-01,  6.01379637e-01],\n",
       "       [-4.02562444e-01,  1.26497482e+00, -2.57737833e+00],\n",
       "       [-1.84668453e+00,  2.70604044e-01, -1.35726775e-01],\n",
       "       [ 1.58063310e-01, -4.06440242e-01,  1.97897514e+00],\n",
       "       [ 1.27588343e+00,  1.08161677e+00,  5.05636081e-02],\n",
       "       [ 5.13790695e-01,  6.10418033e-01,  1.61223026e-01],\n",
       "       [ 6.08751173e-01, -1.35537685e+00, -1.39018503e+00],\n",
       "       [-1.16316196e+00, -7.57331192e-01, -1.53401405e-01],\n",
       "       [-5.72425116e-01, -6.49866081e-01,  9.53724979e-02],\n",
       "       [ 1.65442725e-01, -1.50718763e+00, -4.18779988e-01],\n",
       "       [-1.99130582e+00, -1.22448284e+00, -3.32876762e-01],\n",
       "       [ 9.58505659e-01,  2.35116746e-01,  1.26563184e+00],\n",
       "       [ 3.66767310e-01,  3.57804515e-01,  1.77335979e-01],\n",
       "       [ 6.37522679e-01, -3.03131021e-01,  6.14896127e-01],\n",
       "       [-1.01644343e+00, -1.12569993e+00,  2.86345952e-01],\n",
       "       [-1.76844330e-01,  1.17266085e+00, -1.15704730e+00],\n",
       "       [ 5.37924939e-01, -1.59610183e+00, -1.29668525e-01],\n",
       "       [ 3.62673150e-01,  1.69333102e+00, -1.44220837e+00],\n",
       "       [-1.12137389e+00,  1.33689997e+00,  2.20071794e+00],\n",
       "       [-4.39389873e-01, -1.04718552e+00,  3.24842268e-01],\n",
       "       [-1.15987015e+00,  2.67270148e-01,  7.43241458e-02],\n",
       "       [ 1.33223174e+00,  8.50420818e-03, -6.57776852e-01],\n",
       "       [-4.67913220e-04,  7.79003145e-01, -1.29226894e+00],\n",
       "       [ 8.29649763e-01, -2.24785008e+00,  3.00141783e-01],\n",
       "       [ 5.58232222e-01, -6.03871914e-01,  1.76569287e+00],\n",
       "       [ 1.82835775e+00,  1.18237921e-02,  1.06891559e-01],\n",
       "       [-1.75298213e+00, -1.79415559e+00,  9.36525038e-01],\n",
       "       [-4.90639538e-01,  6.88421029e-02,  8.88026734e-01],\n",
       "       [ 4.61312257e-01, -1.27353849e-01,  2.22326147e-01],\n",
       "       [-1.71795658e-01,  8.38722749e-02, -1.48690067e+00],\n",
       "       [ 3.04222948e-01,  1.18595816e+00, -9.51472062e-01],\n",
       "       [-1.11244220e+00, -1.08609028e+00, -1.12976986e+00],\n",
       "       [-6.49999733e-01,  1.81469735e+00, -6.14907260e-01],\n",
       "       [ 3.30052249e-01,  4.45958028e-01, -6.86917494e-01],\n",
       "       [ 4.07458244e-01, -1.49250938e+00,  9.32984413e-01],\n",
       "       [-2.97550602e-01,  7.96061493e-01, -6.16919712e-01],\n",
       "       [ 3.32586174e-01,  2.47642899e-01, -2.89580972e-01],\n",
       "       [ 1.65399721e-02, -3.93865123e-01, -1.95525543e-01],\n",
       "       [-1.02651392e+00, -1.09598880e+00,  3.08639330e-01],\n",
       "       [-2.68313446e-01,  4.24911195e-01,  6.44290390e-01],\n",
       "       [-1.68785755e-01,  5.77862143e-01,  8.00510864e-02]])"
      ]
     },
     "execution_count": 99,
     "metadata": {},
     "output_type": "execute_result"
    }
   ],
   "source": [
    "data=np.random.randn(N, 3)\n",
    "data"
   ]
  },
  {
   "cell_type": "code",
   "execution_count": 101,
   "metadata": {},
   "outputs": [
    {
     "data": {
      "text/html": [
       "<div>\n",
       "<style scoped>\n",
       "    .dataframe tbody tr th:only-of-type {\n",
       "        vertical-align: middle;\n",
       "    }\n",
       "\n",
       "    .dataframe tbody tr th {\n",
       "        vertical-align: top;\n",
       "    }\n",
       "\n",
       "    .dataframe thead th {\n",
       "        text-align: right;\n",
       "    }\n",
       "</style>\n",
       "<table border=\"1\" class=\"dataframe\">\n",
       "  <thead>\n",
       "    <tr style=\"text-align: right;\">\n",
       "      <th></th>\n",
       "      <th>A</th>\n",
       "      <th>B</th>\n",
       "      <th>C</th>\n",
       "    </tr>\n",
       "  </thead>\n",
       "  <tbody>\n",
       "    <tr>\n",
       "      <th>2022-01-01 00:00:00</th>\n",
       "      <td>-1.368164</td>\n",
       "      <td>1.240031</td>\n",
       "      <td>-2.295070</td>\n",
       "    </tr>\n",
       "    <tr>\n",
       "      <th>2022-01-01 00:30:00</th>\n",
       "      <td>0.221686</td>\n",
       "      <td>0.632223</td>\n",
       "      <td>-0.393122</td>\n",
       "    </tr>\n",
       "    <tr>\n",
       "      <th>2022-01-01 01:00:00</th>\n",
       "      <td>-1.331117</td>\n",
       "      <td>-0.273367</td>\n",
       "      <td>-0.786147</td>\n",
       "    </tr>\n",
       "    <tr>\n",
       "      <th>2022-01-01 01:30:00</th>\n",
       "      <td>-0.837618</td>\n",
       "      <td>1.187369</td>\n",
       "      <td>2.050384</td>\n",
       "    </tr>\n",
       "    <tr>\n",
       "      <th>2022-01-01 02:00:00</th>\n",
       "      <td>-2.734470</td>\n",
       "      <td>0.650953</td>\n",
       "      <td>0.500298</td>\n",
       "    </tr>\n",
       "    <tr>\n",
       "      <th>2022-01-01 02:30:00</th>\n",
       "      <td>0.711884</td>\n",
       "      <td>-0.045734</td>\n",
       "      <td>-0.713612</td>\n",
       "    </tr>\n",
       "    <tr>\n",
       "      <th>2022-01-01 03:00:00</th>\n",
       "      <td>0.378756</td>\n",
       "      <td>-0.343029</td>\n",
       "      <td>1.434807</td>\n",
       "    </tr>\n",
       "    <tr>\n",
       "      <th>2022-01-01 03:30:00</th>\n",
       "      <td>0.163009</td>\n",
       "      <td>0.259440</td>\n",
       "      <td>0.601380</td>\n",
       "    </tr>\n",
       "    <tr>\n",
       "      <th>2022-01-01 04:00:00</th>\n",
       "      <td>-0.402562</td>\n",
       "      <td>1.264975</td>\n",
       "      <td>-2.577378</td>\n",
       "    </tr>\n",
       "    <tr>\n",
       "      <th>2022-01-01 04:30:00</th>\n",
       "      <td>-1.846685</td>\n",
       "      <td>0.270604</td>\n",
       "      <td>-0.135727</td>\n",
       "    </tr>\n",
       "    <tr>\n",
       "      <th>2022-01-01 05:00:00</th>\n",
       "      <td>0.158063</td>\n",
       "      <td>-0.406440</td>\n",
       "      <td>1.978975</td>\n",
       "    </tr>\n",
       "    <tr>\n",
       "      <th>2022-01-01 05:30:00</th>\n",
       "      <td>1.275883</td>\n",
       "      <td>1.081617</td>\n",
       "      <td>0.050564</td>\n",
       "    </tr>\n",
       "    <tr>\n",
       "      <th>2022-01-01 06:00:00</th>\n",
       "      <td>0.513791</td>\n",
       "      <td>0.610418</td>\n",
       "      <td>0.161223</td>\n",
       "    </tr>\n",
       "    <tr>\n",
       "      <th>2022-01-01 06:30:00</th>\n",
       "      <td>0.608751</td>\n",
       "      <td>-1.355377</td>\n",
       "      <td>-1.390185</td>\n",
       "    </tr>\n",
       "    <tr>\n",
       "      <th>2022-01-01 07:00:00</th>\n",
       "      <td>-1.163162</td>\n",
       "      <td>-0.757331</td>\n",
       "      <td>-0.153401</td>\n",
       "    </tr>\n",
       "    <tr>\n",
       "      <th>2022-01-01 07:30:00</th>\n",
       "      <td>-0.572425</td>\n",
       "      <td>-0.649866</td>\n",
       "      <td>0.095372</td>\n",
       "    </tr>\n",
       "    <tr>\n",
       "      <th>2022-01-01 08:00:00</th>\n",
       "      <td>0.165443</td>\n",
       "      <td>-1.507188</td>\n",
       "      <td>-0.418780</td>\n",
       "    </tr>\n",
       "    <tr>\n",
       "      <th>2022-01-01 08:30:00</th>\n",
       "      <td>-1.991306</td>\n",
       "      <td>-1.224483</td>\n",
       "      <td>-0.332877</td>\n",
       "    </tr>\n",
       "    <tr>\n",
       "      <th>2022-01-01 09:00:00</th>\n",
       "      <td>0.958506</td>\n",
       "      <td>0.235117</td>\n",
       "      <td>1.265632</td>\n",
       "    </tr>\n",
       "    <tr>\n",
       "      <th>2022-01-01 09:30:00</th>\n",
       "      <td>0.366767</td>\n",
       "      <td>0.357805</td>\n",
       "      <td>0.177336</td>\n",
       "    </tr>\n",
       "    <tr>\n",
       "      <th>2022-01-01 10:00:00</th>\n",
       "      <td>0.637523</td>\n",
       "      <td>-0.303131</td>\n",
       "      <td>0.614896</td>\n",
       "    </tr>\n",
       "    <tr>\n",
       "      <th>2022-01-01 10:30:00</th>\n",
       "      <td>-1.016443</td>\n",
       "      <td>-1.125700</td>\n",
       "      <td>0.286346</td>\n",
       "    </tr>\n",
       "    <tr>\n",
       "      <th>2022-01-01 11:00:00</th>\n",
       "      <td>-0.176844</td>\n",
       "      <td>1.172661</td>\n",
       "      <td>-1.157047</td>\n",
       "    </tr>\n",
       "    <tr>\n",
       "      <th>2022-01-01 11:30:00</th>\n",
       "      <td>0.537925</td>\n",
       "      <td>-1.596102</td>\n",
       "      <td>-0.129669</td>\n",
       "    </tr>\n",
       "    <tr>\n",
       "      <th>2022-01-01 12:00:00</th>\n",
       "      <td>0.362673</td>\n",
       "      <td>1.693331</td>\n",
       "      <td>-1.442208</td>\n",
       "    </tr>\n",
       "    <tr>\n",
       "      <th>2022-01-01 12:30:00</th>\n",
       "      <td>-1.121374</td>\n",
       "      <td>1.336900</td>\n",
       "      <td>2.200718</td>\n",
       "    </tr>\n",
       "    <tr>\n",
       "      <th>2022-01-01 13:00:00</th>\n",
       "      <td>-0.439390</td>\n",
       "      <td>-1.047186</td>\n",
       "      <td>0.324842</td>\n",
       "    </tr>\n",
       "    <tr>\n",
       "      <th>2022-01-01 13:30:00</th>\n",
       "      <td>-1.159870</td>\n",
       "      <td>0.267270</td>\n",
       "      <td>0.074324</td>\n",
       "    </tr>\n",
       "    <tr>\n",
       "      <th>2022-01-01 14:00:00</th>\n",
       "      <td>1.332232</td>\n",
       "      <td>0.008504</td>\n",
       "      <td>-0.657777</td>\n",
       "    </tr>\n",
       "    <tr>\n",
       "      <th>2022-01-01 14:30:00</th>\n",
       "      <td>-0.000468</td>\n",
       "      <td>0.779003</td>\n",
       "      <td>-1.292269</td>\n",
       "    </tr>\n",
       "    <tr>\n",
       "      <th>2022-01-01 15:00:00</th>\n",
       "      <td>0.829650</td>\n",
       "      <td>-2.247850</td>\n",
       "      <td>0.300142</td>\n",
       "    </tr>\n",
       "    <tr>\n",
       "      <th>2022-01-01 15:30:00</th>\n",
       "      <td>0.558232</td>\n",
       "      <td>-0.603872</td>\n",
       "      <td>1.765693</td>\n",
       "    </tr>\n",
       "    <tr>\n",
       "      <th>2022-01-01 16:00:00</th>\n",
       "      <td>1.828358</td>\n",
       "      <td>0.011824</td>\n",
       "      <td>0.106892</td>\n",
       "    </tr>\n",
       "    <tr>\n",
       "      <th>2022-01-01 16:30:00</th>\n",
       "      <td>-1.752982</td>\n",
       "      <td>-1.794156</td>\n",
       "      <td>0.936525</td>\n",
       "    </tr>\n",
       "    <tr>\n",
       "      <th>2022-01-01 17:00:00</th>\n",
       "      <td>-0.490640</td>\n",
       "      <td>0.068842</td>\n",
       "      <td>0.888027</td>\n",
       "    </tr>\n",
       "    <tr>\n",
       "      <th>2022-01-01 17:30:00</th>\n",
       "      <td>0.461312</td>\n",
       "      <td>-0.127354</td>\n",
       "      <td>0.222326</td>\n",
       "    </tr>\n",
       "    <tr>\n",
       "      <th>2022-01-01 18:00:00</th>\n",
       "      <td>-0.171796</td>\n",
       "      <td>0.083872</td>\n",
       "      <td>-1.486901</td>\n",
       "    </tr>\n",
       "    <tr>\n",
       "      <th>2022-01-01 18:30:00</th>\n",
       "      <td>0.304223</td>\n",
       "      <td>1.185958</td>\n",
       "      <td>-0.951472</td>\n",
       "    </tr>\n",
       "    <tr>\n",
       "      <th>2022-01-01 19:00:00</th>\n",
       "      <td>-1.112442</td>\n",
       "      <td>-1.086090</td>\n",
       "      <td>-1.129770</td>\n",
       "    </tr>\n",
       "    <tr>\n",
       "      <th>2022-01-01 19:30:00</th>\n",
       "      <td>-0.650000</td>\n",
       "      <td>1.814697</td>\n",
       "      <td>-0.614907</td>\n",
       "    </tr>\n",
       "    <tr>\n",
       "      <th>2022-01-01 20:00:00</th>\n",
       "      <td>0.330052</td>\n",
       "      <td>0.445958</td>\n",
       "      <td>-0.686917</td>\n",
       "    </tr>\n",
       "    <tr>\n",
       "      <th>2022-01-01 20:30:00</th>\n",
       "      <td>0.407458</td>\n",
       "      <td>-1.492509</td>\n",
       "      <td>0.932984</td>\n",
       "    </tr>\n",
       "    <tr>\n",
       "      <th>2022-01-01 21:00:00</th>\n",
       "      <td>-0.297551</td>\n",
       "      <td>0.796061</td>\n",
       "      <td>-0.616920</td>\n",
       "    </tr>\n",
       "    <tr>\n",
       "      <th>2022-01-01 21:30:00</th>\n",
       "      <td>0.332586</td>\n",
       "      <td>0.247643</td>\n",
       "      <td>-0.289581</td>\n",
       "    </tr>\n",
       "    <tr>\n",
       "      <th>2022-01-01 22:00:00</th>\n",
       "      <td>0.016540</td>\n",
       "      <td>-0.393865</td>\n",
       "      <td>-0.195526</td>\n",
       "    </tr>\n",
       "    <tr>\n",
       "      <th>2022-01-01 22:30:00</th>\n",
       "      <td>-1.026514</td>\n",
       "      <td>-1.095989</td>\n",
       "      <td>0.308639</td>\n",
       "    </tr>\n",
       "    <tr>\n",
       "      <th>2022-01-01 23:00:00</th>\n",
       "      <td>-0.268313</td>\n",
       "      <td>0.424911</td>\n",
       "      <td>0.644290</td>\n",
       "    </tr>\n",
       "    <tr>\n",
       "      <th>2022-01-01 23:30:00</th>\n",
       "      <td>-0.168786</td>\n",
       "      <td>0.577862</td>\n",
       "      <td>0.080051</td>\n",
       "    </tr>\n",
       "  </tbody>\n",
       "</table>\n",
       "</div>"
      ],
      "text/plain": [
       "                            A         B         C\n",
       "2022-01-01 00:00:00 -1.368164  1.240031 -2.295070\n",
       "2022-01-01 00:30:00  0.221686  0.632223 -0.393122\n",
       "2022-01-01 01:00:00 -1.331117 -0.273367 -0.786147\n",
       "2022-01-01 01:30:00 -0.837618  1.187369  2.050384\n",
       "2022-01-01 02:00:00 -2.734470  0.650953  0.500298\n",
       "2022-01-01 02:30:00  0.711884 -0.045734 -0.713612\n",
       "2022-01-01 03:00:00  0.378756 -0.343029  1.434807\n",
       "2022-01-01 03:30:00  0.163009  0.259440  0.601380\n",
       "2022-01-01 04:00:00 -0.402562  1.264975 -2.577378\n",
       "2022-01-01 04:30:00 -1.846685  0.270604 -0.135727\n",
       "2022-01-01 05:00:00  0.158063 -0.406440  1.978975\n",
       "2022-01-01 05:30:00  1.275883  1.081617  0.050564\n",
       "2022-01-01 06:00:00  0.513791  0.610418  0.161223\n",
       "2022-01-01 06:30:00  0.608751 -1.355377 -1.390185\n",
       "2022-01-01 07:00:00 -1.163162 -0.757331 -0.153401\n",
       "2022-01-01 07:30:00 -0.572425 -0.649866  0.095372\n",
       "2022-01-01 08:00:00  0.165443 -1.507188 -0.418780\n",
       "2022-01-01 08:30:00 -1.991306 -1.224483 -0.332877\n",
       "2022-01-01 09:00:00  0.958506  0.235117  1.265632\n",
       "2022-01-01 09:30:00  0.366767  0.357805  0.177336\n",
       "2022-01-01 10:00:00  0.637523 -0.303131  0.614896\n",
       "2022-01-01 10:30:00 -1.016443 -1.125700  0.286346\n",
       "2022-01-01 11:00:00 -0.176844  1.172661 -1.157047\n",
       "2022-01-01 11:30:00  0.537925 -1.596102 -0.129669\n",
       "2022-01-01 12:00:00  0.362673  1.693331 -1.442208\n",
       "2022-01-01 12:30:00 -1.121374  1.336900  2.200718\n",
       "2022-01-01 13:00:00 -0.439390 -1.047186  0.324842\n",
       "2022-01-01 13:30:00 -1.159870  0.267270  0.074324\n",
       "2022-01-01 14:00:00  1.332232  0.008504 -0.657777\n",
       "2022-01-01 14:30:00 -0.000468  0.779003 -1.292269\n",
       "2022-01-01 15:00:00  0.829650 -2.247850  0.300142\n",
       "2022-01-01 15:30:00  0.558232 -0.603872  1.765693\n",
       "2022-01-01 16:00:00  1.828358  0.011824  0.106892\n",
       "2022-01-01 16:30:00 -1.752982 -1.794156  0.936525\n",
       "2022-01-01 17:00:00 -0.490640  0.068842  0.888027\n",
       "2022-01-01 17:30:00  0.461312 -0.127354  0.222326\n",
       "2022-01-01 18:00:00 -0.171796  0.083872 -1.486901\n",
       "2022-01-01 18:30:00  0.304223  1.185958 -0.951472\n",
       "2022-01-01 19:00:00 -1.112442 -1.086090 -1.129770\n",
       "2022-01-01 19:30:00 -0.650000  1.814697 -0.614907\n",
       "2022-01-01 20:00:00  0.330052  0.445958 -0.686917\n",
       "2022-01-01 20:30:00  0.407458 -1.492509  0.932984\n",
       "2022-01-01 21:00:00 -0.297551  0.796061 -0.616920\n",
       "2022-01-01 21:30:00  0.332586  0.247643 -0.289581\n",
       "2022-01-01 22:00:00  0.016540 -0.393865 -0.195526\n",
       "2022-01-01 22:30:00 -1.026514 -1.095989  0.308639\n",
       "2022-01-01 23:00:00 -0.268313  0.424911  0.644290\n",
       "2022-01-01 23:30:00 -0.168786  0.577862  0.080051"
      ]
     },
     "execution_count": 101,
     "metadata": {},
     "output_type": "execute_result"
    }
   ],
   "source": [
    "df = pd.DataFrame(data, index=index, columns=['A', 'B', 'C'])\n",
    "df"
   ]
  },
  {
   "cell_type": "code",
   "execution_count": 103,
   "metadata": {
    "scrolled": true
   },
   "outputs": [
    {
     "data": {
      "image/png": "[encoded data removed]",
      "text/plain": [
       "<Figure size 640x480 with 1 Axes>"
      ]
     },
     "metadata": {},
     "output_type": "display_data"
    }
   ],
   "source": [
    "df.plot()\n",
    "plt.legend(loc='best')\n",
    "plt.show()"
   ]
  },
  {
   "cell_type": "code",
   "execution_count": 105,
   "metadata": {
    "scrolled": true
   },
   "outputs": [
    {
     "data": {
      "text/html": [
       "<div>\n",
       "<style scoped>\n",
       "    .dataframe tbody tr th:only-of-type {\n",
       "        vertical-align: middle;\n",
       "    }\n",
       "\n",
       "    .dataframe tbody tr th {\n",
       "        vertical-align: top;\n",
       "    }\n",
       "\n",
       "    .dataframe thead th {\n",
       "        text-align: right;\n",
       "    }\n",
       "</style>\n",
       "<table border=\"1\" class=\"dataframe\">\n",
       "  <thead>\n",
       "    <tr style=\"text-align: right;\">\n",
       "      <th></th>\n",
       "      <th>A</th>\n",
       "      <th>B</th>\n",
       "      <th>C</th>\n",
       "    </tr>\n",
       "  </thead>\n",
       "  <tbody>\n",
       "    <tr>\n",
       "      <th>2022-01-01 00:00:00</th>\n",
       "      <td>-1.368164</td>\n",
       "      <td>1.240031</td>\n",
       "      <td>-2.295070</td>\n",
       "    </tr>\n",
       "    <tr>\n",
       "      <th>2022-01-01 00:30:00</th>\n",
       "      <td>-1.146478</td>\n",
       "      <td>1.872254</td>\n",
       "      <td>-2.688192</td>\n",
       "    </tr>\n",
       "    <tr>\n",
       "      <th>2022-01-01 01:00:00</th>\n",
       "      <td>-2.477595</td>\n",
       "      <td>1.598887</td>\n",
       "      <td>-3.474339</td>\n",
       "    </tr>\n",
       "    <tr>\n",
       "      <th>2022-01-01 01:30:00</th>\n",
       "      <td>-3.315213</td>\n",
       "      <td>2.786257</td>\n",
       "      <td>-1.423955</td>\n",
       "    </tr>\n",
       "    <tr>\n",
       "      <th>2022-01-01 02:00:00</th>\n",
       "      <td>-6.049683</td>\n",
       "      <td>3.437210</td>\n",
       "      <td>-0.923657</td>\n",
       "    </tr>\n",
       "    <tr>\n",
       "      <th>2022-01-01 02:30:00</th>\n",
       "      <td>-5.337799</td>\n",
       "      <td>3.391476</td>\n",
       "      <td>-1.637269</td>\n",
       "    </tr>\n",
       "    <tr>\n",
       "      <th>2022-01-01 03:00:00</th>\n",
       "      <td>-4.959043</td>\n",
       "      <td>3.048447</td>\n",
       "      <td>-0.202462</td>\n",
       "    </tr>\n",
       "    <tr>\n",
       "      <th>2022-01-01 03:30:00</th>\n",
       "      <td>-4.796034</td>\n",
       "      <td>3.307887</td>\n",
       "      <td>0.398918</td>\n",
       "    </tr>\n",
       "    <tr>\n",
       "      <th>2022-01-01 04:00:00</th>\n",
       "      <td>-5.198596</td>\n",
       "      <td>4.572861</td>\n",
       "      <td>-2.178461</td>\n",
       "    </tr>\n",
       "    <tr>\n",
       "      <th>2022-01-01 04:30:00</th>\n",
       "      <td>-7.045281</td>\n",
       "      <td>4.843465</td>\n",
       "      <td>-2.314187</td>\n",
       "    </tr>\n",
       "    <tr>\n",
       "      <th>2022-01-01 05:00:00</th>\n",
       "      <td>-6.887217</td>\n",
       "      <td>4.437025</td>\n",
       "      <td>-0.335212</td>\n",
       "    </tr>\n",
       "    <tr>\n",
       "      <th>2022-01-01 05:30:00</th>\n",
       "      <td>-5.611334</td>\n",
       "      <td>5.518642</td>\n",
       "      <td>-0.284649</td>\n",
       "    </tr>\n",
       "    <tr>\n",
       "      <th>2022-01-01 06:00:00</th>\n",
       "      <td>-5.097543</td>\n",
       "      <td>6.129060</td>\n",
       "      <td>-0.123426</td>\n",
       "    </tr>\n",
       "    <tr>\n",
       "      <th>2022-01-01 06:30:00</th>\n",
       "      <td>-4.488792</td>\n",
       "      <td>4.773683</td>\n",
       "      <td>-1.513611</td>\n",
       "    </tr>\n",
       "    <tr>\n",
       "      <th>2022-01-01 07:00:00</th>\n",
       "      <td>-5.651954</td>\n",
       "      <td>4.016352</td>\n",
       "      <td>-1.667012</td>\n",
       "    </tr>\n",
       "    <tr>\n",
       "      <th>2022-01-01 07:30:00</th>\n",
       "      <td>-6.224379</td>\n",
       "      <td>3.366486</td>\n",
       "      <td>-1.571640</td>\n",
       "    </tr>\n",
       "    <tr>\n",
       "      <th>2022-01-01 08:00:00</th>\n",
       "      <td>-6.058936</td>\n",
       "      <td>1.859298</td>\n",
       "      <td>-1.990420</td>\n",
       "    </tr>\n",
       "    <tr>\n",
       "      <th>2022-01-01 08:30:00</th>\n",
       "      <td>-8.050242</td>\n",
       "      <td>0.634815</td>\n",
       "      <td>-2.323296</td>\n",
       "    </tr>\n",
       "    <tr>\n",
       "      <th>2022-01-01 09:00:00</th>\n",
       "      <td>-7.091737</td>\n",
       "      <td>0.869932</td>\n",
       "      <td>-1.057664</td>\n",
       "    </tr>\n",
       "    <tr>\n",
       "      <th>2022-01-01 09:30:00</th>\n",
       "      <td>-6.724969</td>\n",
       "      <td>1.227737</td>\n",
       "      <td>-0.880328</td>\n",
       "    </tr>\n",
       "    <tr>\n",
       "      <th>2022-01-01 10:00:00</th>\n",
       "      <td>-6.087447</td>\n",
       "      <td>0.924606</td>\n",
       "      <td>-0.265432</td>\n",
       "    </tr>\n",
       "    <tr>\n",
       "      <th>2022-01-01 10:30:00</th>\n",
       "      <td>-7.103890</td>\n",
       "      <td>-0.201094</td>\n",
       "      <td>0.020914</td>\n",
       "    </tr>\n",
       "    <tr>\n",
       "      <th>2022-01-01 11:00:00</th>\n",
       "      <td>-7.280734</td>\n",
       "      <td>0.971567</td>\n",
       "      <td>-1.136134</td>\n",
       "    </tr>\n",
       "    <tr>\n",
       "      <th>2022-01-01 11:30:00</th>\n",
       "      <td>-6.742809</td>\n",
       "      <td>-0.624535</td>\n",
       "      <td>-1.265802</td>\n",
       "    </tr>\n",
       "    <tr>\n",
       "      <th>2022-01-01 12:00:00</th>\n",
       "      <td>-6.380136</td>\n",
       "      <td>1.068796</td>\n",
       "      <td>-2.708011</td>\n",
       "    </tr>\n",
       "    <tr>\n",
       "      <th>2022-01-01 12:30:00</th>\n",
       "      <td>-7.501510</td>\n",
       "      <td>2.405696</td>\n",
       "      <td>-0.507293</td>\n",
       "    </tr>\n",
       "    <tr>\n",
       "      <th>2022-01-01 13:00:00</th>\n",
       "      <td>-7.940900</td>\n",
       "      <td>1.358510</td>\n",
       "      <td>-0.182450</td>\n",
       "    </tr>\n",
       "    <tr>\n",
       "      <th>2022-01-01 13:30:00</th>\n",
       "      <td>-9.100770</td>\n",
       "      <td>1.625780</td>\n",
       "      <td>-0.108126</td>\n",
       "    </tr>\n",
       "    <tr>\n",
       "      <th>2022-01-01 14:00:00</th>\n",
       "      <td>-7.768538</td>\n",
       "      <td>1.634285</td>\n",
       "      <td>-0.765903</td>\n",
       "    </tr>\n",
       "    <tr>\n",
       "      <th>2022-01-01 14:30:00</th>\n",
       "      <td>-7.769006</td>\n",
       "      <td>2.413288</td>\n",
       "      <td>-2.058172</td>\n",
       "    </tr>\n",
       "    <tr>\n",
       "      <th>2022-01-01 15:00:00</th>\n",
       "      <td>-6.939357</td>\n",
       "      <td>0.165438</td>\n",
       "      <td>-1.758030</td>\n",
       "    </tr>\n",
       "    <tr>\n",
       "      <th>2022-01-01 15:30:00</th>\n",
       "      <td>-6.381124</td>\n",
       "      <td>-0.438434</td>\n",
       "      <td>0.007663</td>\n",
       "    </tr>\n",
       "    <tr>\n",
       "      <th>2022-01-01 16:00:00</th>\n",
       "      <td>-4.552767</td>\n",
       "      <td>-0.426610</td>\n",
       "      <td>0.114554</td>\n",
       "    </tr>\n",
       "    <tr>\n",
       "      <th>2022-01-01 16:30:00</th>\n",
       "      <td>-6.305749</td>\n",
       "      <td>-2.220766</td>\n",
       "      <td>1.051079</td>\n",
       "    </tr>\n",
       "    <tr>\n",
       "      <th>2022-01-01 17:00:00</th>\n",
       "      <td>-6.796388</td>\n",
       "      <td>-2.151924</td>\n",
       "      <td>1.939106</td>\n",
       "    </tr>\n",
       "    <tr>\n",
       "      <th>2022-01-01 17:30:00</th>\n",
       "      <td>-6.335076</td>\n",
       "      <td>-2.279278</td>\n",
       "      <td>2.161432</td>\n",
       "    </tr>\n",
       "    <tr>\n",
       "      <th>2022-01-01 18:00:00</th>\n",
       "      <td>-6.506872</td>\n",
       "      <td>-2.195405</td>\n",
       "      <td>0.674531</td>\n",
       "    </tr>\n",
       "    <tr>\n",
       "      <th>2022-01-01 18:30:00</th>\n",
       "      <td>-6.202649</td>\n",
       "      <td>-1.009447</td>\n",
       "      <td>-0.276941</td>\n",
       "    </tr>\n",
       "    <tr>\n",
       "      <th>2022-01-01 19:00:00</th>\n",
       "      <td>-7.315091</td>\n",
       "      <td>-2.095538</td>\n",
       "      <td>-1.406711</td>\n",
       "    </tr>\n",
       "    <tr>\n",
       "      <th>2022-01-01 19:30:00</th>\n",
       "      <td>-7.965091</td>\n",
       "      <td>-0.280840</td>\n",
       "      <td>-2.021618</td>\n",
       "    </tr>\n",
       "    <tr>\n",
       "      <th>2022-01-01 20:00:00</th>\n",
       "      <td>-7.635038</td>\n",
       "      <td>0.165118</td>\n",
       "      <td>-2.708535</td>\n",
       "    </tr>\n",
       "    <tr>\n",
       "      <th>2022-01-01 20:30:00</th>\n",
       "      <td>-7.227580</td>\n",
       "      <td>-1.327392</td>\n",
       "      <td>-1.775551</td>\n",
       "    </tr>\n",
       "    <tr>\n",
       "      <th>2022-01-01 21:00:00</th>\n",
       "      <td>-7.525131</td>\n",
       "      <td>-0.531330</td>\n",
       "      <td>-2.392471</td>\n",
       "    </tr>\n",
       "    <tr>\n",
       "      <th>2022-01-01 21:30:00</th>\n",
       "      <td>-7.192545</td>\n",
       "      <td>-0.283687</td>\n",
       "      <td>-2.682052</td>\n",
       "    </tr>\n",
       "    <tr>\n",
       "      <th>2022-01-01 22:00:00</th>\n",
       "      <td>-7.176005</td>\n",
       "      <td>-0.677552</td>\n",
       "      <td>-2.877577</td>\n",
       "    </tr>\n",
       "    <tr>\n",
       "      <th>2022-01-01 22:30:00</th>\n",
       "      <td>-8.202519</td>\n",
       "      <td>-1.773541</td>\n",
       "      <td>-2.568938</td>\n",
       "    </tr>\n",
       "    <tr>\n",
       "      <th>2022-01-01 23:00:00</th>\n",
       "      <td>-8.470832</td>\n",
       "      <td>-1.348630</td>\n",
       "      <td>-1.924647</td>\n",
       "    </tr>\n",
       "    <tr>\n",
       "      <th>2022-01-01 23:30:00</th>\n",
       "      <td>-8.639618</td>\n",
       "      <td>-0.770768</td>\n",
       "      <td>-1.844596</td>\n",
       "    </tr>\n",
       "  </tbody>\n",
       "</table>\n",
       "</div>"
      ],
      "text/plain": [
       "                            A         B         C\n",
       "2022-01-01 00:00:00 -1.368164  1.240031 -2.295070\n",
       "2022-01-01 00:30:00 -1.146478  1.872254 -2.688192\n",
       "2022-01-01 01:00:00 -2.477595  1.598887 -3.474339\n",
       "2022-01-01 01:30:00 -3.315213  2.786257 -1.423955\n",
       "2022-01-01 02:00:00 -6.049683  3.437210 -0.923657\n",
       "2022-01-01 02:30:00 -5.337799  3.391476 -1.637269\n",
       "2022-01-01 03:00:00 -4.959043  3.048447 -0.202462\n",
       "2022-01-01 03:30:00 -4.796034  3.307887  0.398918\n",
       "2022-01-01 04:00:00 -5.198596  4.572861 -2.178461\n",
       "2022-01-01 04:30:00 -7.045281  4.843465 -2.314187\n",
       "2022-01-01 05:00:00 -6.887217  4.437025 -0.335212\n",
       "2022-01-01 05:30:00 -5.611334  5.518642 -0.284649\n",
       "2022-01-01 06:00:00 -5.097543  6.129060 -0.123426\n",
       "2022-01-01 06:30:00 -4.488792  4.773683 -1.513611\n",
       "2022-01-01 07:00:00 -5.651954  4.016352 -1.667012\n",
       "2022-01-01 07:30:00 -6.224379  3.366486 -1.571640\n",
       "2022-01-01 08:00:00 -6.058936  1.859298 -1.990420\n",
       "2022-01-01 08:30:00 -8.050242  0.634815 -2.323296\n",
       "2022-01-01 09:00:00 -7.091737  0.869932 -1.057664\n",
       "2022-01-01 09:30:00 -6.724969  1.227737 -0.880328\n",
       "2022-01-01 10:00:00 -6.087447  0.924606 -0.265432\n",
       "2022-01-01 10:30:00 -7.103890 -0.201094  0.020914\n",
       "2022-01-01 11:00:00 -7.280734  0.971567 -1.136134\n",
       "2022-01-01 11:30:00 -6.742809 -0.624535 -1.265802\n",
       "2022-01-01 12:00:00 -6.380136  1.068796 -2.708011\n",
       "2022-01-01 12:30:00 -7.501510  2.405696 -0.507293\n",
       "2022-01-01 13:00:00 -7.940900  1.358510 -0.182450\n",
       "2022-01-01 13:30:00 -9.100770  1.625780 -0.108126\n",
       "2022-01-01 14:00:00 -7.768538  1.634285 -0.765903\n",
       "2022-01-01 14:30:00 -7.769006  2.413288 -2.058172\n",
       "2022-01-01 15:00:00 -6.939357  0.165438 -1.758030\n",
       "2022-01-01 15:30:00 -6.381124 -0.438434  0.007663\n",
       "2022-01-01 16:00:00 -4.552767 -0.426610  0.114554\n",
       "2022-01-01 16:30:00 -6.305749 -2.220766  1.051079\n",
       "2022-01-01 17:00:00 -6.796388 -2.151924  1.939106\n",
       "2022-01-01 17:30:00 -6.335076 -2.279278  2.161432\n",
       "2022-01-01 18:00:00 -6.506872 -2.195405  0.674531\n",
       "2022-01-01 18:30:00 -6.202649 -1.009447 -0.276941\n",
       "2022-01-01 19:00:00 -7.315091 -2.095538 -1.406711\n",
       "2022-01-01 19:30:00 -7.965091 -0.280840 -2.021618\n",
       "2022-01-01 20:00:00 -7.635038  0.165118 -2.708535\n",
       "2022-01-01 20:30:00 -7.227580 -1.327392 -1.775551\n",
       "2022-01-01 21:00:00 -7.525131 -0.531330 -2.392471\n",
       "2022-01-01 21:30:00 -7.192545 -0.283687 -2.682052\n",
       "2022-01-01 22:00:00 -7.176005 -0.677552 -2.877577\n",
       "2022-01-01 22:30:00 -8.202519 -1.773541 -2.568938\n",
       "2022-01-01 23:00:00 -8.470832 -1.348630 -1.924647\n",
       "2022-01-01 23:30:00 -8.639618 -0.770768 -1.844596"
      ]
     },
     "execution_count": 105,
     "metadata": {},
     "output_type": "execute_result"
    }
   ],
   "source": [
    "df2 = df.cumsum()\n",
    "df2"
   ]
  },
  {
   "cell_type": "code",
   "execution_count": 107,
   "metadata": {
    "scrolled": true
   },
   "outputs": [
    {
     "data": {
      "image/png": "[encoded data removed]",
      "text/plain": [
       "<Figure size 640x480 with 1 Axes>"
      ]
     },
     "metadata": {},
     "output_type": "display_data"
    }
   ],
   "source": [
    "df2.plot()\n",
    "plt.legend(loc='best')\n",
    "#plt.legend(loc='right')\n",
    "plt.show()"
   ]
  },
  {
   "cell_type": "code",
   "execution_count": null,
   "metadata": {},
   "outputs": [],
   "source": []
  },
  {
   "cell_type": "code",
   "execution_count": null,
   "metadata": {},
   "outputs": [],
   "source": []
  }
 ],
 "metadata": {
  "kernelspec": {
   "display_name": "Python 3 (ipykernel)",
   "language": "python",
   "name": "python3"
  },
  "language_info": {
   "codemirror_mode": {
    "name": "ipython",
    "version": 3
   },
   "file_extension": ".py",
   "mimetype": "text/x-python",
   "name": "python",
   "nbconvert_exporter": "python",
   "pygments_lexer": "ipython3",
   "version": "3.12.4"
  }
 },
 "nbformat": 4,
 "nbformat_minor": 4
}
