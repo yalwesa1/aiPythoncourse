{
 "cells": [
  {
   "cell_type": "markdown",
   "id": "9af87467-649d-48fc-a34d-db366f7faf4c",
   "metadata": {},
   "source": [
    "# **Algorithm vs Code**\n",
    "\n",
    "- **☑ An algorithm is a series of steps for solving a problem, completing a task or performing a calculation**\n",
    "\n",
    "- **☑ Coding is a series of steps for solving a problem that machines can execute**\n",
    "\n",
    "- **☑ Writing an algorithm is simpler (we don’t need to worry about the detailed implementation, or the language syntax)**\n",
    "\n",
    "## **☑ Writing algorithm steps**\n",
    "- **☑ Obtain a description of the problem**\n",
    "- **☑ Analyze the problem**\n",
    "- **☑ Develop a high-level algorithm**\n",
    "- **☑ Refine the algorithm by adding more detail**\n",
    "- **☑ Review the logic with small samples**\n"
   ]
  },
  {
   "cell_type": "markdown",
   "id": "1af1e959-e9ed-44df-a691-bf84b34c8717",
   "metadata": {},
   "source": [
    "## 🟩 Problem: Write an algorithm that prints out the maximum number among given three numbers "
   ]
  },
  {
   "cell_type": "code",
   "execution_count": null,
   "id": "01790b9b-f56c-45c4-ba90-ca0c171d23b3",
   "metadata": {},
   "outputs": [],
   "source": []
  },
  {
   "cell_type": "code",
   "execution_count": null,
   "id": "b60a4ec5-cb5b-4782-845a-d20c35281e47",
   "metadata": {},
   "outputs": [],
   "source": []
  },
  {
   "cell_type": "code",
   "execution_count": null,
   "id": "25030f29-9164-45f2-b5a2-20f3dbed0d28",
   "metadata": {},
   "outputs": [],
   "source": []
  },
  {
   "cell_type": "markdown",
   "id": "93d66a79-ef51-4ca9-9ce4-f6ec47ba0d9b",
   "metadata": {},
   "source": [
    "## 🟩 Problem: Write an algorithm that prints out all even numbers from 1 to 6\n",
    "\n",
    "## 🟩 Solution:\n",
    "\n",
    "- 🟢 **Description**: I need a program that can print the numbers (2, 4, and 6)\n",
    "  \n",
    "- 🟢 **Analysis**: Maybe tell the program to start from 2 and jump by two?\n",
    "  - Or using the idea that `i mod 2 = 0`?\n",
    "\n",
    "- 🟢 **High-level algorithm**:\n",
    "  - For `i = 2` to 6 with step 2, print `i`.\n",
    "  - Or For `i = 1` to 6:\n",
    "    - If `i mod 2 = 0` then print `i`\n",
    "\n",
    "- 🟢 **Review the logic**\n"
   ]
  },
  {
   "cell_type": "markdown",
   "id": "b02a4f57-8684-4dc7-8f4a-80707b4fb3ba",
   "metadata": {},
   "source": [
    "## 🟩 Problem: Sort the list `x=[1,5,2,7]` in an ascending order\n",
    "\n",
    "## 🟩 Solution:\n",
    "\n",
    "- 🟢 **Description**: I need a program that can print to me `[1,2,5,7]`\n",
    "  \n",
    "- 🟢 **Analysis**: Compare each element with its neighbor and shift them accordingly?\n",
    "\n",
    "- 🟢 **High-level algorithm**:\n",
    "  - For `i = 2` to 4:\n",
    "    - If `x[i] < x[i - 1]` then:\n",
    "      - `T = x[i]`\n",
    "      - `x[i] = x[i - 1]`\n",
    "      - `x[i - 1] = T`\n",
    "    - End\n",
    "\n",
    "- 🟢 **Review the logic**\n",
    "  - What if `x = [1,5,2,4]`?\n"
   ]
  },
  {
   "cell_type": "code",
   "execution_count": null,
   "id": "b0f59093-edd1-4815-8a9b-0df35b930817",
   "metadata": {},
   "outputs": [],
   "source": []
  },
  {
   "cell_type": "code",
   "execution_count": 71,
   "id": "967ba8f0-b1c1-45dd-8d83-68132f573d0a",
   "metadata": {},
   "outputs": [],
   "source": [
    "a=5\n",
    "b=3\n",
    "# I need to swap them"
   ]
  },
  {
   "cell_type": "code",
   "execution_count": 77,
   "id": "204770f1-79c3-4eb1-aa60-2191a0f186a3",
   "metadata": {},
   "outputs": [
    {
     "data": {
      "text/plain": [
       "3"
      ]
     },
     "execution_count": 77,
     "metadata": {},
     "output_type": "execute_result"
    }
   ],
   "source": [
    "a=b\n",
    "a"
   ]
  },
  {
   "cell_type": "code",
   "execution_count": 79,
   "id": "5a5fa5d6-d043-4ab6-9d34-738d5f4c8ca8",
   "metadata": {},
   "outputs": [
    {
     "data": {
      "text/plain": [
       "3"
      ]
     },
     "execution_count": 79,
     "metadata": {},
     "output_type": "execute_result"
    }
   ],
   "source": [
    "b=a\n",
    "b"
   ]
  },
  {
   "cell_type": "markdown",
   "id": "bd5fa1e9-8ada-4ec2-a834-49562fb0e500",
   "metadata": {},
   "source": [
    "## How to swap two numbers in Python?"
   ]
  },
  {
   "cell_type": "code",
   "execution_count": 82,
   "id": "8fce1f34-69c9-4f14-a46e-e045452b050a",
   "metadata": {},
   "outputs": [
    {
     "name": "stdout",
     "output_type": "stream",
     "text": [
      "a=3, b= 5\n"
     ]
    }
   ],
   "source": [
    "a=5\n",
    "b=3\n",
    "temp=a\n",
    "a=b\n",
    "b=temp\n",
    "print(f\"a={a}, b= {b}\")"
   ]
  },
  {
   "cell_type": "code",
   "execution_count": 84,
   "id": "07d6a688-22cb-4eaf-851a-0f287601b266",
   "metadata": {},
   "outputs": [
    {
     "name": "stdout",
     "output_type": "stream",
     "text": [
      "After swapping:\n",
      "a = 10\n",
      "b = 5\n"
     ]
    }
   ],
   "source": [
    "# Initial values\n",
    "a = 5\n",
    "b = 10\n",
    "\n",
    "# Swap the values\n",
    "a, b = b, a\n",
    "\n",
    "# Output the swapped values\n",
    "print(\"After swapping:\")\n",
    "print(\"a =\", a)\n",
    "print(\"b =\", b)\n"
   ]
  },
  {
   "cell_type": "code",
   "execution_count": 7,
   "id": "07e6aaed-87e4-4fea-84d1-4b94efe54335",
   "metadata": {},
   "outputs": [
    {
     "data": {
      "text/plain": [
       "[5, 3]"
      ]
     },
     "execution_count": 7,
     "metadata": {},
     "output_type": "execute_result"
    }
   ],
   "source": [
    "x=[5,3]\n",
    "x"
   ]
  },
  {
   "cell_type": "code",
   "execution_count": 11,
   "id": "60a471e0-3b6e-44e5-ac0a-dd9abaf50dfa",
   "metadata": {},
   "outputs": [
    {
     "data": {
      "text/plain": [
       "3"
      ]
     },
     "execution_count": 11,
     "metadata": {},
     "output_type": "execute_result"
    }
   ],
   "source": [
    "x[1]"
   ]
  },
  {
   "cell_type": "code",
   "execution_count": 13,
   "id": "d106d5bd-398a-47cb-ae02-81970bd2f1ee",
   "metadata": {},
   "outputs": [
    {
     "data": {
      "text/plain": [
       "3"
      ]
     },
     "execution_count": 13,
     "metadata": {},
     "output_type": "execute_result"
    }
   ],
   "source": [
    "x[0]=x[1]\n",
    "x[0]"
   ]
  },
  {
   "cell_type": "code",
   "execution_count": 17,
   "id": "24a834e3-60a6-412b-869a-78693b572f8b",
   "metadata": {},
   "outputs": [
    {
     "data": {
      "text/plain": [
       "3"
      ]
     },
     "execution_count": 17,
     "metadata": {},
     "output_type": "execute_result"
    }
   ],
   "source": [
    "x[1]=x[0]\n",
    "x[1]"
   ]
  },
  {
   "cell_type": "code",
   "execution_count": 19,
   "id": "00aecaac-b572-43f9-9adc-e8ba550bf798",
   "metadata": {},
   "outputs": [],
   "source": [
    "a=5\n",
    "b=3"
   ]
  },
  {
   "cell_type": "code",
   "execution_count": 25,
   "id": "42a94f2a-3e29-4fff-a894-b97af05ae29e",
   "metadata": {},
   "outputs": [],
   "source": [
    "b=a"
   ]
  },
  {
   "cell_type": "code",
   "execution_count": 27,
   "id": "414561fb-fdb9-4812-8332-324cb017d8e3",
   "metadata": {},
   "outputs": [
    {
     "name": "stdout",
     "output_type": "stream",
     "text": [
      "5\n",
      "5\n"
     ]
    }
   ],
   "source": [
    "print(b)\n",
    "print(a)"
   ]
  },
  {
   "cell_type": "code",
   "execution_count": 33,
   "id": "18307732-f7e8-4789-adf8-5bdefc6e51af",
   "metadata": {},
   "outputs": [
    {
     "name": "stdout",
     "output_type": "stream",
     "text": [
      "a=3, b=5\n"
     ]
    }
   ],
   "source": [
    "a=5\n",
    "b=3\n",
    "c=a\n",
    "a=b\n",
    "b=c\n",
    "print(f\"a={a}, b={b}\")\n",
    "\n"
   ]
  },
  {
   "cell_type": "code",
   "execution_count": 35,
   "id": "6d27a1f0-320f-46e8-b958-d157db009b4e",
   "metadata": {},
   "outputs": [
    {
     "name": "stdout",
     "output_type": "stream",
     "text": [
      "a=5, b=3\n"
     ]
    }
   ],
   "source": [
    "a,b=5,3\n",
    "print(f\"a={a}, b={b}\")"
   ]
  },
  {
   "cell_type": "code",
   "execution_count": 86,
   "id": "865099d7-41ae-4645-b555-80e187b37d55",
   "metadata": {},
   "outputs": [
    {
     "name": "stdout",
     "output_type": "stream",
     "text": [
      "a=5, b=10\n"
     ]
    }
   ],
   "source": [
    "a,b=b,a\n",
    "print(f\"a={a}, b={b}\")"
   ]
  },
  {
   "cell_type": "code",
   "execution_count": 94,
   "id": "1bfed1a5-8d00-457b-bd98-1e56ea77fe5e",
   "metadata": {},
   "outputs": [],
   "source": [
    "from PIL import Image\n",
    "# Open an image file\n",
    "with Image.open('Diagram algorithm.jpg') as img:\n",
    "    # Display the image\n",
    "    img.show()\n"
   ]
  },
  {
   "cell_type": "code",
   "execution_count": 92,
   "id": "58e4f7e9-bb52-4b72-89dc-2d9f09920eaf",
   "metadata": {},
   "outputs": [
    {
     "data": {
      "image/png": "[encoded data removed]",
      "text/plain": [
       "<Figure size 640x480 with 1 Axes>"
      ]
     },
     "metadata": {},
     "output_type": "display_data"
    }
   ],
   "source": [
    "import matplotlib.pyplot as plt\n",
    "import matplotlib.image as mpimg\n",
    "\n",
    "# Read the image file\n",
    "img = mpimg.imread('Diagram algorithm.jpg')\n",
    "\n",
    "# Display the image\n",
    "plt.imshow(img)\n",
    "plt.axis('off')  # Hide the axis\n",
    "plt.show()\n"
   ]
  },
  {
   "cell_type": "markdown",
   "id": "43361704-732f-4199-b764-0ef05d2a7775",
   "metadata": {},
   "source": [
    "## Excercise: Use ChatGPT"
   ]
  },
  {
   "cell_type": "markdown",
   "id": "d4fca492-bab9-4712-abf3-2b9442fcb564",
   "metadata": {},
   "source": [
    "1)\n",
    "help me understand how to write an algorithm for a given problem. Please provide me with 5 problems for beginners. write complete steps for the first problem. Then for the other four problems ask me to write the algorithm, tell me if I did correct, and help me with tips until I get it right. "
   ]
  },
  {
   "cell_type": "code",
   "execution_count": null,
   "id": "98863da3-4f20-447a-ac92-04f40e0d663e",
   "metadata": {},
   "outputs": [],
   "source": []
  },
  {
   "cell_type": "code",
   "execution_count": null,
   "id": "6e42085e-2f05-45dd-9bd5-449c7b3c102a",
   "metadata": {},
   "outputs": [],
   "source": []
  },
  {
   "cell_type": "markdown",
   "id": "35ba4161-9117-4556-b9b8-5358d86c40db",
   "metadata": {},
   "source": [
    "2. help me understand how to write an algorithm for a given problem, and then how to convert this algorithm to an implemental Python code. Please provide me with 5 problems for beginners. write a complete step for the first problem. Then for the other four problems ask me to write the algorithm, tell me if I did correct, and help me with tips until I got right. Then ask me to generate the corresponding Python code, provide some tips to help me to write the code, tell me if the code is correct or what step should I correct it. "
   ]
  },
  {
   "cell_type": "code",
   "execution_count": 53,
   "id": "8b6ca41e-8902-401a-a373-4712b321253e",
   "metadata": {},
   "outputs": [
    {
     "name": "stdin",
     "output_type": "stream",
     "text": [
      "Enter the first number 10\n",
      "Enter the first number 20\n"
     ]
    }
   ],
   "source": [
    "number1=eval(input(\"Enter the first number\"))\n",
    "number2=eval(input(\"Enter the first number\"))"
   ]
  },
  {
   "cell_type": "code",
   "execution_count": 55,
   "id": "b3ffdf41-aaa6-4f03-869d-df5d05b48967",
   "metadata": {},
   "outputs": [
    {
     "name": "stdout",
     "output_type": "stream",
     "text": [
      " the sum of 10 and 20 is  30\n"
     ]
    }
   ],
   "source": [
    "print(f\" the sum of {number1} and {number2} is  {number1+number2}\")"
   ]
  },
  {
   "cell_type": "code",
   "execution_count": null,
   "id": "69dc8acf-089c-4cd9-8276-c00d9bb27a7b",
   "metadata": {},
   "outputs": [],
   "source": []
  }
 ],
 "metadata": {
  "kernelspec": {
   "display_name": "Python 3 (ipykernel)",
   "language": "python",
   "name": "python3"
  },
  "language_info": {
   "codemirror_mode": {
    "name": "ipython",
    "version": 3
   },
   "file_extension": ".py",
   "mimetype": "text/x-python",
   "name": "python",
   "nbconvert_exporter": "python",
   "pygments_lexer": "ipython3",
   "version": "3.12.4"
  }
 },
 "nbformat": 4,
 "nbformat_minor": 5
}
