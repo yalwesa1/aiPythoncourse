{
 "cells": [
  {
   "cell_type": "markdown",
   "id": "7be26e56",
   "metadata": {},
   "source": [
    "# NIH ScHARe Program"
   ]
  },
  {
   "cell_type": "markdown",
   "id": "644f68fc",
   "metadata": {},
   "source": [
    "## 1. Introduction"
   ]
  },
  {
   "cell_type": "code",
   "execution_count": null,
   "id": "5befea2e",
   "metadata": {},
   "outputs": [],
   "source": [
    "# The story of Python by its creator!\n",
    "from IPython.display import YouTubeVideo\n",
    "\n",
    "# The YouTube video ID\n",
    "video_id = \"J0Aq44Pze-w\"\n",
    "\n",
    "# Display the video\n",
    "YouTubeVideo(video_id)\n"
   ]
  },
  {
   "cell_type": "markdown",
   "id": "11a8c2a3",
   "metadata": {},
   "source": [
    "1. Python is is a high-level, interpreted, general-purpose programming language\n",
    "2. First appeared: 1991\n",
    "3. Downloading [Python](https://www.anaconda.com/download)\n",
    "4. [installation](https://freelearning.anaconda.cloud/get-started-with-anaconda/18199)\n",
    "5. Python developer is Guido van Rossum\n",
    "6. [ChatGPTLink](https://chatgpt.com/)\n",
    "7. [Programming Trends](https://trends.google.com/trends/explore?cat=7&geo=US&q=Python,%2Fm%2F02p97,Java,R%20programming&hl=en-US)\n",
    "\n"
   ]
  },
  {
   "cell_type": "code",
   "execution_count": null,
   "id": "ed9c5d12-66c6-427e-bc1e-c3c01eef1b06",
   "metadata": {},
   "outputs": [],
   "source": []
  },
  {
   "cell_type": "markdown",
   "id": "7a868196",
   "metadata": {},
   "source": [
    "## 2. Free Learning Sources:\n",
    "1) [Online sources](https://www.halvorsen.blog/documents/programming/python/python.php#python1)\n",
    "2) [Youtube](https://www.youtube.com/playlist?list=PLgA4wLGrqI-k51wG52O5PpDZAIL6eyvDK)\n",
    "3) [GitHub Codes](https://github.com/yongtwang/engineering-python)\n",
    "4) [my GitHub](https://github.com/yalwesa1)\n",
    "5) [CodingBat](https://codingbat.com/python)\n",
    "6) [Jdoodle](https://www.jdoodle.com/)\n",
    "7) [Kaggle](https://www.kaggle.com/learn)"
   ]
  },
  {
   "cell_type": "markdown",
   "id": "8e583a6e",
   "metadata": {},
   "source": [
    "## 3. Job Market\n",
    "\n",
    "[Coursera](https://www.coursera.org/articles/python-developer-salary)\n",
    "\n",
    "[Data Science job](https://www.coursera.org/articles/data-scientist-salary)\n",
    "\n",
    "[Another Source](https://www.ziprecruiter.com/Salaries/Entry-Level-Python-Developer-Salary-in-New-York-City,NY#Yearly)\n"
   ]
  },
  {
   "cell_type": "markdown",
   "id": "616d3c98",
   "metadata": {},
   "source": [
    "## 4. Course Outline\n"
   ]
  },
  {
   "cell_type": "markdown",
   "id": "3e466e43",
   "metadata": {},
   "source": [
    "**Part I: Basic Python syntax and programming principles**\n",
    "\n",
    "* Introduction to Python programming\n",
    "* Numbers (int and float) and variables\n",
    "* Strings and lists\n",
    "* Tuples, dictionaries, and sets\n",
    "* Functions\n",
    "* Boolean operations (conditions)\n",
    "* Decision control\n",
    "* Exception handling\n",
    "* Loops (for and while)\n",
    "* Random numbers and Monte Carlo simulation"
   ]
  },
  {
   "cell_type": "markdown",
   "id": "409b2666",
   "metadata": {},
   "source": [
    "**Part II: Advanced libraries and packages**\n",
    "* Using ai in advanced analytics (New)\n",
    "* NumPy (matrix and linear algebra)\n",
    "* SymPy (calculus and symbolic operation)\n",
    "* MatPlotLib (data visualization)\n",
    "* Pandas (data analysis and statistics)\n",
    "* SciPy and PuLP (optimization)\n",
    "* Scikit-Learn (machine learning)\n",
    "  * Regression and Classification\n",
    "* SAS Programming (New)"
   ]
  },
  {
   "cell_type": "markdown",
   "id": "d7a90fb2",
   "metadata": {},
   "source": [
    "## 5. Getting Started with Anaconda\n",
    "[Link](https://freelearning.anaconda.cloud/get-started-with-anaconda)"
   ]
  },
  {
   "cell_type": "markdown",
   "id": "5c8df5df",
   "metadata": {},
   "source": [
    "<div style=\"text-align: center; color: blue;\">\n",
    "    <h2>The End</h1>\n",
    "</div>"
   ]
  },
  {
   "cell_type": "markdown",
   "id": "baecc5a6-ebab-4216-8a82-080f82df5496",
   "metadata": {},
   "source": [
    "## create a Python code for the snake game. \n",
    "Try this on ChatGPT."
   ]
  },
  {
   "cell_type": "code",
   "execution_count": 1,
   "id": "42f0e788",
   "metadata": {},
   "outputs": [
    {
     "name": "stdout",
     "output_type": "stream",
     "text": [
      "pygame 2.6.1 (SDL 2.28.4, Python 3.12.7)\n",
      "Hello from the pygame community. https://www.pygame.org/contribute.html\n"
     ]
    },
    {
     "ename": "error",
     "evalue": "display Surface quit",
     "output_type": "error",
     "traceback": [
      "\u001b[1;31m---------------------------------------------------------------------------\u001b[0m",
      "\u001b[1;31merror\u001b[0m                                     Traceback (most recent call last)",
      "Cell \u001b[1;32mIn[1], line 121\u001b[0m\n\u001b[0;32m    118\u001b[0m     pygame\u001b[38;5;241m.\u001b[39mquit()\n\u001b[0;32m    119\u001b[0m     quit()\n\u001b[1;32m--> 121\u001b[0m game_loop()\n",
      "Cell \u001b[1;32mIn[1], line 58\u001b[0m, in \u001b[0;36mgame_loop\u001b[1;34m()\u001b[0m\n\u001b[0;32m     55\u001b[0m \u001b[38;5;28;01mwhile\u001b[39;00m \u001b[38;5;129;01mnot\u001b[39;00m game_over:\n\u001b[0;32m     57\u001b[0m     \u001b[38;5;28;01mwhile\u001b[39;00m game_close:\n\u001b[1;32m---> 58\u001b[0m         screen\u001b[38;5;241m.\u001b[39mfill(BLACK)\n\u001b[0;32m     59\u001b[0m         show_message(\u001b[38;5;124m\"\u001b[39m\u001b[38;5;124mYou Lost! Press Q-Quit or C-Play Again\u001b[39m\u001b[38;5;124m\"\u001b[39m, RED, WIDTH \u001b[38;5;241m/\u001b[39m \u001b[38;5;241m6\u001b[39m, HEIGHT \u001b[38;5;241m/\u001b[39m \u001b[38;5;241m3\u001b[39m)\n\u001b[0;32m     60\u001b[0m         pygame\u001b[38;5;241m.\u001b[39mdisplay\u001b[38;5;241m.\u001b[39mupdate()\n",
      "\u001b[1;31merror\u001b[0m: display Surface quit"
     ]
    }
   ],
   "source": [
    "import pygame\n",
    "import time\n",
    "import random\n",
    "\n",
    "# Initialize pygame\n",
    "pygame.init()\n",
    "\n",
    "# Define colors\n",
    "WHITE = (255, 255, 255)\n",
    "BLACK = (0, 0, 0)\n",
    "RED = (213, 50, 80)\n",
    "GREEN = (0, 255, 0)\n",
    "BLUE = (50, 153, 213)\n",
    "\n",
    "# Screen dimensions\n",
    "WIDTH = 600\n",
    "HEIGHT = 400\n",
    "\n",
    "# Snake block size\n",
    "BLOCK_SIZE = 10\n",
    "SPEED = 15\n",
    "\n",
    "# Initialize game window\n",
    "screen = pygame.display.set_mode((WIDTH, HEIGHT))\n",
    "pygame.display.set_caption(\"Snake Game\")\n",
    "\n",
    "clock = pygame.time.Clock()\n",
    "\n",
    "font = pygame.font.SysFont(\"bahnschrift\", 25)\n",
    "\n",
    "def draw_snake(block_size, snake_list):\n",
    "    for block in snake_list:\n",
    "        pygame.draw.rect(screen, GREEN, [block[0], block[1], block_size, block_size])\n",
    "\n",
    "def show_message(msg, color, x, y):\n",
    "    message = font.render(msg, True, color)\n",
    "    screen.blit(message, [x, y])\n",
    "\n",
    "def game_loop():\n",
    "    game_over = False\n",
    "    game_close = False\n",
    "\n",
    "    x = WIDTH / 2\n",
    "    y = HEIGHT / 2\n",
    "\n",
    "    x_change = 0\n",
    "    y_change = 0\n",
    "\n",
    "    snake_list = []\n",
    "    length_of_snake = 1\n",
    "\n",
    "    food_x = round(random.randrange(0, WIDTH - BLOCK_SIZE) / BLOCK_SIZE) * BLOCK_SIZE\n",
    "    food_y = round(random.randrange(0, HEIGHT - BLOCK_SIZE) / BLOCK_SIZE) * BLOCK_SIZE\n",
    "\n",
    "    while not game_over:\n",
    "\n",
    "        while game_close:\n",
    "            screen.fill(BLACK)\n",
    "            show_message(\"You Lost! Press Q-Quit or C-Play Again\", RED, WIDTH / 6, HEIGHT / 3)\n",
    "            pygame.display.update()\n",
    "\n",
    "            for event in pygame.event.get():\n",
    "                if event.type == pygame.KEYDOWN:\n",
    "                    if event.key == pygame.K_q:\n",
    "                        game_over = True\n",
    "                        game_close = False\n",
    "                    if event.key == pygame.K_c:\n",
    "                        game_loop()\n",
    "\n",
    "        for event in pygame.event.get():\n",
    "            if event.type == pygame.QUIT:\n",
    "                game_over = True\n",
    "            elif event.type == pygame.KEYDOWN:\n",
    "                if event.key == pygame.K_LEFT:\n",
    "                    x_change = -BLOCK_SIZE\n",
    "                    y_change = 0\n",
    "                elif event.key == pygame.K_RIGHT:\n",
    "                    x_change = BLOCK_SIZE\n",
    "                    y_change = 0\n",
    "                elif event.key == pygame.K_UP:\n",
    "                    y_change = -BLOCK_SIZE\n",
    "                    x_change = 0\n",
    "                elif event.key == pygame.K_DOWN:\n",
    "                    y_change = BLOCK_SIZE\n",
    "                    x_change = 0\n",
    "\n",
    "        x += x_change\n",
    "        y += y_change\n",
    "        \n",
    "        if x >= WIDTH or x < 0 or y >= HEIGHT or y < 0:\n",
    "            game_close = True\n",
    "\n",
    "        screen.fill(BLACK)\n",
    "        pygame.draw.rect(screen, RED, [food_x, food_y, BLOCK_SIZE, BLOCK_SIZE])\n",
    "        \n",
    "        snake_head = []\n",
    "        snake_head.append(x)\n",
    "        snake_head.append(y)\n",
    "        snake_list.append(snake_head)\n",
    "        \n",
    "        if len(snake_list) > length_of_snake:\n",
    "            del snake_list[0]\n",
    "        \n",
    "        for block in snake_list[:-1]:\n",
    "            if block == snake_head:\n",
    "                game_close = True\n",
    "        \n",
    "        draw_snake(BLOCK_SIZE, snake_list)\n",
    "        pygame.display.update()\n",
    "        \n",
    "        if x == food_x and y == food_y:\n",
    "            food_x = round(random.randrange(0, WIDTH - BLOCK_SIZE) / BLOCK_SIZE) * BLOCK_SIZE\n",
    "            food_y = round(random.randrange(0, HEIGHT - BLOCK_SIZE) / BLOCK_SIZE) * BLOCK_SIZE\n",
    "            length_of_snake += 1\n",
    "        \n",
    "        clock.tick(SPEED)\n",
    "    \n",
    "    pygame.quit()\n",
    "    quit()\n",
    "\n",
    "game_loop()\n"
   ]
  },
  {
   "cell_type": "code",
   "execution_count": null,
   "id": "eff1d1a5-b346-4e1b-99cd-fa28268ef423",
   "metadata": {},
   "outputs": [],
   "source": [
    "pip install pygame\n"
   ]
  },
  {
   "cell_type": "markdown",
   "id": "cc40fafa-fccb-4d8d-ad70-4aa9c0eae692",
   "metadata": {},
   "source": [
    "## write a Python code to make a calculator using  Graphical User Interfaces. "
   ]
  },
  {
   "cell_type": "code",
   "execution_count": 2,
   "id": "1ee19649-2096-4f6e-8578-acf0b2956a5f",
   "metadata": {},
   "outputs": [],
   "source": [
    "import tkinter as tk\n",
    "\n",
    "# Function to update the expression in the text entry box\n",
    "def press(key):\n",
    "    current_expression = entry.get()\n",
    "    entry.delete(0, tk.END)\n",
    "    entry.insert(tk.END, current_expression + key)\n",
    "\n",
    "# Function to evaluate the final expression\n",
    "def calculate():\n",
    "    try:\n",
    "        result = str(eval(entry.get()))\n",
    "        entry.delete(0, tk.END)\n",
    "        entry.insert(tk.END, result)\n",
    "    except Exception as e:\n",
    "        entry.delete(0, tk.END)\n",
    "        entry.insert(tk.END, \"Error\")\n",
    "\n",
    "# Function to clear the entry box\n",
    "def clear():\n",
    "    entry.delete(0, tk.END)\n",
    "\n",
    "# Setting up the GUI window\n",
    "root = tk.Tk()\n",
    "root.title(\"Calculator\")\n",
    "\n",
    "# Entry widget to display the expression or result\n",
    "entry = tk.Entry(root, width=16, font=('Arial', 24), borderwidth=2, relief='solid')\n",
    "entry.grid(row=0, column=0, columnspan=4)\n",
    "\n",
    "# Button layout for the calculator\n",
    "buttons = [\n",
    "    '7', '8', '9', '/', \n",
    "    '4', '5', '6', '*', \n",
    "    '1', '2', '3', '-', \n",
    "    '0', '.', '=', '+'\n",
    "]\n",
    "\n",
    "row_value = 1\n",
    "col_value = 0\n",
    "\n",
    "# Creating the buttons and adding them to the grid\n",
    "for button in buttons:\n",
    "    if button == \"=\":\n",
    "        tk.Button(root, text=button, width=4, height=2, font=('Arial', 18), command=calculate).grid(row=row_value, column=col_value)\n",
    "    else:\n",
    "        tk.Button(root, text=button, width=4, height=2, font=('Arial', 18), command=lambda x=button: press(x)).grid(row=row_value, column=col_value)\n",
    "    col_value += 1\n",
    "    if col_value > 3:\n",
    "        col_value = 0\n",
    "        row_value += 1\n",
    "\n",
    "# Adding the Clear button\n",
    "tk.Button(root, text='C', width=4, height=2, font=('Arial', 18), command=clear).grid(row=row_value, column=0, columnspan=4)\n",
    "\n",
    "# Run the GUI event loop\n",
    "root.mainloop()\n"
   ]
  },
  {
   "cell_type": "code",
   "execution_count": null,
   "id": "c2d647c3-f775-4028-bce5-5618068539fa",
   "metadata": {},
   "outputs": [],
   "source": []
  }
 ],
 "metadata": {
  "kernelspec": {
   "display_name": "Python [conda env:base] *",
   "language": "python",
   "name": "conda-base-py"
  },
  "language_info": {
   "codemirror_mode": {
    "name": "ipython",
    "version": 3
   },
   "file_extension": ".py",
   "mimetype": "text/x-python",
   "name": "python",
   "nbconvert_exporter": "python",
   "pygments_lexer": "ipython3",
   "version": "3.12.7"
  }
 },
 "nbformat": 4,
 "nbformat_minor": 5
}
