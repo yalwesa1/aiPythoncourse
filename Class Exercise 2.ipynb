{
 "cells": [
  {
   "cell_type": "markdown",
   "id": "39dbb096",
   "metadata": {},
   "source": [
    "#### In class exercise:\n",
    "###### To maximize your benefit from this exercise, do not use Google or AI-related websites\n",
    "##### 1)\n",
    "if x=list(range(1,1000,5))\n",
    "1. Write an algorithm to calculate the total values in x. Then, implement it in Python.\n",
    "2. Write an algorithm to calculate the total of multiplying each number by its neighbor in the subsit =list(range(1,100,5)\n",
    "\n",
    "\n",
    "\n",
    "##### 2)\n",
    "1. Write an algorithm or general steps to sort a list x and find out the max, min, and range of the sorted list x.\n",
    "2. implement step 1 for x=[1,0,5,3,7,2,11] in Python\n",
    "\n",
    "\n",
    "\n",
    "\n",
    "##### 3)\n",
    "Adam, a college student, consistently sets aside 10% of the weekly allowance he receives from his dad. In September, Adam received the following monetary gifts from his father: Sep=[250,150,200,400].\n",
    "\n",
    "1. What was the total amount that Adam received in September?\n",
    "2. What was the average amount Adam received in September?\n",
    "3. If we also take into account the transactions Adam received from his dad in August, which were Aug=[220,250,180,150], What would be the average amount he received in both September and August?\n",
    "4. How much money did Adam save from both August and September?\n",
    "Note: It is not allowed to use any builtin function in python such as mean, average, sum, sort(), sorted() \n",
    "\n",
    "##### 4)\n",
    "1. Based on exercise 1, how can we build a flexible model for Adam to allow him enter the desired number of transactions, amounts, and automatically give back the total amount received and the average  \n",
    "\n",
    "\n",
    "##### 5)\n",
    "if x=[[1,2,3],[4,5,6],[7,8,9]]:\n",
    "1. print out the above as a matrix\n",
    "\\[\n",
    "\\begin{bmatrix}\n",
    "1 & 2 & 3 \\\\\n",
    "4 & 5 & 6 \\\\\n",
    "7 & 8 & 9 \\\\\n",
    "\\end{bmatrix}\n",
    "\\]\n",
    "2. Zero out all numbers on the diagonal line\n",
    "3. Replace all numbers above the diagonal by *"
   ]
  },
  {
   "cell_type": "markdown",
   "id": "8691d486",
   "metadata": {},
   "source": [
    "### Answers"
   ]
  },
  {
   "cell_type": "markdown",
   "id": "1be90295",
   "metadata": {},
   "source": [
    "### 1) \n",
    "if x=list(range(1,1000,5))\n",
    "\n",
    "1. Write an algorithm to calculate the total values in x. Then, implement it in Python.\n",
    "2. Write an algorithm to calculate the total of multiplying each number by its neighbor in the subsit =list(range(1,100,5)"
   ]
  },
  {
   "cell_type": "markdown",
   "id": "28362e57",
   "metadata": {},
   "source": [
    "#### How to sum up values in a list??"
   ]
  },
  {
   "cell_type": "code",
   "execution_count": null,
   "id": "99b71a1b",
   "metadata": {},
   "outputs": [],
   "source": [
    "x=[1,6,11]\n",
    "1+6+11"
   ]
  },
  {
   "cell_type": "code",
   "execution_count": null,
   "id": "0a7a49b9",
   "metadata": {},
   "outputs": [],
   "source": [
    "total=0\n",
    "for item in x:\n",
    "    total=total+item\n",
    "total"
   ]
  },
  {
   "cell_type": "code",
   "execution_count": null,
   "id": "bbb2e549",
   "metadata": {},
   "outputs": [],
   "source": [
    "len(x)"
   ]
  },
  {
   "cell_type": "code",
   "execution_count": null,
   "id": "31d95025",
   "metadata": {},
   "outputs": [],
   "source": [
    "x[1]"
   ]
  },
  {
   "cell_type": "code",
   "execution_count": null,
   "id": "d98ce3a0",
   "metadata": {},
   "outputs": [],
   "source": [
    "total=0\n",
    "for i in range(0,len(x),1):\n",
    "    total=total+x[i]\n",
    "total"
   ]
  },
  {
   "cell_type": "markdown",
   "id": "39ea40a7",
   "metadata": {},
   "source": [
    "\n",
    "1) intial step total=0\n",
    "2) for each item in list x do:\n",
    "    total=total+item\n",
    "    \n",
    "3) print(total)"
   ]
  },
  {
   "cell_type": "markdown",
   "id": "84cebce8",
   "metadata": {},
   "source": [
    "### Sorting a list"
   ]
  },
  {
   "cell_type": "code",
   "execution_count": null,
   "id": "c499f8ab",
   "metadata": {},
   "outputs": [],
   "source": [
    "x=[1,3,2]"
   ]
  },
  {
   "cell_type": "code",
   "execution_count": null,
   "id": "c288f022",
   "metadata": {},
   "outputs": [],
   "source": [
    "print(\"original x\",x)\n",
    "for i in range(1,len(x)):\n",
    "    if x[i-1]> x[i]:\n",
    "        x[i-1],x[i]=x[i],x[i-1]\n",
    "print('The sorted x is',x)"
   ]
  },
  {
   "cell_type": "code",
   "execution_count": null,
   "id": "6f225ea8",
   "metadata": {},
   "outputs": [],
   "source": [
    "x=[2,3,1]\n",
    "print(\"original x\",x)\n",
    "for i in range(1,len(x)):\n",
    "    if x[i-1]> x[i]:\n",
    "        x[i-1],x[i]=x[i],x[i-1]\n",
    "print('The sorted x is',x)"
   ]
  },
  {
   "cell_type": "code",
   "execution_count": null,
   "id": "97cf33c8",
   "metadata": {},
   "outputs": [],
   "source": [
    "x=[2,3,1]\n",
    "print(\"original x\",x)\n",
    "for j in range(len(x)):\n",
    "    for i in range(1,len(x)):\n",
    "        if x[i-1]> x[i]:\n",
    "            x[i-1],x[i]=x[i],x[i-1]\n",
    "print('The sorted x is',x)"
   ]
  },
  {
   "cell_type": "code",
   "execution_count": null,
   "id": "a6a8225a",
   "metadata": {},
   "outputs": [],
   "source": [
    "x=[2,1,5,3]\n",
    "\n",
    "print(\"original x\",x)\n",
    "for j in range(len(x)):\n",
    "    for i in range(1,len(x)):\n",
    "        if x[i-1]> x[i]:\n",
    "            x[i-1],x[i]=x[i],x[i-1]\n",
    "print('The sorted x is',x)"
   ]
  },
  {
   "cell_type": "code",
   "execution_count": null,
   "id": "dc383684",
   "metadata": {},
   "outputs": [],
   "source": [
    "# New methodology\n",
    "x=[2,1,5,3]\n",
    "print(\"original x:\",x)\n",
    "for i in range(len(x)):\n",
    "    for j in range(i+1,len(x)):\n",
    "        if x[i]>x[j]:\n",
    "            x[i],x[j]=x[j],x[i]\n",
    "print(\"the sorted x=\",x)"
   ]
  },
  {
   "cell_type": "code",
   "execution_count": null,
   "id": "2466e2b1",
   "metadata": {},
   "outputs": [],
   "source": [
    "# New methodology\n",
    "x=[2,1,5,3,-1,10,100,15,20]\n",
    "print(\"original x:\",x)\n",
    "for i in range(len(x)):\n",
    "    for j in range(i+1,len(x)):\n",
    "        if x[i]<x[j]:\n",
    "            x[i],x[j]=x[j],x[i]\n",
    "print(\"the sorted x=\",x)"
   ]
  },
  {
   "cell_type": "code",
   "execution_count": null,
   "id": "3aebbebe",
   "metadata": {},
   "outputs": [],
   "source": [
    "x=list((250,150,200,400))\n",
    "total=0\n",
    "for v in x:\n",
    "    total=total+v\n",
    "print(total)"
   ]
  },
  {
   "cell_type": "code",
   "execution_count": null,
   "id": "2fc05a10",
   "metadata": {},
   "outputs": [],
   "source": [
    "average = total/len(x)\n",
    "print(average)"
   ]
  },
  {
   "cell_type": "code",
   "execution_count": null,
   "id": "f9a2427e",
   "metadata": {},
   "outputs": [],
   "source": [
    "sep = [250,150,200,400]\n",
    "aug = [220,250,180,150]"
   ]
  },
  {
   "cell_type": "code",
   "execution_count": null,
   "id": "13db9404",
   "metadata": {},
   "outputs": [],
   "source": [
    "summer = sep + aug\n",
    "summer"
   ]
  },
  {
   "cell_type": "code",
   "execution_count": null,
   "id": "1f4d5ed3",
   "metadata": {},
   "outputs": [],
   "source": [
    "total = 0 \n",
    "for v in summer:\n",
    "    total = total + v\n",
    "total"
   ]
  },
  {
   "cell_type": "code",
   "execution_count": null,
   "id": "677ea2af",
   "metadata": {},
   "outputs": [],
   "source": [
    "average = total/len(summer)\n",
    "average"
   ]
  },
  {
   "cell_type": "code",
   "execution_count": null,
   "id": "50c028b7",
   "metadata": {},
   "outputs": [],
   "source": [
    "he_saved=total*.10"
   ]
  },
  {
   "cell_type": "code",
   "execution_count": null,
   "id": "28513967",
   "metadata": {},
   "outputs": [],
   "source": [
    "he_saved"
   ]
  },
  {
   "cell_type": "code",
   "execution_count": null,
   "id": "f8eb6503",
   "metadata": {},
   "outputs": [],
   "source": [
    "# Starting with small sample\n",
    "x=[10,20,30]\n",
    "total=0\n",
    "for v in x:\n",
    "    total=total+v\n",
    "print(total) \n"
   ]
  },
  {
   "cell_type": "code",
   "execution_count": null,
   "id": "71833478",
   "metadata": {},
   "outputs": [],
   "source": [
    "x=list(range(1,1000,5))\n",
    "total=0\n",
    "for v in x:\n",
    "    total=total+v\n",
    "print(total)"
   ]
  },
  {
   "cell_type": "code",
   "execution_count": null,
   "id": "6c76dc1b",
   "metadata": {},
   "outputs": [],
   "source": [
    "sum(x)"
   ]
  },
  {
   "cell_type": "code",
   "execution_count": null,
   "id": "ca7833bd",
   "metadata": {},
   "outputs": [],
   "source": [
    "# 1.2 section\n",
    "x=list(range(1,100,5))\n",
    "#x=[2,5,15]\n",
    "total=1\n",
    "for v in x:\n",
    "    total=total*v\n",
    "print(total)"
   ]
  },
  {
   "cell_type": "code",
   "execution_count": null,
   "id": "c26a33c5",
   "metadata": {},
   "outputs": [],
   "source": [
    "# Student practice\n",
    "x=[1,0,5,3,7,2,11]\n",
    "for i in range (1,7):\n",
    "    for i in range (1,7):\n",
    "        if x [i] < x[i-1]:\n",
    "            T = x[i]\n",
    "            x[i] = x[i-1]\n",
    "            x[i-1] = T\n",
    "print(x)"
   ]
  },
  {
   "cell_type": "code",
   "execution_count": null,
   "id": "13c39f88",
   "metadata": {},
   "outputs": [],
   "source": [
    "# Student practice\n",
    "x=[1,0,5,3,7,2,11] \n",
    "for i in range(1,len(x)):\n",
    "    for j in range(1, len(x)):\n",
    "        if x[j]< x[j-1]:\n",
    "            x[j], x[j-1]= x[j-1], x[j]\n",
    "            print(\"sorted list:\", x)"
   ]
  },
  {
   "cell_type": "raw",
   "id": "e41619f9",
   "metadata": {},
   "source": [
    " # Instructor \n",
    "x=[1,0,5,3,7,2,11]\n",
    "for i in range(len(x)):\n",
    "    for j in range(i+1,len(x)):\n",
    "        if x[j]<x[i]:\n",
    "            x[i],x[j]=x[j],x[i]\n",
    "print(\"sorted list=\",x)"
   ]
  }
 ],
 "metadata": {
  "kernelspec": {
   "display_name": "Python 3 (ipykernel)",
   "language": "python",
   "name": "python3"
  },
  "language_info": {
   "codemirror_mode": {
    "name": "ipython",
    "version": 3
   },
   "file_extension": ".py",
   "mimetype": "text/x-python",
   "name": "python",
   "nbconvert_exporter": "python",
   "pygments_lexer": "ipython3",
   "version": "3.11.4"
  }
 },
 "nbformat": 4,
 "nbformat_minor": 5
}
