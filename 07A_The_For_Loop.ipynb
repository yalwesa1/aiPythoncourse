{
 "cells": [
  {
   "cell_type": "markdown",
   "metadata": {
    "collapsed": true,
    "jupyter": {
     "outputs_hidden": true
    }
   },
   "source": [
    "# The `for` Loop"
   ]
  },
  {
   "cell_type": "markdown",
   "metadata": {
    "collapsed": true,
    "jupyter": {
     "outputs_hidden": true
    }
   },
   "source": [
    "### Syntax"
   ]
  },
  {
   "cell_type": "markdown",
   "metadata": {
    "collapsed": true,
    "jupyter": {
     "outputs_hidden": true
    }
   },
   "source": [
    "```python\n",
    "for item in sequence:\n",
    "    statement block\n",
    "```\n",
    "- The `for` loop is a definite loop. The number of iterations is determined before the loop starts."
   ]
  },
  {
   "cell_type": "markdown",
   "metadata": {},
   "source": [
    "### Examples"
   ]
  },
  {
   "cell_type": "code",
   "execution_count": null,
   "metadata": {},
   "outputs": [],
   "source": [
    "for letter in 'Hello':\n",
    "    print(letter)"
   ]
  },
  {
   "cell_type": "code",
   "execution_count": null,
   "metadata": {},
   "outputs": [],
   "source": [
    "colors = ['red', 'green', 'blue']\n",
    "for color in colors:\n",
    "    print('Current color:', color)"
   ]
  },
  {
   "cell_type": "code",
   "execution_count": null,
   "metadata": {
    "scrolled": true
   },
   "outputs": [],
   "source": [
    "import math\n",
    "for x in range(0, 3):\n",
    "    print('x =', x)\n",
    "    print('sin(',x,') =', math.sin(x))\n",
    "    #print()"
   ]
  },
  {
   "cell_type": "raw",
   "metadata": {},
   "source": [
    "lists = [[3.14], ['Apple', 'Orange'], [3, 4, 5]]\n",
    "-- use for loop to print out each sublist\n",
    "-- Use nested for loops to print each element"
   ]
  },
  {
   "cell_type": "code",
   "execution_count": null,
   "metadata": {},
   "outputs": [],
   "source": [
    "lists = [[3.14], ['Apple', 'Orange'], [3, 4, 5]]\n"
   ]
  },
  {
   "cell_type": "code",
   "execution_count": null,
   "metadata": {},
   "outputs": [],
   "source": []
  },
  {
   "cell_type": "code",
   "execution_count": null,
   "metadata": {},
   "outputs": [],
   "source": []
  },
  {
   "cell_type": "markdown",
   "metadata": {},
   "source": [
    "### Define a main() function to allow a user to input k numbers, then calculate the sum of numbers, and the average? "
   ]
  },
  {
   "cell_type": "code",
   "execution_count": null,
   "metadata": {},
   "outputs": [],
   "source": [
    "def main():\n",
    "    pass\n"
   ]
  },
  {
   "cell_type": "code",
   "execution_count": null,
   "metadata": {},
   "outputs": [],
   "source": [
    "main()"
   ]
  },
  {
   "cell_type": "raw",
   "metadata": {
    "scrolled": true
   },
   "source": [
    "def main():\n",
    "    k = int(input('Enter the value of k: x numbers: '))\n",
    "    total = 0.0\n",
    "    for i in range(k):\n",
    "        num = float(input('Enter a number: '))\n",
    "        total += num\n",
    "    avg = total / k\n",
    "    print()\n",
    "    print('You entered', k, 'numbers.')\n",
    "    print('The total is', total)\n",
    "    print(\"The average is\", avg)\n",
    "\n",
    "main()"
   ]
  },
  {
   "cell_type": "markdown",
   "metadata": {},
   "source": [
    "### Looping Through Files"
   ]
  },
  {
   "cell_type": "markdown",
   "metadata": {},
   "source": [
    "- The following program calculate the average of all the 30 numbers in the `data1.txt` file. \n",
    "- Each line contains at most one number. Some lines are empty.\n",
    "<img src=\"images/data1.png\" alt=\"data1.txt\" style=\"width: 250px;\"/>"
   ]
  },
  {
   "cell_type": "code",
   "execution_count": null,
   "metadata": {
    "scrolled": true
   },
   "outputs": [],
   "source": [
    "def main():\n",
    "    k = 0\n",
    "    total = 0.0\n",
    "    \n",
    "    with open('data1.txt','r') as f:\n",
    "        data = f.readlines()  # Read all the lines to data\n",
    "        print(data)\n",
    "        \n",
    "        for num in data:\n",
    "            if num !='\\n':  # Excluding the empty lines\n",
    "                k += 1\n",
    "                total += float(num)\n",
    "    \n",
    "    avg = total / k\n",
    "    print()\n",
    "    print(k, 'numbers were read from the file.')\n",
    "    print('The total is', total)\n",
    "    print(\"The average is\", avg)\n",
    "\n",
    "main()"
   ]
  },
  {
   "cell_type": "markdown",
   "metadata": {
    "collapsed": true,
    "jupyter": {
     "outputs_hidden": true
    }
   },
   "source": [
    "- The following program calculates the average of all the 30 numbers in the `data2.txt` file.\n",
    "- Each line may contain one or more numbers, separated by a comma and a space (', '). \n",
    "- Some lines are empty.\n",
    "<img src=\"images/data2.png\" alt=\"data2.txt\" style=\"width: 250px;\"/>"
   ]
  },
  {
   "cell_type": "code",
   "execution_count": 2,
   "metadata": {
    "scrolled": true
   },
   "outputs": [
    {
     "name": "stdout",
     "output_type": "stream",
     "text": [
      "['85, 82\\n', '\\n', '\\n', '80, 10, 50, 5\\n', '67\\n', '14, 40\\n', '\\n', '33\\n', '26, 78, 4, 57\\n', '80, 68\\n', '93, 30, 77, 83, 49\\n', '64, 26, 54\\n', '11, 19, 74, 29\\n', '\\n', '\\n', '82, 30\\n']\n",
      "\n",
      "30 numbers were read from the file.\n",
      "The total is 1500.0\n",
      "The average is 50.0\n"
     ]
    }
   ],
   "source": [
    "def main():\n",
    "    k = 0\n",
    "    total = 0.0\n",
    "    \n",
    "    with open('data2.txt','r') as f:\n",
    "        data = f.readlines()  # Read all the lines to data\n",
    "        print(data)\n",
    "        \n",
    "        # This is a nested loop\n",
    "        for line in data:  # Process each line in the file\n",
    "            for num in line.split(', '):  # Process each number in the line\n",
    "                if num !='\\n':  # Excluding the empty lines\n",
    "                    k += 1\n",
    "                    total += float(num)\n",
    "    \n",
    "    avg = total / k\n",
    "    print()\n",
    "    print(k, 'numbers were read from the file.')\n",
    "    print('The total is', total)\n",
    "    print(\"The average is\", avg)\n",
    "\n",
    "main()"
   ]
  },
  {
   "cell_type": "code",
   "execution_count": null,
   "metadata": {},
   "outputs": [],
   "source": []
  }
 ],
 "metadata": {
  "kernelspec": {
   "display_name": "Python 3 (ipykernel)",
   "language": "python",
   "name": "python3"
  },
  "language_info": {
   "codemirror_mode": {
    "name": "ipython",
    "version": 3
   },
   "file_extension": ".py",
   "mimetype": "text/x-python",
   "name": "python",
   "nbconvert_exporter": "python",
   "pygments_lexer": "ipython3",
   "version": "3.12.4"
  }
 },
 "nbformat": 4,
 "nbformat_minor": 4
}
