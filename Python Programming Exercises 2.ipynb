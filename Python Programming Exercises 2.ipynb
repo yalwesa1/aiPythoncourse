{
 "cells": [
  {
   "cell_type": "markdown",
   "id": "56810162",
   "metadata": {},
   "source": [
    "## In order to enhance your programming proficiency, it is advisable to refrain from seeking internet or ChatGPT assistance for the exercises that follow\n",
    "#### You may follow-up with me if you want to make sure you did right. "
   ]
  },
  {
   "cell_type": "markdown",
   "id": "d0e65c13",
   "metadata": {},
   "source": [
    "## 1)\n",
    "x=[3,4,7,10,8,5]\n",
    "y=[100,-150,80,90,120,-70]\n",
    "1. define a function f(x,y) that read the list x and y, then return a new list called z defined as follows: each even number in x will be kept in z and replace each non even number in x by corresponding value in y.\n",
    "2. Recall the above-defined function for f(y,x) and show the results"
   ]
  },
  {
   "cell_type": "markdown",
   "id": "32e55702",
   "metadata": {},
   "source": [
    "x=[3,4,7,10,8,5]\n",
    "y=[100,-150,80,90,120,-70]\n",
    "1. define a function f(x,y) that read the list x and y, then return a new list called z defined as follows: each odd number in x will be kept in z and replace each even number in x by corresponding value in y.\n",
    "2. Recall the above-defined function for f(y,x) and show the results"
   ]
  },
  {
   "cell_type": "markdown",
   "id": "27d5553f",
   "metadata": {},
   "source": [
    "## 2)\n",
    "#### Explain the following code steps. If we run the code another time, are we going to get the same i value? why?"
   ]
  },
  {
   "cell_type": "code",
   "execution_count": null,
   "id": "806d7795",
   "metadata": {},
   "outputs": [],
   "source": [
    "import numpy as np\n",
    "import random \n",
    "x=np.arange(1,11,1)\n",
    "i=0\n",
    "while sum(x)>0:\n",
    "    k = random.randrange(len(x))\n",
    "    x[k]=0\n",
    "    i+=1\n",
    "print(x)\n",
    "print(i)"
   ]
  },
  {
   "cell_type": "markdown",
   "id": "61ea8108",
   "metadata": {},
   "source": [
    "## 3)\n",
    "1. Using numpy,define a matrix x (3x3) using random generation: np.random.randint (10,size= (3,3)).\n",
    "2. Zero out all values allocated on the lower triangle including the diagonal values."
   ]
  },
  {
   "cell_type": "code",
   "execution_count": null,
   "id": "872cf96f",
   "metadata": {},
   "outputs": [],
   "source": []
  },
  {
   "cell_type": "code",
   "execution_count": null,
   "id": "cb2580a4",
   "metadata": {},
   "outputs": [],
   "source": []
  }
 ],
 "metadata": {
  "kernelspec": {
   "display_name": "Python 3 (ipykernel)",
   "language": "python",
   "name": "python3"
  },
  "language_info": {
   "codemirror_mode": {
    "name": "ipython",
    "version": 3
   },
   "file_extension": ".py",
   "mimetype": "text/x-python",
   "name": "python",
   "nbconvert_exporter": "python",
   "pygments_lexer": "ipython3",
   "version": "3.9.7"
  }
 },
 "nbformat": 4,
 "nbformat_minor": 5
}
