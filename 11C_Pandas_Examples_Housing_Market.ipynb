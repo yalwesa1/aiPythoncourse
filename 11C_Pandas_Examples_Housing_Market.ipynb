{
 "cells": [
  {
   "cell_type": "markdown",
   "metadata": {
    "collapsed": true,
    "jupyter": {
     "outputs_hidden": true
    }
   },
   "source": [
    "# Pandas Examples: Housing Market "
   ]
  },
  {
   "cell_type": "markdown",
   "metadata": {},
   "source": [
    "### Housing Market"
   ]
  },
  {
   "cell_type": "markdown",
   "metadata": {},
   "source": [
    "- Quandl is a search engine for financial, economic, and social datasets.\n",
    "- Download [\"Freddie Mac House Price Index NY\"](https://www.quandl.com/data/FMAC/HPI_NY) as csv file `FMAC-HPI_NY.csv`.\n",
    "- The Freddie Mac House Price Index (FMHPI) provides a measure of typical price inflation for houses within the United States."
   ]
  },
  {
   "cell_type": "code",
   "execution_count": 1,
   "metadata": {},
   "outputs": [],
   "source": [
    "import matplotlib.pyplot as plt\n",
    "import pandas as pd"
   ]
  },
  {
   "cell_type": "code",
   "execution_count": 5,
   "metadata": {},
   "outputs": [
    {
     "data": {
      "text/html": [
       "<div>\n",
       "<style scoped>\n",
       "    .dataframe tbody tr th:only-of-type {\n",
       "        vertical-align: middle;\n",
       "    }\n",
       "\n",
       "    .dataframe tbody tr th {\n",
       "        vertical-align: top;\n",
       "    }\n",
       "\n",
       "    .dataframe thead th {\n",
       "        text-align: right;\n",
       "    }\n",
       "</style>\n",
       "<table border=\"1\" class=\"dataframe\">\n",
       "  <thead>\n",
       "    <tr style=\"text-align: right;\">\n",
       "      <th></th>\n",
       "      <th>Value</th>\n",
       "    </tr>\n",
       "    <tr>\n",
       "      <th>Date</th>\n",
       "      <th></th>\n",
       "    </tr>\n",
       "  </thead>\n",
       "  <tbody>\n",
       "    <tr>\n",
       "      <th>5/31/2021</th>\n",
       "      <td>223.884450</td>\n",
       "    </tr>\n",
       "    <tr>\n",
       "      <th>4/30/2021</th>\n",
       "      <td>220.091856</td>\n",
       "    </tr>\n",
       "    <tr>\n",
       "      <th>3/31/2021</th>\n",
       "      <td>216.498071</td>\n",
       "    </tr>\n",
       "    <tr>\n",
       "      <th>2/28/2021</th>\n",
       "      <td>214.169503</td>\n",
       "    </tr>\n",
       "    <tr>\n",
       "      <th>1/31/2021</th>\n",
       "      <td>213.336933</td>\n",
       "    </tr>\n",
       "    <tr>\n",
       "      <th>...</th>\n",
       "      <td>...</td>\n",
       "    </tr>\n",
       "    <tr>\n",
       "      <th>5/31/1975</th>\n",
       "      <td>23.205026</td>\n",
       "    </tr>\n",
       "    <tr>\n",
       "      <th>4/30/1975</th>\n",
       "      <td>23.081860</td>\n",
       "    </tr>\n",
       "    <tr>\n",
       "      <th>3/31/1975</th>\n",
       "      <td>23.056193</td>\n",
       "    </tr>\n",
       "    <tr>\n",
       "      <th>2/28/1975</th>\n",
       "      <td>23.279220</td>\n",
       "    </tr>\n",
       "    <tr>\n",
       "      <th>1/31/1975</th>\n",
       "      <td>23.818861</td>\n",
       "    </tr>\n",
       "  </tbody>\n",
       "</table>\n",
       "<p>557 rows × 1 columns</p>\n",
       "</div>"
      ],
      "text/plain": [
       "                Value\n",
       "Date                 \n",
       "5/31/2021  223.884450\n",
       "4/30/2021  220.091856\n",
       "3/31/2021  216.498071\n",
       "2/28/2021  214.169503\n",
       "1/31/2021  213.336933\n",
       "...               ...\n",
       "5/31/1975   23.205026\n",
       "4/30/1975   23.081860\n",
       "3/31/1975   23.056193\n",
       "2/28/1975   23.279220\n",
       "1/31/1975   23.818861\n",
       "\n",
       "[557 rows x 1 columns]"
      ]
     },
     "execution_count": 5,
     "metadata": {},
     "output_type": "execute_result"
    }
   ],
   "source": [
    "#df = pd.read_excel('FMAC-HPI_NY.xls', 'Worksheet1', index_col = 'Date', na_values='NaN')\n",
    "df = pd.read_csv('FMAC-HPI_NY.csv',  index_col = 'Date', na_values='NaN')\n",
    "df"
   ]
  },
  {
   "cell_type": "code",
   "execution_count": 7,
   "metadata": {},
   "outputs": [
    {
     "data": {
      "text/html": [
       "<div>\n",
       "<style scoped>\n",
       "    .dataframe tbody tr th:only-of-type {\n",
       "        vertical-align: middle;\n",
       "    }\n",
       "\n",
       "    .dataframe tbody tr th {\n",
       "        vertical-align: top;\n",
       "    }\n",
       "\n",
       "    .dataframe thead th {\n",
       "        text-align: right;\n",
       "    }\n",
       "</style>\n",
       "<table border=\"1\" class=\"dataframe\">\n",
       "  <thead>\n",
       "    <tr style=\"text-align: right;\">\n",
       "      <th></th>\n",
       "      <th>Value</th>\n",
       "    </tr>\n",
       "    <tr>\n",
       "      <th>Date</th>\n",
       "      <th></th>\n",
       "    </tr>\n",
       "  </thead>\n",
       "  <tbody>\n",
       "    <tr>\n",
       "      <th>5/31/2021</th>\n",
       "      <td>223.884450</td>\n",
       "    </tr>\n",
       "    <tr>\n",
       "      <th>4/30/2021</th>\n",
       "      <td>220.091856</td>\n",
       "    </tr>\n",
       "    <tr>\n",
       "      <th>3/31/2021</th>\n",
       "      <td>216.498071</td>\n",
       "    </tr>\n",
       "    <tr>\n",
       "      <th>2/28/2021</th>\n",
       "      <td>214.169503</td>\n",
       "    </tr>\n",
       "    <tr>\n",
       "      <th>1/31/2021</th>\n",
       "      <td>213.336933</td>\n",
       "    </tr>\n",
       "  </tbody>\n",
       "</table>\n",
       "</div>"
      ],
      "text/plain": [
       "                Value\n",
       "Date                 \n",
       "5/31/2021  223.884450\n",
       "4/30/2021  220.091856\n",
       "3/31/2021  216.498071\n",
       "2/28/2021  214.169503\n",
       "1/31/2021  213.336933"
      ]
     },
     "execution_count": 7,
     "metadata": {},
     "output_type": "execute_result"
    }
   ],
   "source": [
    "df1=df.head(5)\n",
    "df1"
   ]
  },
  {
   "cell_type": "code",
   "execution_count": 9,
   "metadata": {},
   "outputs": [
    {
     "data": {
      "text/plain": [
       "Index(['5/31/2021', '4/30/2021', '3/31/2021', '2/28/2021', '1/31/2021',\n",
       "       '12/31/2020', '11/30/2020', '10/31/2020', '9/30/2020', '8/31/2020',\n",
       "       ...\n",
       "       '10/31/1975', '9/30/1975', '8/31/1975', '7/31/1975', '6/30/1975',\n",
       "       '5/31/1975', '4/30/1975', '3/31/1975', '2/28/1975', '1/31/1975'],\n",
       "      dtype='object', name='Date', length=557)"
      ]
     },
     "execution_count": 9,
     "metadata": {},
     "output_type": "execute_result"
    }
   ],
   "source": [
    "df.index"
   ]
  },
  {
   "cell_type": "code",
   "execution_count": 11,
   "metadata": {
    "scrolled": true
   },
   "outputs": [
    {
     "data": {
      "text/html": [
       "<div>\n",
       "<style scoped>\n",
       "    .dataframe tbody tr th:only-of-type {\n",
       "        vertical-align: middle;\n",
       "    }\n",
       "\n",
       "    .dataframe tbody tr th {\n",
       "        vertical-align: top;\n",
       "    }\n",
       "\n",
       "    .dataframe thead th {\n",
       "        text-align: right;\n",
       "    }\n",
       "</style>\n",
       "<table border=\"1\" class=\"dataframe\">\n",
       "  <thead>\n",
       "    <tr style=\"text-align: right;\">\n",
       "      <th></th>\n",
       "      <th>Value</th>\n",
       "    </tr>\n",
       "    <tr>\n",
       "      <th>Date</th>\n",
       "      <th></th>\n",
       "    </tr>\n",
       "  </thead>\n",
       "  <tbody>\n",
       "    <tr>\n",
       "      <th>1/31/2021</th>\n",
       "      <td>213.336933</td>\n",
       "    </tr>\n",
       "    <tr>\n",
       "      <th>2/28/2021</th>\n",
       "      <td>214.169503</td>\n",
       "    </tr>\n",
       "    <tr>\n",
       "      <th>3/31/2021</th>\n",
       "      <td>216.498071</td>\n",
       "    </tr>\n",
       "    <tr>\n",
       "      <th>4/30/2021</th>\n",
       "      <td>220.091856</td>\n",
       "    </tr>\n",
       "    <tr>\n",
       "      <th>5/31/2021</th>\n",
       "      <td>223.884450</td>\n",
       "    </tr>\n",
       "  </tbody>\n",
       "</table>\n",
       "</div>"
      ],
      "text/plain": [
       "                Value\n",
       "Date                 \n",
       "1/31/2021  213.336933\n",
       "2/28/2021  214.169503\n",
       "3/31/2021  216.498071\n",
       "4/30/2021  220.091856\n",
       "5/31/2021  223.884450"
      ]
     },
     "execution_count": 11,
     "metadata": {},
     "output_type": "execute_result"
    }
   ],
   "source": [
    "df1 = df1.sort_index(axis=0, ascending=True)\n",
    "df1"
   ]
  },
  {
   "cell_type": "code",
   "execution_count": 13,
   "metadata": {
    "scrolled": true
   },
   "outputs": [
    {
     "data": {
      "image/png": "[encoded data removed]",
      "text/plain": [
       "<Figure size 640x480 with 1 Axes>"
      ]
     },
     "metadata": {},
     "output_type": "display_data"
    }
   ],
   "source": [
    "df1.plot()\n",
    "plt.show()"
   ]
  },
  {
   "cell_type": "markdown",
   "metadata": {},
   "source": [
    "### Retrieving Data from Quandl"
   ]
  },
  {
   "cell_type": "markdown",
   "metadata": {},
   "source": [
    "- The data retrieval process can be done automatically.\n",
    "- Install the quandl package by executing the following command within the Python environment): `!pip install quandl`\n"
   ]
  },
  {
   "cell_type": "code",
   "execution_count": null,
   "metadata": {},
   "outputs": [],
   "source": [
    "!pip install quandl"
   ]
  },
  {
   "cell_type": "code",
   "execution_count": null,
   "metadata": {},
   "outputs": [],
   "source": [
    "import quandl"
   ]
  },
  {
   "cell_type": "code",
   "execution_count": null,
   "metadata": {
    "scrolled": true
   },
   "outputs": [],
   "source": [
    "#df = quandl.get('FMAC/HPI_NY') # you need to have an account\n",
    "#df"
   ]
  },
  {
   "cell_type": "code",
   "execution_count": null,
   "metadata": {},
   "outputs": [],
   "source": [
    "df = df['NSA Value'] # Use NSA Values only\n",
    "df"
   ]
  },
  {
   "cell_type": "code",
   "execution_count": null,
   "metadata": {},
   "outputs": [],
   "source": []
  }
 ],
 "metadata": {
  "kernelspec": {
   "display_name": "Python 3 (ipykernel)",
   "language": "python",
   "name": "python3"
  },
  "language_info": {
   "codemirror_mode": {
    "name": "ipython",
    "version": 3
   },
   "file_extension": ".py",
   "mimetype": "text/x-python",
   "name": "python",
   "nbconvert_exporter": "python",
   "pygments_lexer": "ipython3",
   "version": "3.12.4"
  }
 },
 "nbformat": 4,
 "nbformat_minor": 4
}
