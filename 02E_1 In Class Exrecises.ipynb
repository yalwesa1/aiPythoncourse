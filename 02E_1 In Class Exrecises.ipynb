{
 "cells": [
  {
   "cell_type": "markdown",
   "id": "f662bae9-c3f1-4b7d-8f46-f3c471d103b5",
   "metadata": {},
   "source": [
    "# Part 1"
   ]
  },
  {
   "cell_type": "markdown",
   "id": "c8e11ccb-e744-4cea-84ed-3396b6a970c3",
   "metadata": {},
   "source": [
    "## Exercise 1: Basic Input and Output\n",
    "### Task:\n",
    "Write a program that asks the user for their name and age, then prints a greeting message.\n",
    "\n",
    "### Instructions:\n",
    "\n",
    "Use input() to get the user's name and age.\n",
    "Print a greeting that includes their name and age.\n",
    "### Example:"
   ]
  },
  {
   "cell_type": "code",
   "execution_count": null,
   "id": "6b67f237-bd2d-4daf-9ff3-4f84a5dd8e7c",
   "metadata": {},
   "outputs": [],
   "source": [
    "name=input(\"enter your name\")\n",
    "age=input(\"enter your age\")\n",
    "print(\"hello\", name, \"you turned\", age)\n",
    "\n",
    "# Sample Input:\n",
    "# Name: Julia\n",
    "# Age: 22\n",
    "\n",
    "# Expected Output:\n",
    "# Hello, Julia! You are 22 years old.\n"
   ]
  },
  {
   "cell_type": "code",
   "execution_count": null,
   "id": "307772b2-b77a-4c91-97df-45d6cb4062a5",
   "metadata": {},
   "outputs": [],
   "source": [
    "#Student Answer\n",
    "name=input (\"what is your name?\")\n",
    "age=input (\"what is your age?\")\n",
    "print (f\"Hi {name}, you are {age} years old.\")"
   ]
  },
  {
   "cell_type": "markdown",
   "id": "036b81a3-12b3-4438-bc4a-38e4a0c455be",
   "metadata": {},
   "source": [
    "## Exercise 2: Simple Calculator\n",
    "## Task:\n",
    "Create a simple calculator that takes two numbers as input from the user and prints the result of addition, subtraction, multiplication, and division.\n",
    "\n",
    "## Instructions:\n",
    "\n",
    "Ask the user for two numbers using input().\n",
    "Perform addition, subtraction, multiplication, and division on these numbers.\n",
    "Print the results of each operation."
   ]
  },
  {
   "cell_type": "code",
   "execution_count": null,
   "id": "d95ef548-1e76-405d-a3b0-4ea8147bfed9",
   "metadata": {},
   "outputs": [],
   "source": [
    "# Sample Input:\n",
    "# Enter first number: 10\n",
    "# Enter second number: 5\n",
    "\n",
    "# Expected Output:\n",
    "# 10 + 5 = 15\n",
    "# 10 - 5 = 5\n",
    "# 10 * 5 = 50\n",
    "# 10 / 5 = 2.0\n",
    "#Student Answer\n",
    "n1 = float(input(\"Enter first number: \").strip())\n",
    "n2 = float(input(\"Enter second number: \").strip())\n",
    "\n",
    "print(f\"{n1} + {n2} = {n1+n2}\")\n",
    "print(f\"{n1} - {n2} = {n1-n2}\")\n",
    "print(f\"{n1} * {n2} = {n1*n2}\")\n",
    "print(f\"{n1} / {n2} = {n1/n2}\")"
   ]
  },
  {
   "cell_type": "code",
   "execution_count": null,
   "id": "aad33d2f-e358-4025-b8cd-e805fcdeed49",
   "metadata": {},
   "outputs": [],
   "source": [
    "#Student Answer\n",
    "x=int(input(\"what is value 1:\"))\n",
    "y=int(input(\"what is value 2:\"))\n",
    "print(f\"{x} + {y} = {x + y}\")\n",
    "print(f\"{x} - {y} = {x - y}\")\n",
    "print(f\"{x} * {y} = {x * y}\")\n",
    "print(f\"{x} / {y} = {x / y}\")"
   ]
  },
  {
   "cell_type": "code",
   "execution_count": null,
   "id": "080a58b1-d86c-454d-add7-7e374492bec7",
   "metadata": {},
   "outputs": [],
   "source": []
  },
  {
   "cell_type": "markdown",
   "id": "fbd04e1a-0b5d-4e1c-b640-92b4aa88680c",
   "metadata": {},
   "source": [
    "## Exercise 3: Debugging Practice\n",
    "## Task:\n",
    "The following code has some errors. Your job is to debug it.\n",
    "\n",
    "## Instructions:\n",
    "\n",
    "Identify and fix the errors in the code.\n",
    "Broken Code:"
   ]
  },
  {
   "cell_type": "code",
   "execution_count": null,
   "id": "322f8e36-85ac-4f3a-845e-5d7ddafecfbb",
   "metadata": {},
   "outputs": [],
   "source": [
    "name = input(\"Enter your name: \")\n",
    "print(\"Hello, name\") # This should print the user's name\n",
    "age = input(\"Enter your age: )\n",
    "if age > 18\n",
    "print(\"You are an adult.\")\n",
    "else\n",
    "print \"You are a minor.\"\n"
   ]
  },
  {
   "cell_type": "markdown",
   "id": "d2879d47-2ad9-4e25-89f9-acd35f323017",
   "metadata": {},
   "source": [
    "##### Corrected code is:"
   ]
  },
  {
   "cell_type": "code",
   "execution_count": null,
   "id": "82eece9c-60a8-4dc1-82a5-0877e19ddcb7",
   "metadata": {},
   "outputs": [],
   "source": [
    "name =input(\"Enter your name: \")\n",
    "print(\"Hello,\", name) # This should print the user's name\n",
    "age = input(\"Enter your age:\" )\n",
    "if int(age) > 18:   # colon\n",
    "    print(\"You are an adult.\")\n",
    "else:  # colon\n",
    "    print (\"You are a minor.\")"
   ]
  },
  {
   "cell_type": "markdown",
   "id": "97214536-a766-4802-951b-540fc8a5bf34",
   "metadata": {},
   "source": []
  }
 ],
 "metadata": {
  "kernelspec": {
   "display_name": "Python 3 (ipykernel)",
   "language": "python",
   "name": "python3"
  },
  "language_info": {
   "codemirror_mode": {
    "name": "ipython",
    "version": 3
   },
   "file_extension": ".py",
   "mimetype": "text/x-python",
   "name": "python",
   "nbconvert_exporter": "python",
   "pygments_lexer": "ipython3",
   "version": "3.12.4"
  }
 },
 "nbformat": 4,
 "nbformat_minor": 5
}
