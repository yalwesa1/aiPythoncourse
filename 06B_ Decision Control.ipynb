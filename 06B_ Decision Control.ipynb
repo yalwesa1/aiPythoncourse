{
 "cells": [
  {
   "cell_type": "markdown",
   "metadata": {
    "collapsed": true,
    "jupyter": {
     "outputs_hidden": true
    }
   },
   "source": [
    "# Decision Control"
   ]
  },
  {
   "cell_type": "markdown",
   "metadata": {
    "collapsed": true,
    "jupyter": {
     "outputs_hidden": true
    }
   },
   "source": [
    "### The `if` Statement"
   ]
  },
  {
   "cell_type": "markdown",
   "metadata": {
    "collapsed": true,
    "jupyter": {
     "outputs_hidden": true
    }
   },
   "source": [
    "**Syntax**"
   ]
  },
  {
   "cell_type": "markdown",
   "metadata": {
    "collapsed": true,
    "jupyter": {
     "outputs_hidden": true
    }
   },
   "source": [
    "- The statement block is indented. It will be executed only if the `condition` is `True`.\n",
    "```python\n",
    "if condition:\n",
    "    statement_block\n",
    "```"
   ]
  },
  {
   "cell_type": "markdown",
   "metadata": {},
   "source": [
    "**Example**"
   ]
  },
  {
   "cell_type": "markdown",
   "metadata": {},
   "source": [
    "- The following program convert a car's speed from kilometers per hour (kph) to miles per hour (mph).\n",
    "- Warnings will be issued if the car is too fast or too slow. <img src=\"images/speed_limit.jpg\" alt=\"Speed Limit: 65 mph\" style=\"width: 200px;\"/>"
   ]
  },
  {
   "cell_type": "code",
   "execution_count": 1,
   "metadata": {
    "scrolled": true
   },
   "outputs": [],
   "source": [
    "def speed1():\n",
    "    kph = float(input('What is the speed in kph? '))\n",
    "    mph = 0.621371 * kph\n",
    "    print('The speed is', mph, 'mph.')\n",
    "\n",
    "    if mph > 65:\n",
    "        print('You are over the speed limit (65 mph). Slow down!')\n",
    "    if mph <= 65:\n",
    "        print('You are within the speed limit. Good job!')"
   ]
  },
  {
   "cell_type": "code",
   "execution_count": 3,
   "metadata": {},
   "outputs": [
    {
     "name": "stdin",
     "output_type": "stream",
     "text": [
      "What is the speed in kph?  120\n"
     ]
    },
    {
     "name": "stdout",
     "output_type": "stream",
     "text": [
      "The speed is 74.56452 mph.\n",
      "You are over the speed limit (65 mph). Slow down!\n"
     ]
    }
   ],
   "source": [
    "speed1()"
   ]
  },
  {
   "cell_type": "code",
   "execution_count": 5,
   "metadata": {},
   "outputs": [
    {
     "name": "stdin",
     "output_type": "stream",
     "text": [
      "What is the speed in kph?  65\n"
     ]
    },
    {
     "name": "stdout",
     "output_type": "stream",
     "text": [
      "The speed is 40.389115000000004 mph.\n",
      "You are within the speed limit. Good job!\n"
     ]
    }
   ],
   "source": [
    "speed1()"
   ]
  },
  {
   "cell_type": "markdown",
   "metadata": {},
   "source": [
    "### The `if-else` Statement"
   ]
  },
  {
   "cell_type": "markdown",
   "metadata": {},
   "source": [
    "**Syntax**"
   ]
  },
  {
   "cell_type": "markdown",
   "metadata": {},
   "source": [
    "- `statement_block_1` will be executed if the condition is `True`; \n",
    "- Otherwise, `statement_block_2` will be executed.\n",
    "```python\n",
    "if condition:\n",
    "    statement_block_1\n",
    "else:\n",
    "    statement_block_2\n",
    "```"
   ]
  },
  {
   "cell_type": "markdown",
   "metadata": {},
   "source": [
    "**Example**"
   ]
  },
  {
   "cell_type": "code",
   "execution_count": null,
   "metadata": {},
   "outputs": [],
   "source": [
    "def speed2():\n",
    "    kph = float(input('What is the speed in kph? '))\n",
    "    mph = 0.621371 * kph\n",
    "    print('The speed is', mph, 'mph.')\n",
    "\n",
    "    if mph > 65:\n",
    "        print('You are over the speed limit (65 mph). Slow down!')\n",
    "    else:\n",
    "        print('You are within the speed limit. Good job!')"
   ]
  },
  {
   "cell_type": "code",
   "execution_count": null,
   "metadata": {},
   "outputs": [],
   "source": [
    "def speed2():\n",
    "    kph = float(input('What is the speed in kph? '))\n",
    "    mph = 0.621371 * kph\n",
    "    print('The speed is', mph, 'mph.')\n",
    "\n",
    "    if mph > 65:\n",
    "        print('You are over the speed limit (65 mph). Slow down!')\n",
    "    else:\n",
    "        print('You are within the speed limit. Good job!')"
   ]
  },
  {
   "cell_type": "code",
   "execution_count": null,
   "metadata": {},
   "outputs": [],
   "source": [
    "speed2()"
   ]
  },
  {
   "cell_type": "code",
   "execution_count": null,
   "metadata": {},
   "outputs": [],
   "source": [
    "speed2()"
   ]
  },
  {
   "cell_type": "markdown",
   "metadata": {},
   "source": [
    "### The `if-elif-else` Statement"
   ]
  },
  {
   "cell_type": "markdown",
   "metadata": {},
   "source": [
    "**Syntax**"
   ]
  },
  {
   "cell_type": "markdown",
   "metadata": {},
   "source": [
    "- Python evaluates each condition in order, looking for the first that is `True`.\n",
    "- If a 'True' condition is found, the corresponding statement block will be executed. \n",
    "- If none of the conditions is `True`, `statement_block_n` under the last `else` will be executed.\n",
    "```python\n",
    "if condition_1:\n",
    "    statement_block_1\n",
    "elif condition_2:\n",
    "    statement_block_2\n",
    "elif condition_3:\n",
    "    statement_block_3\n",
    "...\n",
    "else:\n",
    "    statement_block_n\n",
    "```"
   ]
  },
  {
   "cell_type": "markdown",
   "metadata": {},
   "source": [
    "**Example**"
   ]
  },
  {
   "cell_type": "code",
   "execution_count": 9,
   "metadata": {},
   "outputs": [],
   "source": [
    "def speed3():\n",
    "    kph = float(input('What is the speed in kph? '))\n",
    "    mph = 0.621371 * kph\n",
    "    print('The speed is', mph, 'mph.')\n",
    "\n",
    "    if mph > 80:\n",
    "        print('You are WAY over the speed limit. Your fine is $200!')\n",
    "    elif 65 < mph <= 80:\n",
    "        print('You are over the speed limit (65 mph). Slow down!')\n",
    "    elif 30 <= mph <=65:\n",
    "        print('You are within the speed limit. Good job!')\n",
    "    else:\n",
    "        print('You are too slow. Exit highway and use local roads!')"
   ]
  },
  {
   "cell_type": "code",
   "execution_count": 13,
   "metadata": {},
   "outputs": [
    {
     "name": "stdin",
     "output_type": "stream",
     "text": [
      "What is the speed in kph?  150\n"
     ]
    },
    {
     "name": "stdout",
     "output_type": "stream",
     "text": [
      "The speed is 93.20565 mph.\n",
      "You are WAY over the speed limit. Your fine is $200!\n"
     ]
    }
   ],
   "source": [
    "speed3()"
   ]
  },
  {
   "cell_type": "code",
   "execution_count": 15,
   "metadata": {},
   "outputs": [
    {
     "name": "stdin",
     "output_type": "stream",
     "text": [
      "What is the speed in kph?  40\n"
     ]
    },
    {
     "name": "stdout",
     "output_type": "stream",
     "text": [
      "The speed is 24.85484 mph.\n",
      "You are too slow. Exit highway and use local roads!\n"
     ]
    }
   ],
   "source": [
    "speed3()"
   ]
  },
  {
   "cell_type": "code",
   "execution_count": null,
   "metadata": {},
   "outputs": [],
   "source": [
    "speed3()"
   ]
  },
  {
   "cell_type": "code",
   "execution_count": null,
   "metadata": {},
   "outputs": [],
   "source": [
    "speed3()"
   ]
  },
  {
   "cell_type": "code",
   "execution_count": null,
   "metadata": {},
   "outputs": [],
   "source": []
  }
 ],
 "metadata": {
  "kernelspec": {
   "display_name": "Python 3 (ipykernel)",
   "language": "python",
   "name": "python3"
  },
  "language_info": {
   "codemirror_mode": {
    "name": "ipython",
    "version": 3
   },
   "file_extension": ".py",
   "mimetype": "text/x-python",
   "name": "python",
   "nbconvert_exporter": "python",
   "pygments_lexer": "ipython3",
   "version": "3.12.4"
  }
 },
 "nbformat": 4,
 "nbformat_minor": 4
}
