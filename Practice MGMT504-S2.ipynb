{
 "cells": [
  {
   "cell_type": "code",
   "execution_count": null,
   "id": "63ab3131-132c-460b-a36d-2a954b669f89",
   "metadata": {},
   "outputs": [],
   "source": [
    "def sum_two_numbers(a, b):\n",
    "    return a + b\n",
    "\n",
    "# Example usage\n",
    "number1 = 5\n",
    "number2 = 10\n",
    "result = sum_two_numbers(number1, number2)\n",
    "print(\"The sum is:\", result)"
   ]
  },
  {
   "cell_type": "code",
   "execution_count": null,
   "id": "43b5a4ac-6b2e-4a89-8489-e5094b884a3c",
   "metadata": {},
   "outputs": [],
   "source": []
  },
  {
   "cell_type": "code",
   "execution_count": null,
   "id": "b09e6b31-ba36-4151-a929-a5d363a2f030",
   "metadata": {},
   "outputs": [],
   "source": []
  },
  {
   "cell_type": "code",
   "execution_count": null,
   "id": "adbc6281-0776-4f87-a2fa-69ad2eee7ff7",
   "metadata": {},
   "outputs": [],
   "source": []
  },
  {
   "cell_type": "code",
   "execution_count": null,
   "id": "7695d8f8-a77e-4147-90cd-6d3d15d68fdc",
   "metadata": {},
   "outputs": [],
   "source": []
  },
  {
   "cell_type": "code",
   "execution_count": null,
   "id": "479378e3-6da5-472e-b474-985162191a00",
   "metadata": {},
   "outputs": [],
   "source": []
  },
  {
   "cell_type": "code",
   "execution_count": null,
   "id": "b7089b90-84ca-481c-9fee-a1582c67413d",
   "metadata": {},
   "outputs": [],
   "source": []
  },
  {
   "cell_type": "code",
   "execution_count": null,
   "id": "780eb083-840f-4bb9-a68b-039fdb501597",
   "metadata": {},
   "outputs": [],
   "source": []
  },
  {
   "cell_type": "code",
   "execution_count": null,
   "id": "e95fa8d8-0e54-4376-86e5-e36bc3e63f42",
   "metadata": {},
   "outputs": [],
   "source": []
  },
  {
   "cell_type": "code",
   "execution_count": null,
   "id": "7657abc1-bbe0-4bee-b30f-887257f28a16",
   "metadata": {},
   "outputs": [],
   "source": []
  },
  {
   "cell_type": "code",
   "execution_count": null,
   "id": "0be411d9-e311-4375-9dbe-34c8a7f53b3a",
   "metadata": {},
   "outputs": [],
   "source": []
  },
  {
   "cell_type": "code",
   "execution_count": null,
   "id": "5bd73106-9566-4ede-b8b1-f1e78edb582a",
   "metadata": {},
   "outputs": [],
   "source": []
  },
  {
   "cell_type": "code",
   "execution_count": null,
   "id": "cfd42351-4fcd-43b6-93d7-c108618ff5eb",
   "metadata": {},
   "outputs": [],
   "source": []
  },
  {
   "cell_type": "code",
   "execution_count": null,
   "id": "b1f0de21-3174-4870-a54f-ef03481f6d82",
   "metadata": {},
   "outputs": [],
   "source": []
  },
  {
   "cell_type": "code",
   "execution_count": null,
   "id": "857df771-fb70-49fb-985e-edf96fe856e7",
   "metadata": {},
   "outputs": [],
   "source": [
    "addition(10, 20)"
   ]
  },
  {
   "cell_type": "code",
   "execution_count": null,
   "id": "34dfe93b-66c7-43af-874c-848103c0af46",
   "metadata": {},
   "outputs": [],
   "source": [
    "1+2"
   ]
  },
  {
   "cell_type": "code",
   "execution_count": null,
   "id": "b2624328-986a-4f10-913f-5d365f7670d0",
   "metadata": {},
   "outputs": [],
   "source": [
    "2*3"
   ]
  },
  {
   "cell_type": "code",
   "execution_count": null,
   "id": "1f9d0d14-28a1-4809-9668-aa61637f2184",
   "metadata": {},
   "outputs": [],
   "source": [
    "4-2"
   ]
  },
  {
   "cell_type": "code",
   "execution_count": null,
   "id": "9b1b986f-3109-46e9-b0f1-74dc9d34184b",
   "metadata": {},
   "outputs": [],
   "source": [
    "4*3"
   ]
  },
  {
   "cell_type": "code",
   "execution_count": null,
   "id": "4d758c3e-267f-4188-996b-826ab4465b83",
   "metadata": {},
   "outputs": [],
   "source": [
    "12/3"
   ]
  },
  {
   "cell_type": "code",
   "execution_count": null,
   "id": "d4e6ed1c-728e-40a6-8cbb-0691f8050378",
   "metadata": {},
   "outputs": [],
   "source": [
    "print(\" Hello, World!\")"
   ]
  },
  {
   "cell_type": "code",
   "execution_count": null,
   "id": "0ef8cff3-c4e0-42b0-94cf-fcb7baf28d3a",
   "metadata": {},
   "outputs": [],
   "source": [
    "print(\" Hello, Adam\")"
   ]
  },
  {
   "cell_type": "code",
   "execution_count": null,
   "id": "765b4e87-59da-43c9-bb4c-9778de904517",
   "metadata": {},
   "outputs": [],
   "source": [
    "print(\"Hello\")"
   ]
  },
  {
   "cell_type": "code",
   "execution_count": null,
   "id": "82be099b-61ac-4362-ac1f-571aaa8d950a",
   "metadata": {},
   "outputs": [],
   "source": [
    "print(\"Hi John\")"
   ]
  },
  {
   "cell_type": "code",
   "execution_count": null,
   "id": "1fb966e6-6ac5-4d99-ae11-7a8577fa5cd0",
   "metadata": {},
   "outputs": [],
   "source": [
    "print(\"Hi Julia\")"
   ]
  },
  {
   "cell_type": "markdown",
   "id": "eba65563-7e2b-419e-9690-c8d5ec0d1a97",
   "metadata": {},
   "source": [
    "# Heading"
   ]
  },
  {
   "cell_type": "markdown",
   "id": "3326ff3d-49e4-4003-8713-7f50c47b5135",
   "metadata": {},
   "source": [
    "## Heading"
   ]
  },
  {
   "cell_type": "markdown",
   "id": "cd8f87a8-fe79-4781-9b5e-ee7ebf99f2e3",
   "metadata": {},
   "source": [
    "###### Heading"
   ]
  },
  {
   "cell_type": "markdown",
   "id": "159d6624-bf19-47f2-a917-0476c27f8620",
   "metadata": {},
   "source": [
    "# Introduction"
   ]
  },
  {
   "cell_type": "markdown",
   "id": "d3554881-43ed-4f37-a7f0-19fbd4533f5a",
   "metadata": {},
   "source": [
    "###### Introduction"
   ]
  },
  {
   "cell_type": "markdown",
   "id": "64438bd3-dec8-4cf0-8eb2-ba32080812b5",
   "metadata": {},
   "source": [
    "## Bulit points"
   ]
  },
  {
   "cell_type": "markdown",
   "id": "2ae2e30e-a349-4544-98e1-cae49de8b5e0",
   "metadata": {},
   "source": [
    "* item 1\n",
    "* item 2\n",
    "* item 3"
   ]
  },
  {
   "cell_type": "markdown",
   "id": "9664c0f0-ef1b-44bb-8e35-dbf256498b74",
   "metadata": {},
   "source": [
    "* item 1\n",
    "    * sub-item 1\n",
    "* item 2"
   ]
  },
  {
   "cell_type": "markdown",
   "id": "9e779044-f655-483e-9459-949b1dde2d7f",
   "metadata": {},
   "source": [
    "1. Introduction\n",
    "2. Methodology\n",
    "3. Method\n",
    "4. Results\n",
    "5. Conclusions"
   ]
  },
  {
   "cell_type": "markdown",
   "id": "75bf13ef-984a-4d4e-acee-1fe600b61163",
   "metadata": {},
   "source": [
    "1) Introduction\n",
    "2) Methodology\n"
   ]
  },
  {
   "cell_type": "code",
   "execution_count": 1,
   "id": "00079a87-2bc9-40f0-9cbe-233899ee6846",
   "metadata": {},
   "outputs": [
    {
     "name": "stdin",
     "output_type": "stream",
     "text": [
      "Enter your name. Yaseen\n"
     ]
    },
    {
     "data": {
      "text/plain": [
       "'Yaseen'"
      ]
     },
     "execution_count": 1,
     "metadata": {},
     "output_type": "execute_result"
    }
   ],
   "source": [
    "input(\"Enter your name.\")"
   ]
  },
  {
   "cell_type": "code",
   "execution_count": 3,
   "id": "67715dce-d9fb-4cbf-a4ab-853e5498f909",
   "metadata": {},
   "outputs": [
    {
     "name": "stdin",
     "output_type": "stream",
     "text": [
      " Your age 35\n"
     ]
    },
    {
     "data": {
      "text/plain": [
       "'35'"
      ]
     },
     "execution_count": 3,
     "metadata": {},
     "output_type": "execute_result"
    }
   ],
   "source": [
    "input(\" Your age\")\n"
   ]
  },
  {
   "cell_type": "markdown",
   "id": "260c2071-63bf-402b-b6d2-bcb5ae2d0204",
   "metadata": {},
   "source": [
    "## Practice 1:\n",
    "write two separated input functions to insert the user name and his/her age, then print out something like this \" Yaseen is 35\", the print function should be updated automatically based on the user inputs."
   ]
  },
  {
   "cell_type": "markdown",
   "id": "267712c3-8226-4f7d-8947-c9918cdf7af1",
   "metadata": {},
   "source": [
    "## Practice 2:\n",
    "write two separate input functions to insert the user name and his/her college name, then print out something like this \"The user name is studying at University name\", the print function should be updated automatically based on the user inputs."
   ]
  },
  {
   "cell_type": "code",
   "execution_count": null,
   "id": "d9a7e3a6-5415-4186-a0b4-806a5b43233d",
   "metadata": {},
   "outputs": [],
   "source": []
  },
  {
   "cell_type": "code",
   "execution_count": null,
   "id": "5a602502-2fa5-481b-8280-a0b99da890f6",
   "metadata": {},
   "outputs": [],
   "source": []
  },
  {
   "cell_type": "code",
   "execution_count": null,
   "id": "3b1fc095-2b78-447f-a225-87658ca2e463",
   "metadata": {},
   "outputs": [],
   "source": []
  },
  {
   "cell_type": "code",
   "execution_count": null,
   "id": "24f539d6-6420-4461-86a0-74d27bb7974e",
   "metadata": {},
   "outputs": [],
   "source": []
  },
  {
   "cell_type": "code",
   "execution_count": null,
   "id": "7f56670c-058f-45c7-beb6-5f01d5e048c5",
   "metadata": {},
   "outputs": [],
   "source": []
  },
  {
   "cell_type": "code",
   "execution_count": null,
   "id": "545dd846-53d8-4ed3-8605-9fda72738bb6",
   "metadata": {},
   "outputs": [],
   "source": []
  },
  {
   "cell_type": "code",
   "execution_count": 25,
   "id": "ccfbf787-5694-4c04-a0f0-c764588517ec",
   "metadata": {},
   "outputs": [
    {
     "name": "stdin",
     "output_type": "stream",
     "text": [
      "Enter your name. Julia\n"
     ]
    }
   ],
   "source": [
    "name=input(\"Enter your name.\")"
   ]
  },
  {
   "cell_type": "code",
   "execution_count": 27,
   "id": "a4590cfd-bddf-45cb-8425-3d11d4d48433",
   "metadata": {},
   "outputs": [
    {
     "name": "stdin",
     "output_type": "stream",
     "text": [
      "Enter your age. 22\n"
     ]
    }
   ],
   "source": [
    "age=input(\"Enter your age.\")"
   ]
  },
  {
   "cell_type": "code",
   "execution_count": 33,
   "id": "8b8d22f0-a40d-4d90-b878-4067ba43be9a",
   "metadata": {},
   "outputs": [
    {
     "name": "stdout",
     "output_type": "stream",
     "text": [
      "Julia is 22\n"
     ]
    }
   ],
   "source": [
    "print(name,\"is\", age)"
   ]
  },
  {
   "cell_type": "code",
   "execution_count": 35,
   "id": "e9e6a92f-d47f-45fb-8cf4-b86e21c1756e",
   "metadata": {},
   "outputs": [
    {
     "name": "stdout",
     "output_type": "stream",
     "text": [
      "Julia is 22 years old\n"
     ]
    }
   ],
   "source": [
    "print(name,\"is\", age,\"years old\")"
   ]
  },
  {
   "cell_type": "code",
   "execution_count": 37,
   "id": "a8b93018-8ece-4588-a04b-699e38fb44cd",
   "metadata": {},
   "outputs": [
    {
     "name": "stdout",
     "output_type": "stream",
     "text": [
      " Julia is 22 years old\n"
     ]
    }
   ],
   "source": [
    "print(f\" {name} is {age} years old\")"
   ]
  },
  {
   "cell_type": "code",
   "execution_count": null,
   "id": "4eea6dc8-1b5d-42df-b037-80a00f301320",
   "metadata": {},
   "outputs": [],
   "source": []
  }
 ],
 "metadata": {
  "kernelspec": {
   "display_name": "Python 3 (ipykernel)",
   "language": "python",
   "name": "python3"
  },
  "language_info": {
   "codemirror_mode": {
    "name": "ipython",
    "version": 3
   },
   "file_extension": ".py",
   "mimetype": "text/x-python",
   "name": "python",
   "nbconvert_exporter": "python",
   "pygments_lexer": "ipython3",
   "version": "3.12.4"
  }
 },
 "nbformat": 4,
 "nbformat_minor": 5
}
