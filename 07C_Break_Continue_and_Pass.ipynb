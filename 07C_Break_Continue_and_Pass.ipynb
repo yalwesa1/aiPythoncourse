{
 "cells": [
  {
   "cell_type": "markdown",
   "metadata": {
    "collapsed": true,
    "jupyter": {
     "outputs_hidden": true
    }
   },
   "source": [
    "# Break, Continue, and Pass"
   ]
  },
  {
   "cell_type": "markdown",
   "metadata": {
    "collapsed": true,
    "jupyter": {
     "outputs_hidden": true
    }
   },
   "source": [
    "### The Break Statement"
   ]
  },
  {
   "cell_type": "markdown",
   "metadata": {
    "collapsed": true,
    "jupyter": {
     "outputs_hidden": true
    }
   },
   "source": [
    "- If a condition is met, the `break` statement exits the enclosing loop in the middle of an iteration.\n",
    "- The following program prompts the user to input a test score between 0 and 100."
   ]
  },
  {
   "cell_type": "code",
   "execution_count": null,
   "metadata": {},
   "outputs": [],
   "source": [
    "def main():\n",
    "    while True:\n",
    "        score = float(input(\"Enter a test score between 0 and 100: \"))\n",
    "        if 0 <= score <= 100:\n",
    "            break  # Exit the while loop\n",
    "        print(\"The score was not between 0 and 100. Do it again.\")\n",
    "    print(\"The score is\", score)\n",
    "    \n",
    "main()"
   ]
  },
  {
   "cell_type": "markdown",
   "metadata": {},
   "source": [
    "### The Continue Statement"
   ]
  },
  {
   "cell_type": "markdown",
   "metadata": {},
   "source": [
    "- If a condition is met, the `continue` statement skips over the rest of the loop in the middle of an iteration.\n",
    "- The following program prints the positive numbers in a list and skips over the negative ones and zeros."
   ]
  },
  {
   "cell_type": "code",
   "execution_count": null,
   "metadata": {},
   "outputs": [],
   "source": [
    "def main():\n",
    "    temperature = [30, 64, -5, -10, 50, 0, 90]\n",
    "    for t in temperature:\n",
    "        if t <= 0:\n",
    "            continue  # Skip over the rest of the iteration\n",
    "        print(t)\n",
    "    \n",
    "main()"
   ]
  },
  {
   "cell_type": "markdown",
   "metadata": {},
   "source": [
    "### Break and Continue in Nested Loops"
   ]
  },
  {
   "cell_type": "markdown",
   "metadata": {},
   "source": [
    "- The break and continue statements will only affect the nearest enclosing loop when they are used in nested loops.\n",
    "<img src=\"images/break.png\" alt=\"Break in Nested Loops\" style=\"width: 340px; border:1px solid black\"/>\n",
    "<img src=\"images/continue.png\" alt=\"Continue in Nested Loops\" style=\"width: 500px; border:1px solid black\"/>"
   ]
  },
  {
   "cell_type": "markdown",
   "metadata": {},
   "source": [
    "### The Pass Statement"
   ]
  },
  {
   "cell_type": "markdown",
   "metadata": {},
   "source": [
    "- The `pass` statement does nothing when it executes. \n",
    "- It is usually used as a placeholder for the code that hasn't been written yet."
   ]
  },
  {
   "cell_type": "code",
   "execution_count": null,
   "metadata": {},
   "outputs": [],
   "source": [
    "def func1():\n",
    "    pass  # Remember to implement this function"
   ]
  },
  {
   "cell_type": "code",
   "execution_count": null,
   "metadata": {},
   "outputs": [],
   "source": [
    "class MyClass:\n",
    "    pass  # Remember to implement this class"
   ]
  },
  {
   "cell_type": "markdown",
   "metadata": {},
   "source": [
    "## In-class exercises\n"
   ]
  },
  {
   "cell_type": "markdown",
   "metadata": {},
   "source": [
    "## 1. Inventory Management using a while Loop"
   ]
  },
  {
   "cell_type": "markdown",
   "metadata": {},
   "source": [
    "\n",
    "   \n",
    "Objective: Students will use a while loop to simulate an inventory check process.\n",
    "\n",
    "Exercise: Write a Python program that simulates checking an inventory of products in a warehouse. The system will continue to check items until the stock of a certain product is depleted.\n",
    "\n",
    "Instructions:\n",
    "\n",
    "Initialize the inventory with a certain number of items (e.g., 50 items).\n",
    "Use a while loop to subtract sold items (user input) from the inventory.\n",
    "The loop should stop when the inventory reaches zero"
   ]
  },
  {
   "cell_type": "markdown",
   "metadata": {},
   "source": [
    "## 2. Customer Service Queue with while and break"
   ]
  },
  {
   "cell_type": "markdown",
   "metadata": {},
   "source": [
    "Objective: Students will use a while loop with a break statement to simulate a customer service queue.\n",
    "\n",
    "Exercise: Create a Python program that simulates a customer service system, where each customer in a queue is attended to one by one. The program will continue until there are no more customers or until the operator decides to close the service early.\n",
    "\n",
    "Instructions:\n",
    "\n",
    "Initialize a variable for the number of customers in the queue (e.g., 10 customers).\n",
    "Use a while loop to process each customer, decreasing the queue count by 1 for each processed customer.\n",
    "Add an option for the operator to close the service by entering a specific command (e.g., \"close\"), which will use the break statement to exit the loop."
   ]
  },
  {
   "cell_type": "markdown",
   "metadata": {},
   "source": [
    "## 3. Employee Work Hours Tracker with while and continue"
   ]
  },
  {
   "cell_type": "markdown",
   "metadata": {},
   "source": [
    "Objective: Students will use a while loop with a continue statement to skip unnecessary operations.\n",
    "\n",
    "Exercise: Write a Python program to track employee work hours. If an employee hasn’t worked any hours (e.g., 0 hours), the program will skip that employee using continue.\n",
    "\n",
    "Instructions:\n",
    "\n",
    "Set up a list of employees and their respective work hours.\n",
    "employees = [(\"John\", 8), (\"Anna\", 0), (\"Mike\", 5), (\"Sara\", 0)]\n",
    "Use a while loop to iterate over the list.\n",
    "For each employee, if the work hours are zero, use the continue statement to skip that employee.\n",
    "Otherwise, print a message showing the employee's name and their work hours."
   ]
  },
  {
   "cell_type": "code",
   "execution_count": null,
   "metadata": {},
   "outputs": [],
   "source": []
  },
  {
   "cell_type": "code",
   "execution_count": null,
   "metadata": {},
   "outputs": [],
   "source": []
  },
  {
   "cell_type": "code",
   "execution_count": null,
   "metadata": {},
   "outputs": [],
   "source": []
  },
  {
   "cell_type": "code",
   "execution_count": null,
   "metadata": {},
   "outputs": [],
   "source": []
  },
  {
   "cell_type": "markdown",
   "metadata": {},
   "source": [
    "## Solutions"
   ]
  },
  {
   "cell_type": "code",
   "execution_count": null,
   "metadata": {},
   "outputs": [],
   "source": [
    "inventory = 50\n",
    "while inventory > 0:\n",
    "    sold = int(input(\"Enter the number of items sold: \"))\n",
    "    inventory -= sold\n",
    "    print(f\"Inventory left: {inventory}\")\n",
    "print(\"Inventory depleted!\")\n"
   ]
  },
  {
   "cell_type": "code",
   "execution_count": null,
   "metadata": {},
   "outputs": [],
   "source": [
    "queue = 10\n",
    "while queue > 0:\n",
    "    action = input(\"Enter 'next' to process next customer or 'close' to end service: \")\n",
    "    if action == \"close\":\n",
    "        print(\"Service closed early.\")\n",
    "        break\n",
    "    queue -= 1\n",
    "    print(f\"Customer served. Customers left: {queue}\")\n",
    "if queue == 0:\n",
    "    print(\"All customers served.\")\n"
   ]
  },
  {
   "cell_type": "code",
   "execution_count": null,
   "metadata": {},
   "outputs": [],
   "source": [
    "employees = [(\"John\", 8), (\"Anna\", 0), (\"Mike\", 5), (\"Sara\", 0)]\n",
    "index = 0\n",
    "while index < len(employees):\n",
    "    name, hours = employees[index]\n",
    "    if hours == 0:\n",
    "        index += 1\n",
    "        continue\n",
    "    print(f\"{name} worked {hours} hours.\")\n",
    "    index += 1\n"
   ]
  },
  {
   "cell_type": "code",
   "execution_count": null,
   "metadata": {},
   "outputs": [],
   "source": []
  },
  {
   "cell_type": "code",
   "execution_count": null,
   "metadata": {},
   "outputs": [],
   "source": []
  },
  {
   "cell_type": "code",
   "execution_count": null,
   "metadata": {},
   "outputs": [],
   "source": []
  }
 ],
 "metadata": {
  "kernelspec": {
   "display_name": "Python 3 (ipykernel)",
   "language": "python",
   "name": "python3"
  },
  "language_info": {
   "codemirror_mode": {
    "name": "ipython",
    "version": 3
   },
   "file_extension": ".py",
   "mimetype": "text/x-python",
   "name": "python",
   "nbconvert_exporter": "python",
   "pygments_lexer": "ipython3",
   "version": "3.12.4"
  }
 },
 "nbformat": 4,
 "nbformat_minor": 4
}
