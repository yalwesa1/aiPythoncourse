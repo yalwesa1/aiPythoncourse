{
 "cells": [
  {
   "cell_type": "markdown",
   "metadata": {
    "collapsed": true,
    "jupyter": {
     "outputs_hidden": true
    }
   },
   "source": [
    "# Linear Programming using PuLP"
   ]
  },
  {
   "cell_type": "markdown",
   "metadata": {},
   "source": [
    "### Linear Programming"
   ]
  },
  {
   "cell_type": "markdown",
   "metadata": {},
   "source": [
    "- Linear programming (LP) is a method to find the maximum or the minimum in a linear mathematical model \n",
    "- Each LP problem consists of the following components: an objective function, decision variables (or control variables), and constraints."
   ]
  },
  {
   "cell_type": "markdown",
   "metadata": {},
   "source": [
    "### Example: Chairs and Tables"
   ]
  },
  {
   "cell_type": "markdown",
   "metadata": {},
   "source": [
    "- Giapetto, Inc. manufactures two types of furniture: chairs and tables. The manufacturer wants to maximize their weekly profit.\n",
    "- \\$20 of profit per chair. \n",
    "- \\$30 of profit per table.\n",
    "- A chair requires 1 hour of finishing labor and 2 hours of carpentry labor.\n",
    "- A table requires 2 hours of finishing labor and 1 hour of carpentry labor.\n",
    "- Each week, Giapetto has only 100 finishing hours and 100 carpentry hours available.\n",
    "<img src=\"images/chairs_tables.jpg\" alt=\"Chairs and Tables\" style=\"width: 300px;\"/>"
   ]
  },
  {
   "cell_type": "markdown",
   "metadata": {},
   "source": [
    "- $x_1$: number of chairs produced each week\n",
    "- $x_2$: number of tables produced each week\n",
    "\n",
    "\n",
    "\\begin{align}\n",
    "max \\hspace{1cm} z & = 20x_1+30x_2 \\\\\n",
    "s.t. \\hspace{0.5cm} x_1+2x_2 & \\leq 100 \\hspace{0.5cm} (Finishing\\ hours)\\\\\n",
    "2x_1+x_2 & \\leq 100 \\hspace{0.5cm} (Carpentry\\ hours)\\\\\n",
    "x_1 & \\geq 0 \\hspace{0.5cm} (Sign\\ restriction)\\\\\n",
    "x_2 & \\geq 0 \\hspace{0.5cm} (Sign\\ restriction)\\\\\n",
    "\\end{align}"
   ]
  },
  {
   "cell_type": "raw",
   "metadata": {},
   "source": [
    "if We decide to produce only tables \n",
    "x1=0 # number chairs is zero\n",
    "2x2<=100\n",
    "x2<=100/2=50\n",
    "---> x2=50\n",
    "z=30*50=$1500"
   ]
  },
  {
   "cell_type": "raw",
   "metadata": {},
   "source": [
    "x2=0\n",
    "x1<=100\n",
    "x1<=50\n",
    "---> x1=50\n",
    "z=20*50=$1000"
   ]
  },
  {
   "cell_type": "markdown",
   "metadata": {},
   "source": [
    "- PuLP uses LP solvers (e.g., GLPK, COIN CLP/CBC, CPLEX, and GUROBI) to solve linear problems. \n",
    "- To install PuLP, in a Command Prompt, type in `pip install pulp`"
   ]
  },
  {
   "cell_type": "code",
   "execution_count": null,
   "metadata": {},
   "outputs": [],
   "source": [
    "pip install pulp"
   ]
  },
  {
   "cell_type": "code",
   "execution_count": 4,
   "metadata": {},
   "outputs": [],
   "source": [
    "from pulp import *"
   ]
  },
  {
   "cell_type": "code",
   "execution_count": 6,
   "metadata": {},
   "outputs": [
    {
     "data": {
      "text/plain": [
       "Giapetto:\n",
       "MAXIMIZE\n",
       "20*x1 + 30*x2 + 0\n",
       "SUBJECT TO\n",
       "_C1: x1 + 2 x2 <= 100\n",
       "\n",
       "_C2: 2 x1 + x2 <= 100\n",
       "\n",
       "VARIABLES\n",
       "x1 Continuous\n",
       "x2 Continuous"
      ]
     },
     "execution_count": 6,
     "metadata": {},
     "output_type": "execute_result"
    }
   ],
   "source": [
    "prob = LpProblem(\"Giapetto\", LpMaximize)  # Create a LP maximization problem\n",
    "x1 = LpVariable(\"x1\", lowBound=0) # Create a variable x1 >= 0\n",
    "x2 = LpVariable(\"x2\", lowBound=0) # Create another variable x2 >= 0\n",
    "prob += 20*x1 + 30*x2  # Objective function\n",
    "prob += 1*x1 + 2*x2 <= 100  # Finishing hours\n",
    "prob += 2*x1 + 1*x2 <= 100  # Carpentry hours\n",
    "prob  # Display the LP problem"
   ]
  },
  {
   "cell_type": "code",
   "execution_count": 8,
   "metadata": {},
   "outputs": [
    {
     "data": {
      "text/plain": [
       "'Optimal'"
      ]
     },
     "execution_count": 8,
     "metadata": {},
     "output_type": "execute_result"
    }
   ],
   "source": [
    "status = prob.solve()  # Solve with the default solver\n",
    "LpStatus[status]  # Print the solution status"
   ]
  },
  {
   "cell_type": "code",
   "execution_count": 10,
   "metadata": {},
   "outputs": [
    {
     "data": {
      "text/plain": [
       "(33.333333, 33.333333, 1666.6666500000001)"
      ]
     },
     "execution_count": 10,
     "metadata": {},
     "output_type": "execute_result"
    }
   ],
   "source": [
    "value(x1), value(x2), value(prob.objective)  # Show the solution"
   ]
  },
  {
   "cell_type": "code",
   "execution_count": null,
   "metadata": {
    "scrolled": true
   },
   "outputs": [],
   "source": [
    "%matplotlib inline\n",
    "%run giapetto_feasible.py"
   ]
  },
  {
   "cell_type": "markdown",
   "metadata": {},
   "source": [
    "### Integer Linear Programming (ILP)"
   ]
  },
  {
   "cell_type": "markdown",
   "metadata": {},
   "source": [
    "- $x_1$: integer number of chairs produced each week\n",
    "- $x_2$: integer number of tables produced each week\n",
    "\n",
    "\\begin{align}\n",
    "max \\hspace{1cm} z & = 20x_1+30x_2 \\\\\n",
    "s.t. \\hspace{0.5cm} x_1+2x_2 & \\leq 100 \\hspace{0.5cm} (Finishing\\ hours)\\\\\n",
    "2x_1+x_2 & \\leq 100 \\hspace{0.5cm} (Carpentry\\ hours)\\\\\n",
    "x_1 & \\geq 0 \\hspace{0.5cm} (Integer\\ sign\\ restriction)\\\\\n",
    "x_2 & \\geq 0 \\hspace{0.5cm} (Integer\\ sign\\ restriction)\\\\\n",
    "\\end{align}"
   ]
  },
  {
   "cell_type": "code",
   "execution_count": 12,
   "metadata": {
    "scrolled": true
   },
   "outputs": [
    {
     "data": {
      "text/plain": [
       "Giapetto:\n",
       "MAXIMIZE\n",
       "20*x1 + 30*x2 + 0\n",
       "SUBJECT TO\n",
       "_C1: x1 + 2 x2 <= 100\n",
       "\n",
       "_C2: 2 x1 + x2 <= 100\n",
       "\n",
       "VARIABLES\n",
       "0 <= x1 Integer\n",
       "0 <= x2 Integer"
      ]
     },
     "execution_count": 12,
     "metadata": {},
     "output_type": "execute_result"
    }
   ],
   "source": [
    "prob = LpProblem(\"Giapetto\", LpMaximize)\n",
    "x1 = LpVariable(\"x1\", lowBound=0, cat='Integer') # Integer variable x1 >= 0\n",
    "x2 = LpVariable(\"x2\", lowBound=0, cat='Integer') # Integer variable x2 >= 0\n",
    "prob += 20*x1 + 30*x2\n",
    "prob += 1*x1 + 2*x2 <= 100\n",
    "prob += 2*x1 + 1*x2 <= 100\n",
    "prob"
   ]
  },
  {
   "cell_type": "code",
   "execution_count": 14,
   "metadata": {},
   "outputs": [
    {
     "data": {
      "text/plain": [
       "'Optimal'"
      ]
     },
     "execution_count": 14,
     "metadata": {},
     "output_type": "execute_result"
    }
   ],
   "source": [
    "status = prob.solve()  # Solve with the default solver\n",
    "LpStatus[status]  # Print the solution status"
   ]
  },
  {
   "cell_type": "code",
   "execution_count": 16,
   "metadata": {},
   "outputs": [
    {
     "data": {
      "text/plain": [
       "(32.0, 34.0, 1660.0)"
      ]
     },
     "execution_count": 16,
     "metadata": {},
     "output_type": "execute_result"
    }
   ],
   "source": [
    "value(x1), value(x2), value(prob.objective)  # Show the solution"
   ]
  },
  {
   "cell_type": "code",
   "execution_count": null,
   "metadata": {},
   "outputs": [],
   "source": [
    "20*32+30*34"
   ]
  },
  {
   "cell_type": "markdown",
   "metadata": {},
   "source": [
    "- What about making tables only? "
   ]
  },
  {
   "cell_type": "code",
   "execution_count": null,
   "metadata": {},
   "outputs": [],
   "source": [
    "prob = LpProblem(\"Giapetto\", LpMaximize)\n",
    "x1 = LpVariable(\"x1\", lowBound=0, cat='Integer') # Integer variable x1 >= 0\n",
    "x2 = LpVariable(\"x2\", lowBound=0, cat='Integer') # Integer variable x2 >= 0\n",
    "prob += 20*x1 + 30*x2\n",
    "prob += 1*x1 + 2*x2 <= 100\n",
    "prob += 2*x1 + 1*x2 <= 100\n",
    "prob += x1 == 0\n",
    "prob\n",
    "status = prob.solve()  # Solve with the default solver\n",
    "LpStatus[status]  # Print the solution status\n",
    "value(x1), value(x2), value(prob.objective)  # Show the solution"
   ]
  },
  {
   "cell_type": "code",
   "execution_count": null,
   "metadata": {},
   "outputs": [],
   "source": [
    "# making chairs only\n",
    "prob = LpProblem(\"Giapetto\", LpMaximize)\n",
    "x1 = LpVariable(\"x1\", lowBound=0, cat='Integer') # Integer variable x1 >= 0\n",
    "x2 = LpVariable(\"x2\", lowBound=0, cat='Integer') # Integer variable x2 >= 0\n",
    "prob += 20*x1 + 30*x2\n",
    "prob += 1*x1 + 2*x2 <= 100\n",
    "prob += 2*x1 + 1*x2 <= 100\n",
    "prob += x2 == 0\n",
    "prob\n",
    "status = prob.solve()  # Solve with the default solver\n",
    "LpStatus[status]  # Print the solution status\n",
    "value(x1), value(x2), value(prob.objective)  # Show the solution"
   ]
  },
  {
   "cell_type": "code",
   "execution_count": null,
   "metadata": {},
   "outputs": [],
   "source": []
  },
  {
   "cell_type": "code",
   "execution_count": null,
   "metadata": {},
   "outputs": [],
   "source": []
  },
  {
   "cell_type": "markdown",
   "metadata": {},
   "source": [
    "- Note the ILP solution is not just the rounded solutions of the continuous LP solution (33, 33, 1650)"
   ]
  },
  {
   "cell_type": "code",
   "execution_count": null,
   "metadata": {},
   "outputs": [],
   "source": [
    "%run giapetto_colormap.py"
   ]
  },
  {
   "cell_type": "markdown",
   "metadata": {},
   "source": [
    "### Other Examples and Operations Research Open Course"
   ]
  },
  {
   "cell_type": "markdown",
   "metadata": {},
   "source": [
    "- [pyOpt: a Python-based object-oriented framework for nonlinear constrained optimization]\n"
   ]
  },
  {
   "cell_type": "markdown",
   "metadata": {},
   "source": [
    "- Knapsack Problem\n",
    "- link: https://www.bing.com/images/search?view=detailV2&ccid=p4hFQvaR&id=5618A3CE16C5BCDAC2E425EEE1B16A9ABFDEF7D5&thid=OIP.p4hFQvaR-bsb613NYEy1jgHaGR&mediaurl=https%3a%2f%2fwww.researchgate.net%2fprofile%2fAlessandra_De_Benedictis%2fpublication%2f304904515%2ffigure%2fdownload%2ffig6%2fAS%3a668457410502669%401536384074687%2fThe-knapsack-problem-metaphoric-representation-image-by-DAKE-10-licensed-under-CC.ppm&cdnurl=https%3a%2f%2fth.bing.com%2fth%2fid%2fR.a7884542f691f9bb1beb5dcd604cb58e%3frik%3d1ffev5pqseHuJQ%26pid%3dImgRaw%26r%3d0&exph=705&expw=832&q=what+is+knapsack+problem&simid=608004259668771418&FORM=IRPRST&ck=780A0DA95BD23D8A8AC7E25E6FD3E72D&selectedIndex=1&ajaxhist=0&ajaxserp=0\n",
    "- If you are travelling, and needs to maximize the items value within limited bag capacity.items=[1,2,3,4], weights=[5,7,4,3]bounds, value=[16,22,12,8] in `$100`.\n",
    "- max capacity is 14 bounds.\n",
    "\n"
   ]
  },
  {
   "cell_type": "markdown",
   "metadata": {},
   "source": [
    "- Solution:\n",
    "- Let xj=1 if item j is taken, xj=0 otherwise. \n",
    "- max z=16x1+22x2+12x3+8x4\n",
    "-- such that:\n",
    "- 5x1+7x2+4x3+3x4<=14\n",
    "- xj belongs to {0,1}"
   ]
  },
  {
   "cell_type": "code",
   "execution_count": null,
   "metadata": {},
   "outputs": [],
   "source": []
  },
  {
   "cell_type": "code",
   "execution_count": 18,
   "metadata": {},
   "outputs": [
    {
     "name": "stderr",
     "output_type": "stream",
     "text": [
      "C:\\Users\\yasee\\anaconda3\\Lib\\site-packages\\pulp\\pulp.py:1298: UserWarning: Spaces are not permitted in the name. Converted to '_'\n",
      "  warnings.warn(\"Spaces are not permitted in the name. Converted to '_'\")\n"
     ]
    },
    {
     "data": {
      "text/plain": [
       "Knapsack_problem:\n",
       "MAXIMIZE\n",
       "16*x1 + 22*x2 + 12*x3 + 8*x4 + 0\n",
       "SUBJECT TO\n",
       "_C1: 5 x1 + 7 x2 + 4 x3 + 3 x4 <= 14\n",
       "\n",
       "VARIABLES\n",
       "0 <= x1 <= 1 Integer\n",
       "0 <= x2 <= 1 Integer\n",
       "0 <= x3 <= 1 Integer\n",
       "0 <= x4 <= 1 Integer"
      ]
     },
     "execution_count": 18,
     "metadata": {},
     "output_type": "execute_result"
    }
   ],
   "source": [
    "prob = LpProblem(\"Knapsack problem\", LpMaximize)\n",
    "x1 = LpVariable(\"x1\", lowBound=0, cat='Binary') \n",
    "x2 = LpVariable(\"x2\", lowBound=0,cat='Binary') \n",
    "x3 = LpVariable(\"x3\", lowBound=0,cat='Binary')\n",
    "x4 = LpVariable(\"x4\", lowBound=0,cat='Binary')\n",
    "prob += 16*x1+22*x2+12*x3+8*x4\n",
    "prob += 5*x1+7*x2+4*x3+3*x4<=14\n",
    "\n",
    "prob"
   ]
  },
  {
   "cell_type": "code",
   "execution_count": 20,
   "metadata": {},
   "outputs": [
    {
     "data": {
      "text/plain": [
       "'Optimal'"
      ]
     },
     "execution_count": 20,
     "metadata": {},
     "output_type": "execute_result"
    }
   ],
   "source": [
    "status = prob.solve()  # Solve with the default solver\n",
    "LpStatus[status]  # Print the solution status"
   ]
  },
  {
   "cell_type": "code",
   "execution_count": 22,
   "metadata": {},
   "outputs": [
    {
     "data": {
      "text/plain": [
       "(0.0, 1.0, 1.0, 1.0, 42.0)"
      ]
     },
     "execution_count": 22,
     "metadata": {},
     "output_type": "execute_result"
    }
   ],
   "source": [
    "value(x1), value(x2),value(x3), value(x4), value(prob.objective)  # Show the solution"
   ]
  },
  {
   "cell_type": "markdown",
   "metadata": {},
   "source": [
    "A company makes two products (Laptops and Phones) using two machines (A and B). Each unit of Laptops that is produced requires 50 minutes processing time on machine A and 30 minutes processing time on machine B. Each unit of Phones that is produced requires 24 minutes processing time on machine A and 33 minutes processing time on machine B.\n",
    "\n",
    "At the start of the current week there are 30 units of Laptops and 90 units of Phones in stock. Available processing time on machine A is forecast to be 40 hours and on machine B is forecast to be 35 hours.\n",
    "\n",
    "The demand for Laptops in the current week is forecast to be 75 units and for Phones is forecast to be 95 units. Company policy is to maximise the combined sum of the units of Laptops and the units of Phones in stock at the end of the week."
   ]
  },
  {
   "cell_type": "code",
   "execution_count": null,
   "metadata": {},
   "outputs": [],
   "source": []
  },
  {
   "cell_type": "markdown",
   "metadata": {},
   "source": [
    "- Let x1 be the number of units of laptops produced in the current week\n",
    "- x2 be the number of units of phones produced in the current week"
   ]
  },
  {
   "cell_type": "markdown",
   "metadata": {},
   "source": [
    "- 50x1 + 24x2 <= 40*60 machine A time\n",
    "- 30x1 + 33x2 <= 35*60 machine B time\n",
    "- x1 >= 75 - 30 laptops\n",
    "- x2 >= 95-90  phones\n",
    "The objective is to maximize # of units (x1+x2)\n"
   ]
  },
  {
   "cell_type": "code",
   "execution_count": 24,
   "metadata": {},
   "outputs": [
    {
     "data": {
      "text/plain": [
       "Company_Demand_Problem:\n",
       "MAXIMIZE\n",
       "1*x1 + 1*x2 + 0\n",
       "SUBJECT TO\n",
       "_C1: 50 x1 + 24 x2 <= 2400\n",
       "\n",
       "_C2: 30 x1 + 33 x2 <= 2100\n",
       "\n",
       "_C3: x1 >= 45\n",
       "\n",
       "_C4: x2 >= 5\n",
       "\n",
       "VARIABLES\n",
       "0 <= x1 Integer\n",
       "0 <= x2 Integer"
      ]
     },
     "execution_count": 24,
     "metadata": {},
     "output_type": "execute_result"
    }
   ],
   "source": [
    "prob = LpProblem(\"Company Demand Problem\", LpMaximize)\n",
    "x1 = LpVariable(\"x1\", lowBound=0, cat='Integer') # Integer variable x1 >= 0\n",
    "x2 = LpVariable(\"x2\", lowBound=0, cat='Integer') # Integer variable x2 >= 0\n",
    "prob += x1+x2\n",
    "prob += 50*x1 + 24*x2 <= 40*60 # machine A minutes\n",
    "prob += 30*x1 + 33*x2 <= 35*60 # machine B minutes\n",
    "prob += x1 >= 45\n",
    "prob += x2>= 5\n",
    "prob"
   ]
  },
  {
   "cell_type": "code",
   "execution_count": 26,
   "metadata": {},
   "outputs": [
    {
     "data": {
      "text/plain": [
       "'Optimal'"
      ]
     },
     "execution_count": 26,
     "metadata": {},
     "output_type": "execute_result"
    }
   ],
   "source": [
    "status = prob.solve()  # Solve with the default solver\n",
    "LpStatus[status]  # Print the solution status\n"
   ]
  },
  {
   "cell_type": "code",
   "execution_count": 28,
   "metadata": {},
   "outputs": [
    {
     "data": {
      "text/plain": [
       "(45.0, 6.0, 51.0)"
      ]
     },
     "execution_count": 28,
     "metadata": {},
     "output_type": "execute_result"
    }
   ],
   "source": [
    "value(x1), value(x2), value(prob.objective)  # Show the solution"
   ]
  },
  {
   "cell_type": "code",
   "execution_count": null,
   "metadata": {},
   "outputs": [],
   "source": []
  },
  {
   "cell_type": "code",
   "execution_count": null,
   "metadata": {},
   "outputs": [],
   "source": []
  }
 ],
 "metadata": {
  "kernelspec": {
   "display_name": "Python 3 (ipykernel)",
   "language": "python",
   "name": "python3"
  },
  "language_info": {
   "codemirror_mode": {
    "name": "ipython",
    "version": 3
   },
   "file_extension": ".py",
   "mimetype": "text/x-python",
   "name": "python",
   "nbconvert_exporter": "python",
   "pygments_lexer": "ipython3",
   "version": "3.12.4"
  }
 },
 "nbformat": 4,
 "nbformat_minor": 4
}
