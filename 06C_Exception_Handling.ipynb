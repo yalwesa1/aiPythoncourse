{
 "cells": [
  {
   "cell_type": "markdown",
   "metadata": {
    "collapsed": true,
    "jupyter": {
     "outputs_hidden": true
    }
   },
   "source": [
    "# Exception Handling"
   ]
  },
  {
   "cell_type": "markdown",
   "metadata": {},
   "source": [
    "#### What is Exception Handling in Python?: https://chatgpt.com/share/66ef7f80-129c-8000-aa12-7385b3719c47"
   ]
  },
  {
   "cell_type": "code",
   "execution_count": 5,
   "metadata": {},
   "outputs": [
    {
     "name": "stdin",
     "output_type": "stream",
     "text": [
      "Enter a number:  4.9\n"
     ]
    },
    {
     "ename": "ValueError",
     "evalue": "invalid literal for int() with base 10: '4.9'",
     "output_type": "error",
     "traceback": [
      "\u001b[1;31m---------------------------------------------------------------------------\u001b[0m",
      "\u001b[1;31mValueError\u001b[0m                                Traceback (most recent call last)",
      "Cell \u001b[1;32mIn[5], line 3\u001b[0m\n\u001b[0;32m      1\u001b[0m \u001b[38;5;66;03m# Example without exception handling\u001b[39;00m\n\u001b[0;32m      2\u001b[0m \u001b[38;5;66;03m## try 5, 0, 4.9\u001b[39;00m\n\u001b[1;32m----> 3\u001b[0m number \u001b[38;5;241m=\u001b[39m \u001b[38;5;28mint\u001b[39m(\u001b[38;5;28minput\u001b[39m(\u001b[38;5;124m\"\u001b[39m\u001b[38;5;124mEnter a number: \u001b[39m\u001b[38;5;124m\"\u001b[39m))\n\u001b[0;32m      4\u001b[0m result \u001b[38;5;241m=\u001b[39m \u001b[38;5;241m10\u001b[39m \u001b[38;5;241m/\u001b[39m number\n\u001b[0;32m      5\u001b[0m result\n",
      "\u001b[1;31mValueError\u001b[0m: invalid literal for int() with base 10: '4.9'"
     ]
    }
   ],
   "source": [
    "# Example without exception handling\n",
    "## try 5, 0, 4.9\n",
    "number = int(input(\"Enter a number: \"))\n",
    "result = 10 / number\n",
    "result"
   ]
  },
  {
   "cell_type": "markdown",
   "metadata": {},
   "source": [
    "### How to handle code crashes or error messages??"
   ]
  },
  {
   "cell_type": "code",
   "execution_count": 9,
   "metadata": {},
   "outputs": [
    {
     "name": "stdin",
     "output_type": "stream",
     "text": [
      "Enter a number:  4.9\n"
     ]
    },
    {
     "name": "stdout",
     "output_type": "stream",
     "text": [
      "Please enter a valid integer.\n",
      "Execution completed.\n"
     ]
    }
   ],
   "source": [
    "try:\n",
    "    number = int(input(\"Enter a number: \"))\n",
    "    result = 10 / number\n",
    "except ValueError:\n",
    "    print(\"Please enter a valid integer.\")\n",
    "except ZeroDivisionError:\n",
    "    print(\"You can't divide by zero!\")\n",
    "else:\n",
    "    print(f\"Result is {result}\")\n",
    "finally:\n",
    "    print(\"Execution completed.\")\n"
   ]
  },
  {
   "cell_type": "markdown",
   "metadata": {},
   "source": [
    "### Syntax"
   ]
  },
  {
   "cell_type": "markdown",
   "metadata": {},
   "source": [
    "- Exception handling is a decision structure that catches and deals with runtime errors.\n",
    "- If a run-time error occurs, the try statement looks for a matching error type in order.\n",
    "    - If one match is found, the corresponding handling block will be executed; \n",
    "    - If no match, handling block n under the last `except` will be executed.\n",
    "\n",
    "```python\n",
    "try:\n",
    "    statement_block\n",
    "except error_type_1:\n",
    "    handling_block_1\n",
    "except error_type_2:\n",
    "    handling_block_2\n",
    "...\n",
    "except:\n",
    "    handling_block_n\n",
    "```"
   ]
  },
  {
   "cell_type": "markdown",
   "metadata": {},
   "source": [
    "### Examples without Exception Handling"
   ]
  },
  {
   "cell_type": "markdown",
   "metadata": {},
   "source": [
    "- The roots of a quadratic equation $ax^2+bx+c=0$ are $$x_{1,2}=\\frac{-b\\pm\\sqrt{b^2-4ac}}{2a}.$$"
   ]
  },
  {
   "cell_type": "code",
   "execution_count": null,
   "metadata": {},
   "outputs": [],
   "source": [
    "import math\n",
    "def quadratic1():\n",
    "    a, b, c = eval(input('Enter the comma-separated values for a, b, and c: '))\n",
    "    temp = math.sqrt(b**2 - 4*a*c)\n",
    "    r1 = (-b+temp) / (2*a)\n",
    "    r2 = (-b-temp) / (2*a)\n",
    "    print('The roots are:', r1, r2)"
   ]
  },
  {
   "cell_type": "code",
   "execution_count": null,
   "metadata": {
    "scrolled": true
   },
   "outputs": [],
   "source": [
    "quadratic1()"
   ]
  },
  {
   "cell_type": "code",
   "execution_count": null,
   "metadata": {
    "scrolled": true
   },
   "outputs": [],
   "source": [
    "quadratic1()"
   ]
  },
  {
   "cell_type": "code",
   "execution_count": null,
   "metadata": {},
   "outputs": [],
   "source": [
    "quadratic1()"
   ]
  },
  {
   "cell_type": "code",
   "execution_count": null,
   "metadata": {},
   "outputs": [],
   "source": [
    "quadratic1()"
   ]
  },
  {
   "cell_type": "code",
   "execution_count": null,
   "metadata": {
    "scrolled": true
   },
   "outputs": [],
   "source": [
    "quadratic1()"
   ]
  },
  {
   "cell_type": "code",
   "execution_count": null,
   "metadata": {},
   "outputs": [],
   "source": [
    "quadratic1()"
   ]
  },
  {
   "cell_type": "code",
   "execution_count": null,
   "metadata": {},
   "outputs": [],
   "source": [
    "quadratic1()"
   ]
  },
  {
   "cell_type": "markdown",
   "metadata": {},
   "source": [
    "### Examples with Exception Handling"
   ]
  },
  {
   "cell_type": "code",
   "execution_count": null,
   "metadata": {},
   "outputs": [],
   "source": [
    "import math\n",
    "def quadratic2():\n",
    "    try:\n",
    "        a, b, c = eval(input('Enter the comma-separated values for a, b, and c: '))\n",
    "        temp = math.sqrt(b**2 - 4*a*c)\n",
    "        r1 = (-b+temp) / (2*a)\n",
    "        r2 = (-b-temp) / (2*a)\n",
    "        print('The roots are:', r1, r2)\n",
    "    except ValueError as exc_obj:\n",
    "        if str(exc_obj) == \"math domain error\":\n",
    "            print(\"ValueError: No real roots\")\n",
    "        else:\n",
    "            print(\"ValueError: You didn't give me the right number of inputs.\")\n",
    "    except NameError:\n",
    "        print(\"NameError: A variable was not defined.\")\n",
    "    except TypeError:\n",
    "        print(\"TypeError: Your inputs were not all numbers.\")\n",
    "    except SyntaxError:\n",
    "        print(\"SyntaxError: Inputs were not in the correct form.\")\n",
    "    except:\n",
    "        print(\"Something else went wrong and it's beyond my knowledge.\")"
   ]
  },
  {
   "cell_type": "code",
   "execution_count": null,
   "metadata": {},
   "outputs": [],
   "source": [
    "quadratic2()"
   ]
  },
  {
   "cell_type": "code",
   "execution_count": null,
   "metadata": {},
   "outputs": [],
   "source": [
    "quadratic2()"
   ]
  },
  {
   "cell_type": "code",
   "execution_count": null,
   "metadata": {},
   "outputs": [],
   "source": [
    "quadratic2()"
   ]
  },
  {
   "cell_type": "code",
   "execution_count": null,
   "metadata": {},
   "outputs": [],
   "source": [
    "quadratic2()"
   ]
  },
  {
   "cell_type": "code",
   "execution_count": null,
   "metadata": {},
   "outputs": [],
   "source": [
    "quadratic2()"
   ]
  },
  {
   "cell_type": "code",
   "execution_count": null,
   "metadata": {},
   "outputs": [],
   "source": [
    "quadratic2()"
   ]
  },
  {
   "cell_type": "code",
   "execution_count": null,
   "metadata": {
    "scrolled": true
   },
   "outputs": [],
   "source": [
    "quadratic2()"
   ]
  }
 ],
 "metadata": {
  "kernelspec": {
   "display_name": "Python 3 (ipykernel)",
   "language": "python",
   "name": "python3"
  },
  "language_info": {
   "codemirror_mode": {
    "name": "ipython",
    "version": 3
   },
   "file_extension": ".py",
   "mimetype": "text/x-python",
   "name": "python",
   "nbconvert_exporter": "python",
   "pygments_lexer": "ipython3",
   "version": "3.12.4"
  }
 },
 "nbformat": 4,
 "nbformat_minor": 4
}
