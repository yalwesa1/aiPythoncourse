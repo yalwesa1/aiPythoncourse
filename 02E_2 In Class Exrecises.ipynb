{
 "cells": [
  {
   "cell_type": "markdown",
   "id": "e000edf3-0b0c-4c37-aa14-ed5319b8c785",
   "metadata": {},
   "source": [
    "# Part 2"
   ]
  },
  {
   "cell_type": "markdown",
   "id": "1166e775-9cd8-4968-83c3-ab7860d51b06",
   "metadata": {},
   "source": [
    "## Exercise 1: Basic Function Definition\n",
    "Question: Write a function named greet that takes one argument, name, and prints a greeting message in the format \"Hello, <name>!\". Then, call the function with your name as the argument.\n",
    "\n",
    "## Tip:\n",
    "\n",
    "Remember to use the `def' keyword to define a function.\n",
    "The argument name should be placed within the parentheses following the function name.\n",
    "Use an f-string to create the greeting message."
   ]
  },
  {
   "cell_type": "markdown",
   "id": "1a174f46-f3fc-44c8-8cba-26a868cee896",
   "metadata": {},
   "source": [
    "## Exercise 2: Function with Multiple Parameters\n",
    "Question: Create a function called add_numbers that takes two arguments, num1 and num2. The function should return the sum of these two numbers.\n",
    "\n",
    "## Tip:\n",
    "\n",
    "Define the function with two parameters.\n",
    "Use the return statement to output the result of adding the two numbers.\n",
    "Test your function by calling it with different pairs of numbers."
   ]
  },
  {
   "cell_type": "raw",
   "id": "6cf7858c-feb8-4449-8ea0-fce8f5df407f",
   "metadata": {},
   "source": [
    "Example:\n",
    "result = add_numbers(5, 10)\n",
    "print(result)\n"
   ]
  },
  {
   "cell_type": "markdown",
   "id": "9ae696e7-d5b1-490d-9f56-f80d417e2574",
   "metadata": {},
   "source": [
    "## Exercise 3: Default Parameter Values\n",
    "Question: Write a function called describe_pet that takes two arguments: animal_type and pet_name. The function should print a message describing the pet. Set the default value of animal_type to \"dog\". Test the function by calling it with and without specifying the animal_type.\n",
    "\n",
    "## Tip:\n",
    "\n",
    "Use default parameter values by assigning a value in the function definition.\n",
    "When calling the function, try both using and omitting the animal_type argument to see how the default value works.\n",
    "## Example Calls:"
   ]
  },
  {
   "cell_type": "markdown",
   "id": "3822bc69-bde1-40e5-8cb3-43db222ff144",
   "metadata": {},
   "source": [
    "describe_pet(\"cat\", \"Whiskers\")\n",
    "\n",
    "describe_pet(pet_name=\"Buddy\")\n"
   ]
  },
  {
   "cell_type": "markdown",
   "id": "8dc36052-cabd-4fcb-8949-6bdfa7743612",
   "metadata": {},
   "source": [
    "## Exercise 4: Returning Multiple Values\n",
    "Question: Create a function named get_full_name that takes two arguments, first_name and last_name. The function should return the full name in the format \"<first_name> <last_name>\". Modify the function to also return the full name in uppercase.\n",
    "\n",
    "## Tip:\n",
    "\n",
    "You can return multiple values by separating them with commas.\n",
    "Use the upper() method to convert strings to uppercase.\n",
    "When calling the function, make sure to capture both returned values.\n",
    "## Example Call:\n",
    "full_name, full_name_upper = get_full_name(\"John\", \"Doe\")\n",
    "\n",
    "print(full_name)\n",
    "\n",
    "print(full_name_upper)\n"
   ]
  },
  {
   "cell_type": "markdown",
   "id": "e848bba5-b076-4ef7-b7d0-dee14242479e",
   "metadata": {},
   "source": [
    "## Exercise 5: Functions with Variable-Length Arguments\n",
    "Question: Define a function called calculate_average that accepts any number of numerical arguments. The function should return the average of the numbers.\n",
    "\n",
    "## Tip:\n",
    "\n",
    "Use *args to allow the function to accept a variable number of arguments.\n",
    "Remember to calculate the sum and count of the arguments to compute the average.\n",
    "Test the function with different numbers of arguments to ensure it works correctly.\n",
    "Example Call:\n",
    "\n",
    "average = calculate_average(10, 20, 30, 40)\n",
    "\r\n",
    "print(average)\r\n"
   ]
  },
  {
   "cell_type": "markdown",
   "id": "e2aa597a-6126-4bb4-8ddc-7531be8ff25c",
   "metadata": {},
   "source": [
    "## Excercise 6: Using Coding Bat\n",
    " [CodingBat](https://codingbat.com/python)\n",
    "- Choose Warm-up 2: pick three problems\n",
    "    - "
   ]
  },
  {
   "cell_type": "markdown",
   "id": "fc2416d9-57be-4cce-9f8f-908032ea3fad",
   "metadata": {},
   "source": [
    "Q1)"
   ]
  },
  {
   "cell_type": "code",
   "execution_count": 2,
   "id": "e53ebc84-a390-4117-9529-81186b811780",
   "metadata": {},
   "outputs": [
    {
     "name": "stdout",
     "output_type": "stream",
     "text": [
      "Hello,Aashima Sharma\n"
     ]
    }
   ],
   "source": [
    "def greet(name):\n",
    "    print (f\"Hello,{name}\")\n",
    "greet (\"Aashima Sharma\")"
   ]
  },
  {
   "cell_type": "code",
   "execution_count": null,
   "id": "424f462b-c37f-422e-ad01-c12249e21ec9",
   "metadata": {},
   "outputs": [],
   "source": []
  },
  {
   "cell_type": "code",
   "execution_count": null,
   "id": "40a3b47b-3fee-4bdd-ad3f-82af66299f1c",
   "metadata": {},
   "outputs": [],
   "source": []
  },
  {
   "cell_type": "code",
   "execution_count": null,
   "id": "aa5bb683-7317-46ae-9830-28572af55022",
   "metadata": {},
   "outputs": [],
   "source": []
  },
  {
   "cell_type": "code",
   "execution_count": null,
   "id": "c1cb52e9-6727-446a-bb92-4f0a0b3735cb",
   "metadata": {},
   "outputs": [],
   "source": []
  },
  {
   "cell_type": "code",
   "execution_count": null,
   "id": "5023084e-0987-4b7c-bea0-c1561dcc9369",
   "metadata": {},
   "outputs": [],
   "source": []
  },
  {
   "cell_type": "code",
   "execution_count": null,
   "id": "69bcb7d3-3199-4adf-8075-e0923bcf6120",
   "metadata": {},
   "outputs": [],
   "source": []
  },
  {
   "cell_type": "markdown",
   "id": "97214536-a766-4802-951b-540fc8a5bf34",
   "metadata": {},
   "source": [
    "## Answers"
   ]
  },
  {
   "cell_type": "code",
   "execution_count": 5,
   "id": "5576e4a7-ae2f-4436-b742-ea934763b925",
   "metadata": {},
   "outputs": [
    {
     "name": "stdout",
     "output_type": "stream",
     "text": [
      "Hello, Yaseen!\n"
     ]
    }
   ],
   "source": [
    "#Exercise 1: Basic Function Definition\n",
    "def greet(name):\n",
    "    print(f\"Hello, {name}!\")\n",
    "\n",
    "# Example Call\n",
    "greet(\"Yaseen\")\n"
   ]
  },
  {
   "cell_type": "code",
   "execution_count": 37,
   "id": "d83d1889-1b45-454c-973c-6745b291e79f",
   "metadata": {},
   "outputs": [
    {
     "name": "stdout",
     "output_type": "stream",
     "text": [
      "15\n"
     ]
    }
   ],
   "source": [
    "# Exercise 2: Function with Multiple Parameters\n",
    "def add_numbers(num1, num2):\n",
    "    return num1 + num2\n",
    "\n",
    "# Example Call\n",
    "result = add_numbers(5, 10)\n",
    "print(result)\n"
   ]
  },
  {
   "cell_type": "code",
   "execution_count": 39,
   "id": "b1d7023c-0041-4e97-9ffe-aa3ce1eb75b9",
   "metadata": {},
   "outputs": [
    {
     "name": "stdout",
     "output_type": "stream",
     "text": [
      "I have a cat named Whiskers.\n",
      "I have a dog named Buddy.\n"
     ]
    }
   ],
   "source": [
    "# Exercise 3: Default Parameter Values\n",
    "def describe_pet(pet_name, animal_type=\"dog\"):\n",
    "    print(f\"I have a {animal_type} named {pet_name}.\")\n",
    "\n",
    "# Example Calls\n",
    "describe_pet(\"Whiskers\", \"cat\")\n",
    "describe_pet(\"Buddy\")\n"
   ]
  },
  {
   "cell_type": "code",
   "execution_count": 43,
   "id": "1ed19b4f-684f-4f17-809d-34bdb36fc327",
   "metadata": {},
   "outputs": [
    {
     "name": "stdout",
     "output_type": "stream",
     "text": [
      "John Doe\n",
      "JOHN DOE\n"
     ]
    }
   ],
   "source": [
    "# Exercise 4: Returning Multiple Values\n",
    "\n",
    "def get_full_name(first_name, last_name):\n",
    "    full_name = f\"{first_name} {last_name}\"\n",
    "    full_name_upper = full_name.upper()\n",
    "    return full_name, full_name_upper\n",
    "\n",
    "# Example Call\n",
    "full_name, full_name_upper = get_full_name(\"John\", \"Doe\")\n",
    "print(full_name)\n",
    "print(full_name_upper)\n"
   ]
  },
  {
   "cell_type": "code",
   "execution_count": 45,
   "id": "31ad8f37-19a8-4e8d-9b6a-1c5b55fd0e50",
   "metadata": {},
   "outputs": [
    {
     "name": "stdout",
     "output_type": "stream",
     "text": [
      "25.0\n"
     ]
    }
   ],
   "source": [
    "# Exercise 5: Functions with Variable-Length Arguments\n",
    "def calculate_average(*args):\n",
    "    if len(args) == 0:\n",
    "        return 0  # Handle the case where no arguments are provided\n",
    "    return sum(args) / len(args)\n",
    "\n",
    "# Example Call\n",
    "average = calculate_average(10, 20, 30, 40)\n",
    "print(average)\n"
   ]
  },
  {
   "cell_type": "code",
   "execution_count": null,
   "id": "c7b39dde-06b2-4bad-aa94-4b40026b99d6",
   "metadata": {},
   "outputs": [],
   "source": []
  },
  {
   "cell_type": "code",
   "execution_count": null,
   "id": "f5e58d31-7246-4938-bbed-48ec3693f06e",
   "metadata": {},
   "outputs": [],
   "source": []
  },
  {
   "cell_type": "code",
   "execution_count": 5,
   "id": "dbc52c76-9323-4f34-8d35-8a74e9070003",
   "metadata": {},
   "outputs": [
    {
     "name": "stdout",
     "output_type": "stream",
     "text": [
      "The sum is: 10\n"
     ]
    }
   ],
   "source": [
    "#correct the error here!\n",
    "\n",
    "def calculate_sum():\n",
    "    total = 0\n",
    "    for i in range(1, 5):\n",
    "        total =total+ i\n",
    "    return total\n",
    "\n",
    "result = calculate_sum()\n",
    "print(\"The sum is:\", result)\n"
   ]
  },
  {
   "cell_type": "code",
   "execution_count": null,
   "id": "5dabfdaa-9469-4581-a2b0-9193c47d725a",
   "metadata": {},
   "outputs": [],
   "source": []
  },
  {
   "cell_type": "code",
   "execution_count": null,
   "id": "37c58255-9b77-4aa2-b59f-cd9bf8a4f5ae",
   "metadata": {},
   "outputs": [],
   "source": []
  },
  {
   "cell_type": "markdown",
   "id": "1bdee73b-76ab-454f-ab99-a7c2789eadbb",
   "metadata": {},
   "source": [
    "## Use the following exercises after learning if statement, def, and for loop. "
   ]
  },
  {
   "cell_type": "markdown",
   "id": "fa272d4e-46ae-4d4f-a9f8-4983167960de",
   "metadata": {},
   "source": [
    "# 1. AI help coding: Use ChatGPT\n",
    "Can you help me design a game concept that teaches basic programming skills? Start by asking me which programming language I'd like to focus on."
   ]
  },
  {
   "cell_type": "markdown",
   "id": "13e53601-6155-43e0-aaa6-150018fdafcb",
   "metadata": {},
   "source": [
    "## 2. Algorithm's Excercises"
   ]
  },
  {
   "cell_type": "markdown",
   "id": "ab4e143e-4197-491e-bcb7-c4ca9a05add9",
   "metadata": {},
   "source": [
    "https://chatgpt.com/share/791d82df-c02e-44f2-b47b-43875d3d2081"
   ]
  },
  {
   "cell_type": "markdown",
   "id": "8f344c4f-c6ea-4629-a439-56a2477690af",
   "metadata": {},
   "source": [
    "Help me create 5 examples to teach Python beginners learning how to write algorithms for a given problem, then generate a corresponding Python code to address the problem. Examples include input function if statement, def function, and for loop. "
   ]
  },
  {
   "cell_type": "code",
   "execution_count": null,
   "id": "e34af91d-1430-4867-8838-d3d68e9eaaa1",
   "metadata": {},
   "outputs": [],
   "source": []
  }
 ],
 "metadata": {
  "kernelspec": {
   "display_name": "Python 3 (ipykernel)",
   "language": "python",
   "name": "python3"
  },
  "language_info": {
   "codemirror_mode": {
    "name": "ipython",
    "version": 3
   },
   "file_extension": ".py",
   "mimetype": "text/x-python",
   "name": "python",
   "nbconvert_exporter": "python",
   "pygments_lexer": "ipython3",
   "version": "3.12.4"
  }
 },
 "nbformat": 4,
 "nbformat_minor": 5
}
