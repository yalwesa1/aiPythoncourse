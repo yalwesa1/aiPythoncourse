{
 "cells": [
  {
   "cell_type": "code",
   "execution_count": 4,
   "id": "28bf47c0",
   "metadata": {},
   "outputs": [],
   "source": [
    "import tkinter as tk\n",
    "\n",
    "# Function to update the display when a button is pressed\n",
    "def click(button_text):\n",
    "    current_text = display_var.get()\n",
    "    if button_text == '=':\n",
    "        try:\n",
    "            result = eval(current_text)\n",
    "            display_var.set(result)\n",
    "        except Exception as e:\n",
    "            display_var.set('Error')\n",
    "    elif button_text == 'C':\n",
    "        display_var.set('')\n",
    "    else:\n",
    "        new_text = current_text + button_text\n",
    "        display_var.set(new_text)\n",
    "\n",
    "# Create the main window\n",
    "root = tk.Tk()\n",
    "root.title(\"Dr. Alwesabi Calculator\")\n",
    "\n",
    "# Variable to store the display text\n",
    "display_var = tk.StringVar()\n",
    "\n",
    "# Create the display widget\n",
    "display = tk.Entry(root, textvariable=display_var, font=(\"Arial\", 24), bd=10, relief=\"ridge\", justify=\"right\")\n",
    "display.grid(row=0, column=0, columnspan=4)\n",
    "\n",
    "# Define button labels and their positions\n",
    "buttons = [\n",
    "    ('7', 1, 0), ('8', 1, 1), ('9', 1, 2), ('/', 1, 3),\n",
    "    ('4', 2, 0), ('5', 2, 1), ('6', 2, 2), ('*', 2, 3),\n",
    "    ('1', 3, 0), ('2', 3, 1), ('3', 3, 2), ('-', 3, 3),\n",
    "    ('0', 4, 0), ('.', 4, 1), ('+', 4, 2), ('=', 4, 3),\n",
    "    ('C', 5, 0)\n",
    "]\n",
    "\n",
    "# Create and place the buttons\n",
    "for (text, row, col) in buttons:\n",
    "    button = tk.Button(root, text=text, font=(\"Arial\", 18), width=5, height=2,\n",
    "                       command=lambda t=text: click(t))\n",
    "    button.grid(row=row, column=col, padx=5, pady=5)\n",
    "\n",
    "# Run the GUI event loop\n",
    "root.mainloop()\n"
   ]
  },
  {
   "cell_type": "code",
   "execution_count": null,
   "id": "ec51125c",
   "metadata": {},
   "outputs": [],
   "source": []
  },
  {
   "cell_type": "code",
   "execution_count": null,
   "id": "4cd15e5b-80bf-45f8-a43e-46107b9e16e8",
   "metadata": {},
   "outputs": [],
   "source": []
  }
 ],
 "metadata": {
  "kernelspec": {
   "display_name": "Python 3 (ipykernel)",
   "language": "python",
   "name": "python3"
  },
  "language_info": {
   "codemirror_mode": {
    "name": "ipython",
    "version": 3
   },
   "file_extension": ".py",
   "mimetype": "text/x-python",
   "name": "python",
   "nbconvert_exporter": "python",
   "pygments_lexer": "ipython3",
   "version": "3.12.4"
  }
 },
 "nbformat": 4,
 "nbformat_minor": 5
}
